{
 "cells": [
  {
   "cell_type": "markdown",
   "metadata": {},
   "source": [
    "# Лабораторна робота №2. Розв’язання систем лінійних алгебраїчних рівнянь.\n",
    "\n",
    "### І. Написати програму, яка розв’язує систему лінійних алгебраїчних рівнянь двома методами:\n",
    "\n",
    "#### 1. Методом квадратних коренів\n",
    "#### 2. Методом Зейделя\n",
    "\n",
    "### ІІ. Знайти визначник матриці своїм прямим методом. Знайти число обумовленості.\n",
    "\n",
    "\n",
    "#### Розмірність матриці: 5х5\n"
   ]
  },
  {
   "cell_type": "markdown",
   "metadata": {},
   "source": [
    "### І. Написати програму, яка розв’язує систему лінійних алгебраїчних рівнянь двома методами:"
   ]
  },
  {
   "cell_type": "markdown",
   "metadata": {},
   "source": [
    "#### 1. Методом квадратних коренів"
   ]
  },
  {
   "cell_type": "code",
   "execution_count": 522,
   "metadata": {},
   "outputs": [],
   "source": [
    "import numpy as np\n",
    "\n",
    "# Input matrix: A - matrix of size n x n\n",
    "A = np.array([[1, 2, 3, 4, 5], [2, 1, 2, 3, 4], [3, 2, 1, 2, 3], [4, 3, 2, 1, 2], [5, 4, 3, 2, 1]])\n",
    "\n",
    "# Input vector: b - vector of size n\n",
    "b = np.array([1, 2, 3, 4, 5])"
   ]
  },
  {
   "cell_type": "markdown",
   "metadata": {},
   "source": [
    "##### 0) Перевірки умов:"
   ]
  },
  {
   "cell_type": "code",
   "execution_count": 523,
   "metadata": {},
   "outputs": [
    {
     "name": "stdout",
     "output_type": "stream",
     "text": [
      "True\n"
     ]
    }
   ],
   "source": [
    "# a) Симетричність матриці A\n",
    "\n",
    "def check_symetric(A) -> bool:\n",
    "    return np.allclose(A, A.T)\n",
    "\n",
    "print(check_symetric(A))"
   ]
  },
  {
   "cell_type": "code",
   "execution_count": 524,
   "metadata": {},
   "outputs": [
    {
     "name": "stdout",
     "output_type": "stream",
     "text": [
      "True\n"
     ]
    }
   ],
   "source": [
    "# b) Невиродженість матриці A (O(n^3))\n",
    "\n",
    "def check_singular(A) -> bool:\n",
    "    return np.linalg.det(A) != 0\n",
    "\n",
    "print(check_singular(A))"
   ]
  },
  {
   "cell_type": "markdown",
   "metadata": {},
   "source": [
    "##### 1) Знаходимо розклад матрицi A = S.T * D * S "
   ]
  },
  {
   "cell_type": "code",
   "execution_count": 525,
   "metadata": {},
   "outputs": [
    {
     "name": "stdout",
     "output_type": "stream",
     "text": [
      "S:\n",
      "[[1.         2.         3.         4.         5.        ]\n",
      " [0.         1.73205081 2.30940108 2.88675135 3.46410162]\n",
      " [0.         0.         1.63299316 2.04124145 2.44948974]\n",
      " [0.         0.         0.         1.58113883 1.8973666 ]\n",
      " [0.         0.         0.         0.         1.54919334]]\n",
      "D:\n",
      "[[ 1.  0.  0.  0.  0.]\n",
      " [ 0. -1.  0.  0.  0.]\n",
      " [ 0.  0. -1.  0.  0.]\n",
      " [ 0.  0.  0. -1.  0.]\n",
      " [ 0.  0.  0.  0. -1.]]\n"
     ]
    }
   ],
   "source": [
    "def calculate_S_and_D(A):\n",
    "    S = np.zeros(A.shape)\n",
    "    D = np.zeros(A.shape)\n",
    "    D[0, 0] = np.sign(A[0, 0])\n",
    "    S[0, 0] = np.sqrt(np.abs(A[0, 0]))\n",
    "\n",
    "    for i in range(0, A.shape[0]):\n",
    "        for j in range(1, A.shape[1]):\n",
    "            if i == j:\n",
    "                suma = 0\n",
    "                for p in range(j):\n",
    "                    suma += S[p, j] ** 2 * D[p, p]\n",
    "                \n",
    "                D[j, j] = np.sign(A[j, j] - suma)\n",
    "                S[j, j] = np.sqrt(np.abs(A[j, j] - suma))\n",
    "\n",
    "            elif j > i:\n",
    "                suma = 0\n",
    "                for p in range(i):\n",
    "                    suma += S[p, i] * D[p, p] * S[p, j]\n",
    "                \n",
    "                S[i, j] = (A[i, j] - suma) / (S[i, i] * D[i, i])\n",
    "                    \n",
    "                \n",
    "    return S, D\n",
    "\n",
    "S, D = calculate_S_and_D(A)\n",
    "print(\"S:\")\n",
    "print(S)\n",
    "print(\"D:\")\n",
    "print(D)"
   ]
  },
  {
   "cell_type": "markdown",
   "metadata": {},
   "source": [
    "##### 2. Знаходимо розв’язок системи рiвнянь S.T * D * y = b та S * x = y."
   ]
  },
  {
   "cell_type": "code",
   "execution_count": 526,
   "metadata": {},
   "outputs": [
    {
     "name": "stdout",
     "output_type": "stream",
     "text": [
      "STD:\n",
      "[[ 1.          0.          0.          0.          0.        ]\n",
      " [ 2.         -1.73205081  0.          0.          0.        ]\n",
      " [ 3.         -2.30940108 -1.63299316  0.          0.        ]\n",
      " [ 4.         -2.88675135 -2.04124145 -1.58113883  0.        ]\n",
      " [ 5.         -3.46410162 -2.44948974 -1.8973666  -1.54919334]]\n",
      "b:\n",
      "[1 2 3 4 5]\n",
      "y:\n",
      "[ 1. -0. -0. -0. -0.]\n"
     ]
    }
   ],
   "source": [
    "def solve_equation_in_reverse(A, b):\n",
    "    x = np.zeros(b.shape)\n",
    "    for i in range(A.shape[0] - 1, -1, -1):\n",
    "        suma = 0\n",
    "        for j in range(i + 1, A.shape[1]):\n",
    "            suma += A[i, j] * x[j]\n",
    "        x[i] = (b[i] - suma) / A[i, i]\n",
    "\n",
    "    return x\n",
    "\n",
    "def solve_equation_in_forward(A, b):\n",
    "    x = np.zeros(b.shape)\n",
    "    for i in range(A.shape[0]):\n",
    "        suma = 0\n",
    "        for j in range(i):\n",
    "            suma += A[i, j] * x[j]\n",
    "        x[i] = (b[i] - suma) / A[i, i]\n",
    "\n",
    "    return x\n",
    "\n",
    "STD = S.T @ D\n",
    "print(\"STD:\")\n",
    "print(STD)\n",
    "\n",
    "print(\"b:\")\n",
    "print(b)\n",
    "\n",
    "y = solve_equation_in_forward(STD, b)\n",
    "print(\"y:\")\n",
    "print(y)"
   ]
  },
  {
   "cell_type": "code",
   "execution_count": 527,
   "metadata": {},
   "outputs": [
    {
     "name": "stdout",
     "output_type": "stream",
     "text": [
      "x:\n",
      "[ 1. -0. -0. -0. -0.]\n"
     ]
    }
   ],
   "source": [
    "x = solve_equation_in_reverse(S, y)\n",
    "\n",
    "print(\"x:\")\n",
    "print(x)\n",
    "\n",
    "#print(\"np.linalg.solve:\")\n",
    "#print(np.linalg.solve(A, b))"
   ]
  },
  {
   "cell_type": "markdown",
   "metadata": {},
   "source": [
    "#### 2. Методом Зейделя"
   ]
  },
  {
   "cell_type": "code",
   "execution_count": 528,
   "metadata": {},
   "outputs": [],
   "source": [
    "# Input matrix: A - matrix of size n x n\n",
    "A = np.array([\n",
    "    [10, 2, 3, 4, 5],\n",
    "    [2, 20, 6, 7, 8],\n",
    "    [3, 6, 30, 9, 10],\n",
    "    [4, 7, 9, 40, 11],\n",
    "    [5, 8, 10, 11, 50]\n",
    "])\n",
    "\n",
    "# Input vector: b - vector of size n\n",
    "b = np.array([1, 2, 3, 4, 5])"
   ]
  },
  {
   "cell_type": "markdown",
   "metadata": {},
   "source": [
    "##### 0) Перевірки умов збіжності (Достатню другу: Якщо A = A.T > 0, то iтерацiйний процес методу Зейделя збiгається, при чому швидкiсть збiжностi лiнiйна. Умова припинення: ||xn − xn−1|| ⩽ ε;): "
   ]
  },
  {
   "cell_type": "code",
   "execution_count": 529,
   "metadata": {},
   "outputs": [
    {
     "name": "stdout",
     "output_type": "stream",
     "text": [
      "Метод збігається\n"
     ]
    }
   ],
   "source": [
    "# A.T = A\n",
    "symetric = check_symetric(A) \n",
    "\n",
    "# calculate minors\n",
    "def calculate_minors_determinants(A):\n",
    "    minor_det = []\n",
    "    for i in range(A.shape[0]):\n",
    "        minor_det.append(np.linalg.det(A[:i + 1, :i + 1]))\n",
    "\n",
    "    return minor_det    \n",
    "\n",
    "minor_det = calculate_minors_determinants(A)\n",
    "\n",
    "if symetric and np.all(np.array(minor_det) > 0):\n",
    "    print(\"Метод збігається\")\n",
    "else:\n",
    "    print(\"Метод не збігається\")\n"
   ]
  },
  {
   "cell_type": "markdown",
   "metadata": {},
   "source": [
    "#### Рішення"
   ]
  },
  {
   "cell_type": "code",
   "execution_count": 530,
   "metadata": {},
   "outputs": [
    {
     "name": "stdout",
     "output_type": "stream",
     "text": [
      "next_x: \n",
      "[0.1      0.09     0.072    0.05805  0.048429]\n",
      "x:\n",
      "[0. 0. 0. 0. 0.]\n",
      "norma:\n",
      "0.1\n",
      "x:\n",
      "[0.1      0.09     0.072    0.05805  0.048429]\n",
      "norma:\n",
      "0.0870345\n",
      "x:\n",
      "[0.0129655  0.03741435 0.05766258 0.06586388 0.06669458]\n",
      "norma:\n",
      "0.007489520416300001\n",
      "x:\n",
      "[0.01552551 0.03141848 0.05017306 0.06331927 0.06945564]\n"
     ]
    }
   ],
   "source": [
    "eps = 0.01\n",
    "\n",
    "def calculate_next_x(A, b, x) -> np.array:\n",
    "    next_x = np.zeros(x.shape)\n",
    "    for i in range(A.shape[0]):\n",
    "        sum1 = 0\n",
    "        for j in range(i):\n",
    "            sum1 += A[i, j]/A[i, i] * next_x[j]\n",
    "        sum2 = 0\n",
    "        for j in range(i + 1, A.shape[0]):\n",
    "            sum2 += A[i, j]/A[i, i] * x[j]\n",
    "        \n",
    "        next_x[i] = -sum1 - sum2 + b[i]/A[i, i]\n",
    "    \n",
    "    return next_x\n",
    "\n",
    "def calculate_norm(x, next_x) -> float:\n",
    "    return np.linalg.norm(x - next_x, ord=np.inf)\n",
    "\n",
    "def solve_equation(A, b, eps):\n",
    "    x = np.zeros(b.shape)\n",
    "    next_x = calculate_next_x(A, b, x)\n",
    "    print(\"next_x: \")\n",
    "    print(next_x)\n",
    "    while True:\n",
    "        print(\"x:\")\n",
    "        print(x)\n",
    "        print(\"norma:\")\n",
    "        print(calculate_norm(x, next_x))\n",
    "\n",
    "        if calculate_norm(x, next_x) < eps:\n",
    "            break\n",
    "\n",
    "        x = next_x\n",
    "        next_x = calculate_next_x(A, b, x)\n",
    "\n",
    "    return next_x\n",
    "\n",
    "x = solve_equation(A, b, eps)\n",
    "print(\"x:\")\n",
    "print(x)\n",
    "\n",
    "#print(\"np.linalg.solve:\")\n",
    "#print(np.linalg.solve(A, b))"
   ]
  },
  {
   "cell_type": "markdown",
   "metadata": {},
   "source": [
    "### ІІ. Знайти визначник матриці своїм прямим методом. Знайти число обумовленості.\n"
   ]
  },
  {
   "cell_type": "markdown",
   "metadata": {},
   "source": [
    "#### Визначник матриці методом квадратних коренів:"
   ]
  },
  {
   "cell_type": "code",
   "execution_count": 531,
   "metadata": {},
   "outputs": [
    {
     "name": "stdout",
     "output_type": "stream",
     "text": [
      "det:\n",
      "8095852.000000001\n"
     ]
    }
   ],
   "source": [
    "def det(A):\n",
    "    S, D = calculate_S_and_D(A)\n",
    "    det = 1\n",
    "    for i in range(A.shape[0]):\n",
    "        det *= D[i, i] * S[i, i] ** 2\n",
    "\n",
    "    return det\n",
    "\n",
    "# A = np.array([[1, 2, 3], [2, 5, 5], [3, 5, 6]])\n",
    "print(\"det:\")\n",
    "print(det(A))\n",
    "\n",
    "#print(\"np.linalg.det:\")\n",
    "#print(np.linalg.det(A))"
   ]
  },
  {
   "cell_type": "markdown",
   "metadata": {},
   "source": [
    "#### Число обумовленості"
   ]
  },
  {
   "cell_type": "code",
   "execution_count": 532,
   "metadata": {},
   "outputs": [
    {
     "name": "stdout",
     "output_type": "stream",
     "text": [
      "Обернена матриця:\n",
      "[[ 0.10900347 -0.00376143 -0.00552209 -0.00688797 -0.00767875]\n",
      " [-0.00376143  0.05712851 -0.00715922 -0.00638006 -0.00592896]\n",
      " [-0.00552209 -0.00715922  0.03858334 -0.00555717 -0.00479641]\n",
      " [-0.00688797 -0.00638006 -0.00555717  0.0290366  -0.00356701]\n",
      " [-0.00767875 -0.00592896 -0.00479641 -0.00356701  0.02346053]]\n",
      "Перша норма початкової матриці:\n",
      "84.0\n",
      "Друга норма початкової матриці:\n",
      "66.66078897723524\n",
      "Перша норма оберненої матриці:\n",
      "0.13285371323487635\n",
      "Друга норма оберненої матриці:\n",
      "0.11061929865216583\n",
      "condtion_number:\n",
      "11.159711911729614\n"
     ]
    }
   ],
   "source": [
    "def condtion_number(A):\n",
    "    return np.linalg.norm(A, ord=np.inf) * np.linalg.norm(np.linalg.inv(A), ord=np.inf)\n",
    "\n",
    "\n",
    "print(\"Обернена матриця:\")\n",
    "print(np.linalg.inv(A))\n",
    "\n",
    "print(\"Перша норма початкової матриці:\")\n",
    "print(np.linalg.norm(A, ord=1))\n",
    "\n",
    "print(\"Друга норма початкової матриці:\")\n",
    "print(np.linalg.norm(A, ord=2))\n",
    "\n",
    "print(\"Перша норма оберненої матриці:\")\n",
    "print(np.linalg.norm(np.linalg.inv(A), ord=1))\n",
    "\n",
    "print(\"Друга норма оберненої матриці:\")\n",
    "print(np.linalg.norm(np.linalg.inv(A), ord=2))\n",
    "\n",
    "# A = np.array([[1, 0.99], [0.99, 0.98]])\n",
    "print(\"condtion_number:\")\n",
    "print(condtion_number(A))\n",
    "\n",
    "#print(\"np.linalg.cond:\")\n",
    "#print(np.linalg.cond(A, p=np.inf))"
   ]
  },
  {
   "cell_type": "code",
   "execution_count": null,
   "metadata": {},
   "outputs": [],
   "source": []
  }
 ],
 "metadata": {
  "kernelspec": {
   "display_name": "Python 3",
   "language": "python",
   "name": "python3"
  },
  "language_info": {
   "codemirror_mode": {
    "name": "ipython",
    "version": 3
   },
   "file_extension": ".py",
   "mimetype": "text/x-python",
   "name": "python",
   "nbconvert_exporter": "python",
   "pygments_lexer": "ipython3",
   "version": "3.11.3"
  }
 },
 "nbformat": 4,
 "nbformat_minor": 2
}
