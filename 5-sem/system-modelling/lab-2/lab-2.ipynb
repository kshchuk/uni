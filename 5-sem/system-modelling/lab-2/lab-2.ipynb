{
 "cells": [
  {
   "cell_type": "code",
   "execution_count": 29,
   "metadata": {},
   "outputs": [],
   "source": [
    "import numpy as np\n",
    "import imageio.v2 as imageio"
   ]
  },
  {
   "cell_type": "code",
   "execution_count": 30,
   "metadata": {},
   "outputs": [
    {
     "name": "stdout",
     "output_type": "stream",
     "text": [
      "X shape: (140, 188)\n",
      "Y shape: (256, 188)\n"
     ]
    }
   ],
   "source": [
    "# Read the .bmp input and output files as a numpy 2D matrix\n",
    "X = imageio.imread('x1.bmp')\n",
    "# Convert the image to a NumPy array\n",
    "X = np.array(X)\n",
    "\n",
    "Y = imageio.imread('y4.bmp')\n",
    "Y = np.array(Y)\n",
    "\n",
    "print('X shape:', X.shape)\n",
    "print('Y shape:', Y.shape)"
   ]
  },
  {
   "cell_type": "code",
   "execution_count": 31,
   "metadata": {},
   "outputs": [],
   "source": [
    "def isPsevdoInversed(A, A_psevdo_inverse) -> bool:\n",
    "    #  A * A+ * A = A;\n",
    "    if not np.allclose(A @ A_psevdo_inverse @ A, A):\n",
    "        print('A * A+ * A != A')\n",
    "        return False\n",
    "    #  A+ * A * A+ = A+\n",
    "    elif not np.allclose(A_psevdo_inverse @ A @ A_psevdo_inverse, A_psevdo_inverse):\n",
    "        print('A+ * A * A+ != A+')\n",
    "        return False\n",
    "    #  A * A+ - symmetric matrix m x m\n",
    "    elif not np.allclose(A @ A_psevdo_inverse, (A @ A_psevdo_inverse).T):\n",
    "        print('A * A+ - not symmetric matrix m x m')\n",
    "        return False\n",
    "    #  A+ * A - symmetric matrix n x n\n",
    "    elif not np.allclose(A_psevdo_inverse @ A, (A_psevdo_inverse @ A).T):\n",
    "        print('A+ * A - not symmetric matrix n x n')\n",
    "        return False\n",
    "    \n",
    "    return True"
   ]
  },
  {
   "cell_type": "code",
   "execution_count": 32,
   "metadata": {},
   "outputs": [
    {
     "name": "stdout",
     "output_type": "stream",
     "text": [
      "delta: 0.001\n",
      "A0: [[-0.94444283  0.44444377]\n",
      " [-0.11111089  0.11111102]\n",
      " [ 0.72222106 -0.22222174]]\n",
      "delta: 0.0005\n",
      "A1: [[-0.94444404  0.44444428]\n",
      " [-0.11111106  0.11111109]\n",
      " [ 0.72222193 -0.2222221 ]]\n",
      "delta: 0.00025\n",
      "A1: [[-0.94444434  0.4444444 ]\n",
      " [-0.1111111   0.11111111]\n",
      " [ 0.72222215 -0.22222219]]\n",
      "Atest: [[1 2 3]\n",
      " [4 5 6]]\n",
      "Atest_pinv: [[-0.94444434  0.4444444 ]\n",
      " [-0.1111111   0.11111111]\n",
      " [ 0.72222215 -0.22222219]]\n"
     ]
    }
   ],
   "source": [
    "def PseudoInverseMatrix_MoorePenrose(A, eps=1e-6, delta=5):\n",
    "    # Calculate the Moore-Penrose pseudo-inverse of a matrix\n",
    "    # A: input matrix\n",
    "    # returns: pseudo-inverse of A\n",
    "    # eps: tolerance for zero singular values\n",
    "    print('delta:', delta)\n",
    "\n",
    "    A0 = A.T @ np.linalg.inv(A @ A.T + delta**2 * np.eye(A.shape[0]))\n",
    "    print('A0:', A0)\n",
    "    \n",
    "    delta = delta / 2\n",
    "    print('delta:', delta)\n",
    "\n",
    "    while True:    \n",
    "        A1 = A.T @ np.linalg.inv(A @ A.T + delta**2 * np.eye(A.shape[0]))\n",
    "        print('A1:', A1)\n",
    "        if np.linalg.norm(A0 - A1, ord=2) < eps:\n",
    "            return A1\n",
    "        \n",
    "        delta = delta / 2\n",
    "        print('delta:', delta)\n",
    "\n",
    "        A0 = A1\n",
    "\n",
    "# Test\n",
    "Atest = np.array([[1, 2, 3], [4, 5, 6]])\n",
    "Atest_pinv = PseudoInverseMatrix_MoorePenrose(Atest)\n",
    "print('Atest:', Atest)\n",
    "print('Atest_pinv:', Atest_pinv)\n",
    "assert isPsevdoInversed(Atest, Atest_pinv)"
   ]
  },
  {
   "cell_type": "code",
   "execution_count": null,
   "metadata": {},
   "outputs": [],
   "source": []
  }
 ],
 "metadata": {
  "kernelspec": {
   "display_name": "Python 3",
   "language": "python",
   "name": "python3"
  },
  "language_info": {
   "codemirror_mode": {
    "name": "ipython",
    "version": 3
   },
   "file_extension": ".py",
   "mimetype": "text/x-python",
   "name": "python",
   "nbconvert_exporter": "python",
   "pygments_lexer": "ipython3",
   "version": "3.11.3"
  }
 },
 "nbformat": 4,
 "nbformat_minor": 2
}
