{
 "cells": [
  {
   "cell_type": "code",
   "execution_count": 81,
   "metadata": {},
   "outputs": [],
   "source": [
    "import numpy as np\n",
    "import imageio.v2 as imageio"
   ]
  },
  {
   "cell_type": "code",
   "execution_count": 82,
   "metadata": {},
   "outputs": [
    {
     "name": "stdout",
     "output_type": "stream",
     "text": [
      "X shape: (140, 188)\n",
      "Y shape: (256, 188)\n"
     ]
    }
   ],
   "source": [
    "# Read the .bmp input and output files as a numpy 2D matrix\n",
    "X = imageio.imread('x1.bmp')\n",
    "# Convert the image to a NumPy array\n",
    "X = np.array(X)\n",
    "\n",
    "Y = imageio.imread('y4.bmp')\n",
    "Y = np.array(Y)\n",
    "\n",
    "print('X shape:', X.shape)\n",
    "print('Y shape:', Y.shape)"
   ]
  },
  {
   "cell_type": "code",
   "execution_count": 83,
   "metadata": {},
   "outputs": [],
   "source": [
    "def isPsevdoInversed(A, A_psevdo_inverse) -> bool:\n",
    "    #  A * A+ * A = A;\n",
    "    if not np.allclose(A @ A_psevdo_inverse @ A, A):\n",
    "        print('A * A+ * A != A')\n",
    "        return False\n",
    "    #  A+ * A * A+ = A+\n",
    "    elif not np.allclose(A_psevdo_inverse @ A @ A_psevdo_inverse, A_psevdo_inverse):\n",
    "        print('A+ * A * A+ != A+')\n",
    "        return False\n",
    "    #  A * A+ - symmetric matrix m x m\n",
    "    elif not np.allclose(A @ A_psevdo_inverse, (A @ A_psevdo_inverse).T):\n",
    "        print('A * A+ - not symmetric matrix m x m')\n",
    "        return False\n",
    "    #  A+ * A - symmetric matrix n x n\n",
    "    elif not np.allclose(A_psevdo_inverse @ A, (A_psevdo_inverse @ A).T):\n",
    "        print('A+ * A - not symmetric matrix n x n')\n",
    "        return False\n",
    "    \n",
    "    return True"
   ]
  },
  {
   "cell_type": "code",
   "execution_count": 84,
   "metadata": {},
   "outputs": [
    {
     "name": "stdout",
     "output_type": "stream",
     "text": [
      "delta: 5\n",
      "A0: [[-0.00880162  0.04197698]\n",
      " [ 0.01489506  0.04434665]\n",
      " [ 0.03859174  0.04671632]]\n",
      "delta: 2.5\n",
      "A1: [[-0.06761734  0.0740391 ]\n",
      " [ 0.00982151  0.05628482]\n",
      " [ 0.08726036  0.03853055]]\n",
      "delta: 1.25\n",
      "A1: [[-0.24889378  0.15229405]\n",
      " [-0.01447423  0.06953922]\n",
      " [ 0.21994533 -0.0132156 ]]\n",
      "delta: 0.625\n",
      "A1: [[-0.56421046  0.28497941]\n",
      " [-0.05818039  0.08866413]\n",
      " [ 0.44784967 -0.10765115]]\n",
      "delta: 0.3125\n",
      "A1: [[-0.80930643  0.38779137]\n",
      " [-0.09228987  0.10315847]\n",
      " [ 0.62472668 -0.18147444]]\n",
      "delta: 0.15625\n",
      "A1: [[-0.90667952  0.42861403]\n",
      " [-0.10585078  0.10889048]\n",
      " [ 0.69497795 -0.21083308]]\n",
      "delta: 0.078125\n",
      "A1: [[-0.93471669  0.44036684]\n",
      " [-0.10975608  0.11053922]\n",
      " [ 0.71520454 -0.2192884 ]]\n",
      "delta: 0.0390625\n",
      "A1: [[-0.94199391  0.44341726]\n",
      " [-0.11076976  0.11096705]\n",
      " [ 0.72045439 -0.22148315]]\n",
      "delta: 0.01953125\n",
      "A1: [[-0.94383064  0.44418716]\n",
      " [-0.11102561  0.11107503]\n",
      " [ 0.72177942 -0.2220371 ]]\n",
      "delta: 0.009765625\n",
      "A1: [[-0.94429092  0.44438009]\n",
      " [-0.11108973  0.11110209]\n",
      " [ 0.72211147 -0.22217592]]\n",
      "delta: 0.0048828125\n",
      "A1: [[-0.94440606  0.44442835]\n",
      " [-0.11110576  0.11110885]\n",
      " [ 0.72219453 -0.22221065]]\n",
      "delta: 0.00244140625\n",
      "A1: [[-0.94443485  0.44444042]\n",
      " [-0.11110977  0.11111055]\n",
      " [ 0.7222153  -0.22221933]]\n",
      "delta: 0.001220703125\n",
      "A1: [[-0.94444205  0.44444344]\n",
      " [-0.11111078  0.11111097]\n",
      " [ 0.72222049 -0.2222215 ]]\n",
      "delta: 0.0006103515625\n",
      "A1: [[-0.94444384  0.44444419]\n",
      " [-0.11111103  0.11111108]\n",
      " [ 0.72222179 -0.22222204]]\n",
      "delta: 0.00030517578125\n",
      "A1: [[-0.94444429  0.44444438]\n",
      " [-0.11111109  0.1111111 ]\n",
      " [ 0.72222211 -0.22222218]]\n",
      "Atest: [[1 2 3]\n",
      " [4 5 6]]\n",
      "Atest_pinv: [[-0.94444429  0.44444438]\n",
      " [-0.11111109  0.1111111 ]\n",
      " [ 0.72222211 -0.22222218]]\n"
     ]
    }
   ],
   "source": [
    "def PseudoInverseMatrix_MoorePenrose(A, eps=1e-6, delta=5):\n",
    "    # Calculate the Moore-Penrose pseudo-inverse of a matrix\n",
    "    # A: input matrix\n",
    "    # returns: pseudo-inverse of A\n",
    "    # eps: tolerance for zero singular values\n",
    "    print('delta:', delta)\n",
    "\n",
    "    A0 = A.T @ np.linalg.inv(A @ A.T + delta**2 * np.eye(A.shape[0]))\n",
    "    print('A0:', A0)\n",
    "    \n",
    "    delta = delta / 2\n",
    "    print('delta:', delta)\n",
    "\n",
    "    while True:    \n",
    "        A1 = A.T @ np.linalg.inv(A @ A.T + delta**2 * np.eye(A.shape[0]))\n",
    "        print('A1:', A1)\n",
    "        if np.linalg.norm(A0 - A1, ord=2) < eps:\n",
    "            return A1\n",
    "        \n",
    "        delta = delta / 2\n",
    "        print('delta:', delta)\n",
    "\n",
    "        A0 = A1\n",
    "\n",
    "# Test\n",
    "Atest = np.array([[1, 2, 3], [4, 5, 6]])\n",
    "Atest_pinv = PseudoInverseMatrix_MoorePenrose(Atest)\n",
    "print('Atest:', Atest)\n",
    "print('Atest_pinv:', Atest_pinv)\n",
    "assert isPsevdoInversed(Atest, Atest_pinv)"
   ]
  },
  {
   "cell_type": "code",
   "execution_count": null,
   "metadata": {},
   "outputs": [],
   "source": []
  },
  {
   "cell_type": "code",
   "execution_count": 85,
   "metadata": {},
   "outputs": [
    {
     "ename": "ValueError",
     "evalue": "could not broadcast input array from shape (3,) into shape (2,)",
     "output_type": "error",
     "traceback": [
      "\u001b[1;31m---------------------------------------------------------------------------\u001b[0m",
      "\u001b[1;31mValueError\u001b[0m                                Traceback (most recent call last)",
      "\u001b[1;32md:\\uni\\5-sem\\system-modelling\\lab-2\\lab-2.ipynb Cell 6\u001b[0m line \u001b[0;36m2\n\u001b[0;32m     <a href='vscode-notebook-cell:/d%3A/uni/5-sem/system-modelling/lab-2/lab-2.ipynb#W4sZmlsZQ%3D%3D?line=25'>26</a>\u001b[0m \u001b[39m# Test\u001b[39;00m\n\u001b[0;32m     <a href='vscode-notebook-cell:/d%3A/uni/5-sem/system-modelling/lab-2/lab-2.ipynb#W4sZmlsZQ%3D%3D?line=26'>27</a>\u001b[0m Atest \u001b[39m=\u001b[39m np\u001b[39m.\u001b[39marray([[\u001b[39m1\u001b[39m, \u001b[39m2\u001b[39m, \u001b[39m3\u001b[39m], [\u001b[39m4\u001b[39m, \u001b[39m5\u001b[39m, \u001b[39m6\u001b[39m]])\n\u001b[1;32m---> <a href='vscode-notebook-cell:/d%3A/uni/5-sem/system-modelling/lab-2/lab-2.ipynb#W4sZmlsZQ%3D%3D?line=27'>28</a>\u001b[0m Atest_pinv \u001b[39m=\u001b[39m PseudoInverseMatrix_Greville(Atest)\n\u001b[0;32m     <a href='vscode-notebook-cell:/d%3A/uni/5-sem/system-modelling/lab-2/lab-2.ipynb#W4sZmlsZQ%3D%3D?line=28'>29</a>\u001b[0m \u001b[39mprint\u001b[39m(\u001b[39m'\u001b[39m\u001b[39mAtest:\u001b[39m\u001b[39m'\u001b[39m, Atest)\n\u001b[0;32m     <a href='vscode-notebook-cell:/d%3A/uni/5-sem/system-modelling/lab-2/lab-2.ipynb#W4sZmlsZQ%3D%3D?line=29'>30</a>\u001b[0m \u001b[39mprint\u001b[39m(\u001b[39m'\u001b[39m\u001b[39mAtest_pinv:\u001b[39m\u001b[39m'\u001b[39m, Atest_pinv)\n",
      "\u001b[1;32md:\\uni\\5-sem\\system-modelling\\lab-2\\lab-2.ipynb Cell 6\u001b[0m line \u001b[0;36m1\n\u001b[0;32m     <a href='vscode-notebook-cell:/d%3A/uni/5-sem/system-modelling/lab-2/lab-2.ipynb#W4sZmlsZQ%3D%3D?line=12'>13</a>\u001b[0m         A_pinv[i, :] \u001b[39m=\u001b[39m \u001b[39m0\u001b[39m\n\u001b[0;32m     <a href='vscode-notebook-cell:/d%3A/uni/5-sem/system-modelling/lab-2/lab-2.ipynb#W4sZmlsZQ%3D%3D?line=13'>14</a>\u001b[0m     \u001b[39melse\u001b[39;00m:\n\u001b[1;32m---> <a href='vscode-notebook-cell:/d%3A/uni/5-sem/system-modelling/lab-2/lab-2.ipynb#W4sZmlsZQ%3D%3D?line=14'>15</a>\u001b[0m         A_pinv[i, :] \u001b[39m=\u001b[39m a\u001b[39m.\u001b[39mT \u001b[39m/\u001b[39m np\u001b[39m.\u001b[39mdot(a\u001b[39m.\u001b[39mT, a)\n\u001b[0;32m     <a href='vscode-notebook-cell:/d%3A/uni/5-sem/system-modelling/lab-2/lab-2.ipynb#W4sZmlsZQ%3D%3D?line=15'>16</a>\u001b[0m \u001b[39melse\u001b[39;00m:\n\u001b[0;32m     <a href='vscode-notebook-cell:/d%3A/uni/5-sem/system-modelling/lab-2/lab-2.ipynb#W4sZmlsZQ%3D%3D?line=16'>17</a>\u001b[0m     Z \u001b[39m=\u001b[39m np\u001b[39m.\u001b[39meye(i) \u001b[39m-\u001b[39m np\u001b[39m.\u001b[39mdot(A_pinv[:i, :], A[:i, :])\n",
      "\u001b[1;31mValueError\u001b[0m: could not broadcast input array from shape (3,) into shape (2,)"
     ]
    }
   ],
   "source": [
    "def PseudoInverseMatrix_Greville(A):\n",
    "    # Calculate the Greville pseudo-inverse of a matrix\n",
    "    # A: input matrix\n",
    "    # returns: pseudo-inverse of A\n",
    "    # eps: tolerance for zero singular values\n",
    "    m, n = A.shape\n",
    "    A_pinv = np.zeros((n, m))\n",
    "\n",
    "    for i in range(m):\n",
    "        a = A[i, :].reshape(-1, 1)\n",
    "        if i == 0:\n",
    "            if np.all(a == 0):\n",
    "                A_pinv[i, :] = 0\n",
    "            else:\n",
    "                A_pinv[i, :] = a.T / np.dot(a.T, a)\n",
    "        else:\n",
    "            Z = np.eye(i) - np.dot(A_pinv[:i, :], A[:i, :])\n",
    "            if np.dot(a.T, Z) @ a > 0:\n",
    "                A_pinv[i, :] = np.dot(Z, a) / np.dot(a.T, Z @ a)\n",
    "            else:\n",
    "                R = np.dot(A_pinv[:i, :], (A_pinv[:i, :]).T)\n",
    "                A_pinv[i, :] = np.dot(R, a) / (1 + np.dot(a.T, R @ a))\n",
    "\n",
    "    return A_pinv\n",
    "\n",
    "# Test\n",
    "Atest = np.array([[1, 2, 3], [4, 5, 6]])\n",
    "Atest_pinv = PseudoInverseMatrix_Greville(Atest)\n",
    "print('Atest:', Atest)\n",
    "print('Atest_pinv:', Atest_pinv)\n",
    "assert isPsevdoInversed(Atest, Atest_pinv)"
   ]
  }
 ],
 "metadata": {
  "kernelspec": {
   "display_name": "Python 3",
   "language": "python",
   "name": "python3"
  },
  "language_info": {
   "codemirror_mode": {
    "name": "ipython",
    "version": 3
   },
   "file_extension": ".py",
   "mimetype": "text/x-python",
   "name": "python",
   "nbconvert_exporter": "python",
   "pygments_lexer": "ipython3",
   "version": "3.11.3"
  }
 },
 "nbformat": 4,
 "nbformat_minor": 2
}
