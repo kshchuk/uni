{
 "cells": [
  {
   "cell_type": "code",
   "execution_count": 17,
   "metadata": {},
   "outputs": [],
   "source": [
    "import numpy as np\n",
    "import imageio.v2 as imageio"
   ]
  },
  {
   "cell_type": "code",
   "execution_count": 18,
   "metadata": {},
   "outputs": [
    {
     "name": "stdout",
     "output_type": "stream",
     "text": [
      "X shape: (140, 188)\n",
      "Y shape: (256, 188)\n"
     ]
    }
   ],
   "source": [
    "# Read the .bmp input and output files as a numpy 2D matrix\n",
    "X = imageio.imread('x1.bmp')\n",
    "# Convert the image to a NumPy array\n",
    "X = np.array(X)\n",
    "\n",
    "Y = imageio.imread('y4.bmp')\n",
    "Y = np.array(Y)\n",
    "\n",
    "print('X shape:', X.shape)\n",
    "print('Y shape:', Y.shape)"
   ]
  },
  {
   "cell_type": "code",
   "execution_count": 19,
   "metadata": {},
   "outputs": [],
   "source": [
    "def isPsevdoInversed(A, A_psevdo_inverse) -> bool:\n",
    "    #  A * A+ * A = A;\n",
    "    if not np.allclose(A @ A_psevdo_inverse @ A, A):\n",
    "        print('A * A+ * A != A')\n",
    "        return False\n",
    "    #  A+ * A * A+ = A+\n",
    "    elif not np.allclose(A_psevdo_inverse @ A @ A_psevdo_inverse, A_psevdo_inverse):\n",
    "        print('A+ * A * A+ != A+')\n",
    "        return False\n",
    "    #  A * A+ - symmetric matrix m x m\n",
    "    elif not np.allclose(A @ A_psevdo_inverse, (A @ A_psevdo_inverse).T):\n",
    "        print('A * A+ - not symmetric matrix m x m')\n",
    "        return False\n",
    "    #  A+ * A - symmetric matrix n x n\n",
    "    elif not np.allclose(A_psevdo_inverse @ A, (A_psevdo_inverse @ A).T):\n",
    "        print('A+ * A - not symmetric matrix n x n')\n",
    "        return False\n",
    "    \n",
    "    return True"
   ]
  },
  {
   "cell_type": "code",
   "execution_count": 20,
   "metadata": {},
   "outputs": [
    {
     "name": "stdout",
     "output_type": "stream",
     "text": [
      "delta: 5\n",
      "A0: [[-0.00880162  0.04197698]\n",
      " [ 0.01489506  0.04434665]\n",
      " [ 0.03859174  0.04671632]]\n",
      "delta: 2.5\n",
      "A1: [[-0.06761734  0.0740391 ]\n",
      " [ 0.00982151  0.05628482]\n",
      " [ 0.08726036  0.03853055]]\n",
      "delta: 1.25\n",
      "A1: [[-0.24889378  0.15229405]\n",
      " [-0.01447423  0.06953922]\n",
      " [ 0.21994533 -0.0132156 ]]\n",
      "delta: 0.625\n",
      "A1: [[-0.56421046  0.28497941]\n",
      " [-0.05818039  0.08866413]\n",
      " [ 0.44784967 -0.10765115]]\n",
      "delta: 0.3125\n",
      "A1: [[-0.80930643  0.38779137]\n",
      " [-0.09228987  0.10315847]\n",
      " [ 0.62472668 -0.18147444]]\n",
      "delta: 0.15625\n",
      "A1: [[-0.90667952  0.42861403]\n",
      " [-0.10585078  0.10889048]\n",
      " [ 0.69497795 -0.21083308]]\n",
      "delta: 0.078125\n",
      "A1: [[-0.93471669  0.44036684]\n",
      " [-0.10975608  0.11053922]\n",
      " [ 0.71520454 -0.2192884 ]]\n",
      "delta: 0.0390625\n",
      "A1: [[-0.94199391  0.44341726]\n",
      " [-0.11076976  0.11096705]\n",
      " [ 0.72045439 -0.22148315]]\n",
      "delta: 0.01953125\n",
      "A1: [[-0.94383064  0.44418716]\n",
      " [-0.11102561  0.11107503]\n",
      " [ 0.72177942 -0.2220371 ]]\n",
      "delta: 0.009765625\n",
      "A1: [[-0.94429092  0.44438009]\n",
      " [-0.11108973  0.11110209]\n",
      " [ 0.72211147 -0.22217592]]\n",
      "delta: 0.0048828125\n",
      "A1: [[-0.94440606  0.44442835]\n",
      " [-0.11110576  0.11110885]\n",
      " [ 0.72219453 -0.22221065]]\n",
      "delta: 0.00244140625\n",
      "A1: [[-0.94443485  0.44444042]\n",
      " [-0.11110977  0.11111055]\n",
      " [ 0.7222153  -0.22221933]]\n",
      "delta: 0.001220703125\n",
      "A1: [[-0.94444205  0.44444344]\n",
      " [-0.11111078  0.11111097]\n",
      " [ 0.72222049 -0.2222215 ]]\n",
      "delta: 0.0006103515625\n",
      "A1: [[-0.94444384  0.44444419]\n",
      " [-0.11111103  0.11111108]\n",
      " [ 0.72222179 -0.22222204]]\n",
      "delta: 0.00030517578125\n",
      "A1: [[-0.94444429  0.44444438]\n",
      " [-0.11111109  0.1111111 ]\n",
      " [ 0.72222211 -0.22222218]]\n",
      "Atest: [[1 2 3]\n",
      " [4 5 6]]\n",
      "Atest_pinv: [[-0.94444429  0.44444438]\n",
      " [-0.11111109  0.1111111 ]\n",
      " [ 0.72222211 -0.22222218]]\n"
     ]
    }
   ],
   "source": [
    "def PseudoInverseMatrix_MoorePenrose(A, eps=1e-6, delta=5):\n",
    "    # Calculate the Moore-Penrose pseudo-inverse of a matrix\n",
    "    # A: input matrix\n",
    "    # returns: pseudo-inverse of A\n",
    "    # eps: tolerance for zero singular values\n",
    "    print('delta:', delta)\n",
    "\n",
    "    A0 = A.T @ np.linalg.inv(A @ A.T + delta**2 * np.eye(A.shape[0]))\n",
    "    print('A0:', A0)\n",
    "    \n",
    "    delta = delta / 2\n",
    "    print('delta:', delta)\n",
    "\n",
    "    while True:    \n",
    "        A1 = A.T @ np.linalg.inv(A @ A.T + delta**2 * np.eye(A.shape[0]))\n",
    "        print('A1:', A1)\n",
    "        if np.linalg.norm(A0 - A1, ord=2) < eps:\n",
    "            return A1\n",
    "        \n",
    "        delta = delta / 2\n",
    "        print('delta:', delta)\n",
    "\n",
    "        A0 = A1\n",
    "\n",
    "# Test\n",
    "Atest = np.array([[1, 2, 3], [4, 5, 6]])\n",
    "Atest_pinv = PseudoInverseMatrix_MoorePenrose(Atest)\n",
    "print('Atest:', Atest)\n",
    "print('Atest_pinv:', Atest_pinv)\n",
    "assert isPsevdoInversed(Atest, Atest_pinv)"
   ]
  },
  {
   "cell_type": "code",
   "execution_count": 21,
   "metadata": {},
   "outputs": [
    {
     "name": "stdout",
     "output_type": "stream",
     "text": [
      "-------------------------------------------------------------\n",
      "inverse_matrix: [[-0.94444444  0.44444444]\n",
      " [-0.11111111  0.11111111]\n",
      " [ 0.72222222 -0.22222222]]\n",
      "Atest: [[1 2 3]\n",
      " [4 5 6]]\n",
      "Atest_pinv: [[-0.94444444  0.44444444]\n",
      " [-0.11111111  0.11111111]\n",
      " [ 0.72222222 -0.22222222]]\n"
     ]
    }
   ],
   "source": [
    "def PseudoInverseMatrix_Greville(A, eps=1e-6):\n",
    "    # Calculate the Greville pseudo-inverse of a matrix\n",
    "    # A: input matrix\n",
    "    # returns: pseudo-inverse of A\n",
    "    # eps: tolerance for zero singular values\n",
    "    inverse_matrix = np.vstack(A[0] / np.dot(A[0].T, A[0]) if np.dot(A[0].T, A[0]) != 0 else A[0])\n",
    "    current_matrix = np.array([A[0]])\n",
    "    n = A.shape[0]\n",
    "    for i in range(1, n):\n",
    "        a = A[i].reshape(-1, 1)\n",
    "        z = np.identity(current_matrix.shape[1]) - np.dot(inverse_matrix, current_matrix)\n",
    "        current_matrix = np.vstack([current_matrix, A[i]])\n",
    "\n",
    "        denum = np.dot(a.T, np.dot(z, a))[0, 0]\n",
    "        if np.abs(denum) < eps:\n",
    "            r = np.dot(inverse_matrix, inverse_matrix.T)\n",
    "            denum = 1 + np.dot(a.T, np.dot(r, a))\n",
    "            inverse_matrix = np.hstack((inverse_matrix - np.dot(z, np.dot(a, np.dot(a.T, inverse_matrix))) / denum, np.dot(r, a) / denum))\n",
    "        else:\n",
    "            inverse_matrix = np.hstack((inverse_matrix - np.dot(z, np.dot(a, np.dot(a.T, inverse_matrix))) / denum, np.dot(z, a) / denum))\n",
    "\n",
    "        print('-------------------------------------------------------------')\n",
    "        print('inverse_matrix:', inverse_matrix)\n",
    "\n",
    "    return inverse_matrix\n",
    "\n",
    "# Test\n",
    "Atest = np.array([[1, 2, 3], [4, 5, 6]])\n",
    "Atest_pinv = PseudoInverseMatrix_Greville(Atest)\n",
    "print('Atest:', Atest)\n",
    "print('Atest_pinv:', Atest_pinv)\n",
    "assert isPsevdoInversed(Atest, Atest_pinv)"
   ]
  },
  {
   "cell_type": "code",
   "execution_count": 22,
   "metadata": {},
   "outputs": [],
   "source": [
    "def CalculateOperator(X, Y, inversion_function, V=np.ones(10, 10), eps=1e-6):\n",
    "    X_pinv = inversion_function(X, eps=eps)\n",
    "    YX_pinv = Y @ X_pinv\n",
    "    VZTXT = V @ (np.eye(X.shape[1]) - X & X_pinv).T\n",
    "    A = YX_pinv @ VZTXT\n",
    "    return A"
   ]
  }
 ],
 "metadata": {
  "kernelspec": {
   "display_name": "Python 3",
   "language": "python",
   "name": "python3"
  },
  "language_info": {
   "codemirror_mode": {
    "name": "ipython",
    "version": 3
   },
   "file_extension": ".py",
   "mimetype": "text/x-python",
   "name": "python",
   "nbconvert_exporter": "python",
   "pygments_lexer": "ipython3",
   "version": "3.11.3"
  }
 },
 "nbformat": 4,
 "nbformat_minor": 2
}
