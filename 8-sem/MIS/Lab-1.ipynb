{
 "cells": [
  {
   "cell_type": "markdown",
   "id": "05ffe432-870e-470e-af61-8ca6b22c52c0",
   "metadata": {},
   "source": [
    "# Лабораторна робота №1: Основи NumPy та Pandas"
   ]
  },
  {
   "cell_type": "markdown",
   "id": "6d83b7df-1017-499a-87cb-fb68365cff75",
   "metadata": {},
   "source": [
    "Перш за все необхідно імпортувати необхідні для виконання лабораторної роботи бібліотеки."
   ]
  },
  {
   "cell_type": "code",
   "execution_count": 128,
   "id": "3e2d7513-c9ff-4fee-91eb-a311ffa069d0",
   "metadata": {},
   "outputs": [],
   "source": [
    "import pandas as pd\n",
    "import numpy as np"
   ]
  },
  {
   "cell_type": "markdown",
   "id": "d70885fe-a81e-4949-ab20-7fc5515b5bd1",
   "metadata": {},
   "source": [
    "## 1. Підготовка датасету"
   ]
  },
  {
   "cell_type": "markdown",
   "id": "5517e1f3-0ada-4acd-bfc8-fd652cd7358b",
   "metadata": {},
   "source": [
    "### 1.1 Завантажте датасет\n",
    "\n",
    "* Перейдіть за посиланням на Kaggle та завантажте файл [Full IMDb Movies Data](https://www.kaggle.com/datasets/anandshaw2001/imdb-data).\n",
    "* Використовуючи бібліотеку `pandas` перетворіть дані з файлу у DataFrame."
   ]
  },
  {
   "cell_type": "code",
   "execution_count": 129,
   "id": "ff696d6e-e7d6-4783-846a-b1051135e363",
   "metadata": {},
   "outputs": [
    {
     "name": "stdout",
     "output_type": "stream",
     "text": [
      "Warning: Looks like you're using an outdated `kagglehub` version (installed: 0.3.8), please consider upgrading to the latest version (0.3.10).\n",
      "(1048575, 21)\n"
     ]
    },
    {
     "data": {
      "text/html": [
       "<div>\n",
       "<style scoped>\n",
       "    .dataframe tbody tr th:only-of-type {\n",
       "        vertical-align: middle;\n",
       "    }\n",
       "\n",
       "    .dataframe tbody tr th {\n",
       "        vertical-align: top;\n",
       "    }\n",
       "\n",
       "    .dataframe thead th {\n",
       "        text-align: right;\n",
       "    }\n",
       "</style>\n",
       "<table border=\"1\" class=\"dataframe\">\n",
       "  <thead>\n",
       "    <tr style=\"text-align: right;\">\n",
       "      <th></th>\n",
       "      <th>id</th>\n",
       "      <th>title</th>\n",
       "      <th>vote_average</th>\n",
       "      <th>vote_count</th>\n",
       "      <th>status</th>\n",
       "      <th>release_date</th>\n",
       "      <th>revenue</th>\n",
       "      <th>runtime</th>\n",
       "      <th>adult</th>\n",
       "      <th>budget</th>\n",
       "      <th>...</th>\n",
       "      <th>original_language</th>\n",
       "      <th>original_title</th>\n",
       "      <th>overview</th>\n",
       "      <th>popularity</th>\n",
       "      <th>tagline</th>\n",
       "      <th>genres</th>\n",
       "      <th>production_companies</th>\n",
       "      <th>production_countries</th>\n",
       "      <th>spoken_languages</th>\n",
       "      <th>keywords</th>\n",
       "    </tr>\n",
       "  </thead>\n",
       "  <tbody>\n",
       "    <tr>\n",
       "      <th>443919</th>\n",
       "      <td>992272</td>\n",
       "      <td>Off Limits</td>\n",
       "      <td>0.0</td>\n",
       "      <td>0</td>\n",
       "      <td>Released</td>\n",
       "      <td>6/23/2022</td>\n",
       "      <td>0</td>\n",
       "      <td>12</td>\n",
       "      <td>False</td>\n",
       "      <td>0</td>\n",
       "      <td>...</td>\n",
       "      <td>en</td>\n",
       "      <td>Off Limits</td>\n",
       "      <td>A girl struggles with taking the \"safer option...</td>\n",
       "      <td>0.600</td>\n",
       "      <td>NaN</td>\n",
       "      <td>Horror, Thriller</td>\n",
       "      <td>NaN</td>\n",
       "      <td>NaN</td>\n",
       "      <td>NaN</td>\n",
       "      <td>NaN</td>\n",
       "    </tr>\n",
       "    <tr>\n",
       "      <th>616405</th>\n",
       "      <td>1277111</td>\n",
       "      <td>Skilsmisse i børnehøjde</td>\n",
       "      <td>0.0</td>\n",
       "      <td>0</td>\n",
       "      <td>Released</td>\n",
       "      <td>10/13/2016</td>\n",
       "      <td>0</td>\n",
       "      <td>0</td>\n",
       "      <td>False</td>\n",
       "      <td>0</td>\n",
       "      <td>...</td>\n",
       "      <td>da</td>\n",
       "      <td>Skilsmisse i børnehøjde</td>\n",
       "      <td>NaN</td>\n",
       "      <td>0.600</td>\n",
       "      <td>NaN</td>\n",
       "      <td>Documentary</td>\n",
       "      <td>TV 2</td>\n",
       "      <td>Denmark</td>\n",
       "      <td>Danish</td>\n",
       "      <td>NaN</td>\n",
       "    </tr>\n",
       "    <tr>\n",
       "      <th>630629</th>\n",
       "      <td>1317932</td>\n",
       "      <td>Deus-e-Meio</td>\n",
       "      <td>0.0</td>\n",
       "      <td>0</td>\n",
       "      <td>Released</td>\n",
       "      <td>NaN</td>\n",
       "      <td>0</td>\n",
       "      <td>0</td>\n",
       "      <td>False</td>\n",
       "      <td>0</td>\n",
       "      <td>...</td>\n",
       "      <td>en</td>\n",
       "      <td>Deus-e-Meio</td>\n",
       "      <td>NaN</td>\n",
       "      <td>0.000</td>\n",
       "      <td>NaN</td>\n",
       "      <td>NaN</td>\n",
       "      <td>NaN</td>\n",
       "      <td>NaN</td>\n",
       "      <td>NaN</td>\n",
       "      <td>NaN</td>\n",
       "    </tr>\n",
       "    <tr>\n",
       "      <th>675369</th>\n",
       "      <td>1168987</td>\n",
       "      <td>NOHARM_INTRO</td>\n",
       "      <td>0.0</td>\n",
       "      <td>0</td>\n",
       "      <td>Released</td>\n",
       "      <td>4/16/2022</td>\n",
       "      <td>0</td>\n",
       "      <td>3</td>\n",
       "      <td>False</td>\n",
       "      <td>0</td>\n",
       "      <td>...</td>\n",
       "      <td>en</td>\n",
       "      <td>NOHARM_INTRO</td>\n",
       "      <td>A first-year film by Wesley Joseph made at Cal...</td>\n",
       "      <td>0.600</td>\n",
       "      <td>NaN</td>\n",
       "      <td>Animation</td>\n",
       "      <td>CalArts</td>\n",
       "      <td>United States of America</td>\n",
       "      <td>NaN</td>\n",
       "      <td>dance, music video, short film, animation</td>\n",
       "    </tr>\n",
       "    <tr>\n",
       "      <th>115150</th>\n",
       "      <td>240569</td>\n",
       "      <td>Bharathchandran I.P.S</td>\n",
       "      <td>4.5</td>\n",
       "      <td>5</td>\n",
       "      <td>Released</td>\n",
       "      <td>8/4/2005</td>\n",
       "      <td>0</td>\n",
       "      <td>115</td>\n",
       "      <td>False</td>\n",
       "      <td>0</td>\n",
       "      <td>...</td>\n",
       "      <td>ml</td>\n",
       "      <td>Bharathchandran I.P.S</td>\n",
       "      <td>Hyder Ali Hassan, a scheming politician, is in...</td>\n",
       "      <td>1.445</td>\n",
       "      <td>NaN</td>\n",
       "      <td>Action, Thriller</td>\n",
       "      <td>Voice Thoughts</td>\n",
       "      <td>India</td>\n",
       "      <td>Malayalam</td>\n",
       "      <td>NaN</td>\n",
       "    </tr>\n",
       "  </tbody>\n",
       "</table>\n",
       "<p>5 rows × 21 columns</p>\n",
       "</div>"
      ],
      "text/plain": [
       "             id                    title  vote_average  vote_count    status  \\\n",
       "443919   992272               Off Limits           0.0           0  Released   \n",
       "616405  1277111  Skilsmisse i børnehøjde           0.0           0  Released   \n",
       "630629  1317932              Deus-e-Meio           0.0           0  Released   \n",
       "675369  1168987             NOHARM_INTRO           0.0           0  Released   \n",
       "115150   240569    Bharathchandran I.P.S           4.5           5  Released   \n",
       "\n",
       "       release_date  revenue  runtime  adult  budget  ... original_language  \\\n",
       "443919    6/23/2022        0       12  False       0  ...                en   \n",
       "616405   10/13/2016        0        0  False       0  ...                da   \n",
       "630629          NaN        0        0  False       0  ...                en   \n",
       "675369    4/16/2022        0        3  False       0  ...                en   \n",
       "115150     8/4/2005        0      115  False       0  ...                ml   \n",
       "\n",
       "                 original_title  \\\n",
       "443919               Off Limits   \n",
       "616405  Skilsmisse i børnehøjde   \n",
       "630629              Deus-e-Meio   \n",
       "675369             NOHARM_INTRO   \n",
       "115150    Bharathchandran I.P.S   \n",
       "\n",
       "                                                 overview popularity  tagline  \\\n",
       "443919  A girl struggles with taking the \"safer option...      0.600      NaN   \n",
       "616405                                                NaN      0.600      NaN   \n",
       "630629                                                NaN      0.000      NaN   \n",
       "675369  A first-year film by Wesley Joseph made at Cal...      0.600      NaN   \n",
       "115150  Hyder Ali Hassan, a scheming politician, is in...      1.445      NaN   \n",
       "\n",
       "                  genres production_companies      production_countries  \\\n",
       "443919  Horror, Thriller                  NaN                       NaN   \n",
       "616405       Documentary                 TV 2                   Denmark   \n",
       "630629               NaN                  NaN                       NaN   \n",
       "675369         Animation              CalArts  United States of America   \n",
       "115150  Action, Thriller       Voice Thoughts                     India   \n",
       "\n",
       "       spoken_languages                                   keywords  \n",
       "443919              NaN                                        NaN  \n",
       "616405           Danish                                        NaN  \n",
       "630629              NaN                                        NaN  \n",
       "675369              NaN  dance, music video, short film, animation  \n",
       "115150        Malayalam                                        NaN  \n",
       "\n",
       "[5 rows x 21 columns]"
      ]
     },
     "execution_count": 129,
     "metadata": {},
     "output_type": "execute_result"
    }
   ],
   "source": [
    "import kagglehub\n",
    "\n",
    "path = kagglehub.dataset_download(\"anandshaw2001/imdb-data\") # кешовано, у моєму випадку в /home/<username>/.cache/kagglehub/datasets/anandshaw2001/imdb-data/versions/1\n",
    "datapath = path + '/Imdb Movie Dataset.csv'\n",
    "df = pd.read_csv(datapath)\n",
    "\n",
    "print(df.shape)\n",
    "df.sample(5)\n"
   ]
  },
  {
   "cell_type": "markdown",
   "id": "3d245063-ae9e-4d51-9ac6-a2887885e542",
   "metadata": {},
   "source": [
    "### 1.2 Відфільтруйте фільми для дітей\n",
    "\n",
    "* Залиште у DataFrame лише ті записи, де поле `adult` дорівнює `False`, тобто фільми, які не є \"дорослими\"."
   ]
  },
  {
   "cell_type": "code",
   "execution_count": 130,
   "id": "833ac69d-f106-45fb-b735-04b665adfede",
   "metadata": {},
   "outputs": [
    {
     "name": "stdout",
     "output_type": "stream",
     "text": [
      "(951555, 21)\n"
     ]
    },
    {
     "data": {
      "text/html": [
       "<div>\n",
       "<style scoped>\n",
       "    .dataframe tbody tr th:only-of-type {\n",
       "        vertical-align: middle;\n",
       "    }\n",
       "\n",
       "    .dataframe tbody tr th {\n",
       "        vertical-align: top;\n",
       "    }\n",
       "\n",
       "    .dataframe thead th {\n",
       "        text-align: right;\n",
       "    }\n",
       "</style>\n",
       "<table border=\"1\" class=\"dataframe\">\n",
       "  <thead>\n",
       "    <tr style=\"text-align: right;\">\n",
       "      <th></th>\n",
       "      <th>id</th>\n",
       "      <th>title</th>\n",
       "      <th>vote_average</th>\n",
       "      <th>vote_count</th>\n",
       "      <th>status</th>\n",
       "      <th>release_date</th>\n",
       "      <th>revenue</th>\n",
       "      <th>runtime</th>\n",
       "      <th>adult</th>\n",
       "      <th>budget</th>\n",
       "      <th>...</th>\n",
       "      <th>original_language</th>\n",
       "      <th>original_title</th>\n",
       "      <th>overview</th>\n",
       "      <th>popularity</th>\n",
       "      <th>tagline</th>\n",
       "      <th>genres</th>\n",
       "      <th>production_companies</th>\n",
       "      <th>production_countries</th>\n",
       "      <th>spoken_languages</th>\n",
       "      <th>keywords</th>\n",
       "    </tr>\n",
       "  </thead>\n",
       "  <tbody>\n",
       "    <tr>\n",
       "      <th>202288</th>\n",
       "      <td>513184</td>\n",
       "      <td>Анна</td>\n",
       "      <td>6.0</td>\n",
       "      <td>2</td>\n",
       "      <td>Released</td>\n",
       "      <td>11/15/2005</td>\n",
       "      <td>4500</td>\n",
       "      <td>0</td>\n",
       "      <td>False</td>\n",
       "      <td>0</td>\n",
       "      <td>...</td>\n",
       "      <td>ru</td>\n",
       "      <td>Анна</td>\n",
       "      <td>NaN</td>\n",
       "      <td>1.061</td>\n",
       "      <td>NaN</td>\n",
       "      <td>Romance, Music</td>\n",
       "      <td>Paradise, Ritm, Mosfilm</td>\n",
       "      <td>Russia</td>\n",
       "      <td>Russian</td>\n",
       "      <td>musical</td>\n",
       "    </tr>\n",
       "    <tr>\n",
       "      <th>207947</th>\n",
       "      <td>185091</td>\n",
       "      <td>Raped with Eyes: Daydream</td>\n",
       "      <td>5.8</td>\n",
       "      <td>2</td>\n",
       "      <td>Released</td>\n",
       "      <td>1/1/1982</td>\n",
       "      <td>0</td>\n",
       "      <td>60</td>\n",
       "      <td>False</td>\n",
       "      <td>0</td>\n",
       "      <td>...</td>\n",
       "      <td>ja</td>\n",
       "      <td>視姦白日夢</td>\n",
       "      <td>Kazu is a man who indulges in daydream fantasi...</td>\n",
       "      <td>0.719</td>\n",
       "      <td>NaN</td>\n",
       "      <td>NaN</td>\n",
       "      <td>Takahashi Productions</td>\n",
       "      <td>Japan</td>\n",
       "      <td>Japanese</td>\n",
       "      <td>erotic movie</td>\n",
       "    </tr>\n",
       "    <tr>\n",
       "      <th>391467</th>\n",
       "      <td>1127902</td>\n",
       "      <td>Compassion of the Sea</td>\n",
       "      <td>0.0</td>\n",
       "      <td>0</td>\n",
       "      <td>Released</td>\n",
       "      <td>5/16/2023</td>\n",
       "      <td>0</td>\n",
       "      <td>2</td>\n",
       "      <td>False</td>\n",
       "      <td>0</td>\n",
       "      <td>...</td>\n",
       "      <td>tr</td>\n",
       "      <td>Denizin Merhameti</td>\n",
       "      <td>A man who lost his family seven years ago, swi...</td>\n",
       "      <td>0.600</td>\n",
       "      <td>NaN</td>\n",
       "      <td>Drama</td>\n",
       "      <td>Alp Emre Studios</td>\n",
       "      <td>NaN</td>\n",
       "      <td>Turkish</td>\n",
       "      <td>NaN</td>\n",
       "    </tr>\n",
       "    <tr>\n",
       "      <th>213013</th>\n",
       "      <td>642704</td>\n",
       "      <td>El crimen de Don Benito</td>\n",
       "      <td>5.0</td>\n",
       "      <td>2</td>\n",
       "      <td>Released</td>\n",
       "      <td>3/6/1991</td>\n",
       "      <td>0</td>\n",
       "      <td>61</td>\n",
       "      <td>False</td>\n",
       "      <td>0</td>\n",
       "      <td>...</td>\n",
       "      <td>es</td>\n",
       "      <td>El crimen de Don Benito</td>\n",
       "      <td>July 18, 1902. A woman and her daughter are br...</td>\n",
       "      <td>0.600</td>\n",
       "      <td>NaN</td>\n",
       "      <td>Drama, Crime</td>\n",
       "      <td>Pedro Costa P. C.</td>\n",
       "      <td>Spain</td>\n",
       "      <td>Spanish</td>\n",
       "      <td>NaN</td>\n",
       "    </tr>\n",
       "    <tr>\n",
       "      <th>265762</th>\n",
       "      <td>649229</td>\n",
       "      <td>Camouflage</td>\n",
       "      <td>1.0</td>\n",
       "      <td>1</td>\n",
       "      <td>Released</td>\n",
       "      <td>3/23/2014</td>\n",
       "      <td>0</td>\n",
       "      <td>8</td>\n",
       "      <td>False</td>\n",
       "      <td>0</td>\n",
       "      <td>...</td>\n",
       "      <td>de</td>\n",
       "      <td>Camouflage</td>\n",
       "      <td>During a military exercise in the woods two so...</td>\n",
       "      <td>0.874</td>\n",
       "      <td>NaN</td>\n",
       "      <td>NaN</td>\n",
       "      <td>NaN</td>\n",
       "      <td>NaN</td>\n",
       "      <td>NaN</td>\n",
       "      <td>NaN</td>\n",
       "    </tr>\n",
       "  </tbody>\n",
       "</table>\n",
       "<p>5 rows × 21 columns</p>\n",
       "</div>"
      ],
      "text/plain": [
       "             id                      title  vote_average  vote_count  \\\n",
       "202288   513184                       Анна           6.0           2   \n",
       "207947   185091  Raped with Eyes: Daydream           5.8           2   \n",
       "391467  1127902      Compassion of the Sea           0.0           0   \n",
       "213013   642704    El crimen de Don Benito           5.0           2   \n",
       "265762   649229                 Camouflage           1.0           1   \n",
       "\n",
       "          status release_date  revenue  runtime  adult  budget  ...  \\\n",
       "202288  Released   11/15/2005     4500        0  False       0  ...   \n",
       "207947  Released     1/1/1982        0       60  False       0  ...   \n",
       "391467  Released    5/16/2023        0        2  False       0  ...   \n",
       "213013  Released     3/6/1991        0       61  False       0  ...   \n",
       "265762  Released    3/23/2014        0        8  False       0  ...   \n",
       "\n",
       "       original_language           original_title  \\\n",
       "202288                ru                     Анна   \n",
       "207947                ja                    視姦白日夢   \n",
       "391467                tr        Denizin Merhameti   \n",
       "213013                es  El crimen de Don Benito   \n",
       "265762                de               Camouflage   \n",
       "\n",
       "                                                 overview popularity  tagline  \\\n",
       "202288                                                NaN      1.061      NaN   \n",
       "207947  Kazu is a man who indulges in daydream fantasi...      0.719      NaN   \n",
       "391467  A man who lost his family seven years ago, swi...      0.600      NaN   \n",
       "213013  July 18, 1902. A woman and her daughter are br...      0.600      NaN   \n",
       "265762  During a military exercise in the woods two so...      0.874      NaN   \n",
       "\n",
       "                genres     production_companies production_countries  \\\n",
       "202288  Romance, Music  Paradise, Ritm, Mosfilm               Russia   \n",
       "207947             NaN    Takahashi Productions                Japan   \n",
       "391467           Drama         Alp Emre Studios                  NaN   \n",
       "213013    Drama, Crime        Pedro Costa P. C.                Spain   \n",
       "265762             NaN                      NaN                  NaN   \n",
       "\n",
       "       spoken_languages      keywords  \n",
       "202288          Russian       musical  \n",
       "207947         Japanese  erotic movie  \n",
       "391467          Turkish           NaN  \n",
       "213013          Spanish           NaN  \n",
       "265762              NaN           NaN  \n",
       "\n",
       "[5 rows x 21 columns]"
      ]
     },
     "execution_count": 130,
     "metadata": {},
     "output_type": "execute_result"
    }
   ],
   "source": [
    "df = df[df['adult'] == False] # або df = df.query('adult == False')\n",
    "print(df.shape)\n",
    "df.sample(5)"
   ]
  },
  {
   "cell_type": "markdown",
   "id": "776718c9-1f0e-48da-aeb9-ef311d04eb78",
   "metadata": {},
   "source": [
    "### 1.3 Залиште лише необхідні стовпчики\n",
    "\n",
    "* Відредагуйте DataFrame, залишивши у ньому лише наступні стовпчики:\n",
    "    - `id`\n",
    "    - `title`\n",
    "    - `vote_average`\n",
    "    - `vote_count`\n",
    "    - `release_date`\n",
    "    - `revenue`\n",
    "    - `runtime`\n",
    "    - `budget`\n",
    "    - `original_language`\n",
    "    - `production_companies`\n",
    "    - `production_countries`\n",
    "    - `spoken_languages`"
   ]
  },
  {
   "cell_type": "code",
   "execution_count": 131,
   "id": "494442d8-2a60-4025-a91c-c070a0c78d84",
   "metadata": {},
   "outputs": [
    {
     "name": "stdout",
     "output_type": "stream",
     "text": [
      "(951555, 12)\n"
     ]
    },
    {
     "data": {
      "text/html": [
       "<div>\n",
       "<style scoped>\n",
       "    .dataframe tbody tr th:only-of-type {\n",
       "        vertical-align: middle;\n",
       "    }\n",
       "\n",
       "    .dataframe tbody tr th {\n",
       "        vertical-align: top;\n",
       "    }\n",
       "\n",
       "    .dataframe thead th {\n",
       "        text-align: right;\n",
       "    }\n",
       "</style>\n",
       "<table border=\"1\" class=\"dataframe\">\n",
       "  <thead>\n",
       "    <tr style=\"text-align: right;\">\n",
       "      <th></th>\n",
       "      <th>id</th>\n",
       "      <th>title</th>\n",
       "      <th>vote_average</th>\n",
       "      <th>vote_count</th>\n",
       "      <th>release_date</th>\n",
       "      <th>revenue</th>\n",
       "      <th>runtime</th>\n",
       "      <th>budget</th>\n",
       "      <th>original_language</th>\n",
       "      <th>production_companies</th>\n",
       "      <th>production_countries</th>\n",
       "      <th>spoken_languages</th>\n",
       "    </tr>\n",
       "  </thead>\n",
       "  <tbody>\n",
       "    <tr>\n",
       "      <th>329026</th>\n",
       "      <td>108142</td>\n",
       "      <td>The Ham What Am</td>\n",
       "      <td>1.0</td>\n",
       "      <td>1</td>\n",
       "      <td>6/30/1928</td>\n",
       "      <td>0</td>\n",
       "      <td>7</td>\n",
       "      <td>0</td>\n",
       "      <td>en</td>\n",
       "      <td>Warner Bros. Pictures</td>\n",
       "      <td>United States of America</td>\n",
       "      <td>English</td>\n",
       "    </tr>\n",
       "    <tr>\n",
       "      <th>370604</th>\n",
       "      <td>1082130</td>\n",
       "      <td>The Evaluation</td>\n",
       "      <td>0.0</td>\n",
       "      <td>0</td>\n",
       "      <td>NaN</td>\n",
       "      <td>0</td>\n",
       "      <td>0</td>\n",
       "      <td>0</td>\n",
       "      <td>en</td>\n",
       "      <td>NaN</td>\n",
       "      <td>NaN</td>\n",
       "      <td>NaN</td>\n",
       "    </tr>\n",
       "    <tr>\n",
       "      <th>792717</th>\n",
       "      <td>596621</td>\n",
       "      <td>Turkey, the Legacy of Silence</td>\n",
       "      <td>0.0</td>\n",
       "      <td>0</td>\n",
       "      <td>4/12/2015</td>\n",
       "      <td>0</td>\n",
       "      <td>52</td>\n",
       "      <td>0</td>\n",
       "      <td>fr</td>\n",
       "      <td>NaN</td>\n",
       "      <td>NaN</td>\n",
       "      <td>NaN</td>\n",
       "    </tr>\n",
       "    <tr>\n",
       "      <th>157570</th>\n",
       "      <td>423535</td>\n",
       "      <td>Point Zero</td>\n",
       "      <td>5.0</td>\n",
       "      <td>3</td>\n",
       "      <td>3/8/1996</td>\n",
       "      <td>0</td>\n",
       "      <td>89</td>\n",
       "      <td>0</td>\n",
       "      <td>ro</td>\n",
       "      <td>Cineville, Rex Media</td>\n",
       "      <td>Romania, United States of America</td>\n",
       "      <td>English, Romanian</td>\n",
       "    </tr>\n",
       "    <tr>\n",
       "      <th>812123</th>\n",
       "      <td>606514</td>\n",
       "      <td>Dernier rôle</td>\n",
       "      <td>0.0</td>\n",
       "      <td>0</td>\n",
       "      <td>1/1/1967</td>\n",
       "      <td>0</td>\n",
       "      <td>3</td>\n",
       "      <td>0</td>\n",
       "      <td>fr</td>\n",
       "      <td>NaN</td>\n",
       "      <td>France</td>\n",
       "      <td>NaN</td>\n",
       "    </tr>\n",
       "  </tbody>\n",
       "</table>\n",
       "</div>"
      ],
      "text/plain": [
       "             id                          title  vote_average  vote_count  \\\n",
       "329026   108142                The Ham What Am           1.0           1   \n",
       "370604  1082130                 The Evaluation           0.0           0   \n",
       "792717   596621  Turkey, the Legacy of Silence           0.0           0   \n",
       "157570   423535                     Point Zero           5.0           3   \n",
       "812123   606514                   Dernier rôle           0.0           0   \n",
       "\n",
       "       release_date  revenue  runtime  budget original_language  \\\n",
       "329026    6/30/1928        0        7       0                en   \n",
       "370604          NaN        0        0       0                en   \n",
       "792717    4/12/2015        0       52       0                fr   \n",
       "157570     3/8/1996        0       89       0                ro   \n",
       "812123     1/1/1967        0        3       0                fr   \n",
       "\n",
       "         production_companies               production_countries  \\\n",
       "329026  Warner Bros. Pictures           United States of America   \n",
       "370604                    NaN                                NaN   \n",
       "792717                    NaN                                NaN   \n",
       "157570   Cineville, Rex Media  Romania, United States of America   \n",
       "812123                    NaN                             France   \n",
       "\n",
       "         spoken_languages  \n",
       "329026            English  \n",
       "370604                NaN  \n",
       "792717                NaN  \n",
       "157570  English, Romanian  \n",
       "812123                NaN  "
      ]
     },
     "execution_count": 131,
     "metadata": {},
     "output_type": "execute_result"
    }
   ],
   "source": [
    "df = df[['id',\n",
    "    'title',\n",
    "    'vote_average',\n",
    "    'vote_count',\n",
    "    'release_date',\n",
    "    'revenue',\n",
    "    'runtime',\n",
    "    'budget',\n",
    "    'original_language',\n",
    "    'production_companies',\n",
    "    'production_countries',\n",
    "    'spoken_languages']]\n",
    "\n",
    "print(df.shape)\n",
    "df.sample(5)"
   ]
  },
  {
   "cell_type": "markdown",
   "id": "51d1a3c4-44aa-4055-bb38-c3939981c04c",
   "metadata": {},
   "source": [
    "### 1.4 Видаліть записи без дати виробництва\n",
    "\n",
    "* Видаліть з DataFrame усі рядки, де поле `release_date` містить порожнє значення (є `NaN`)."
   ]
  },
  {
   "cell_type": "code",
   "execution_count": 132,
   "id": "151ad5db-ca62-4abf-bbe9-4481c8e8c87b",
   "metadata": {},
   "outputs": [
    {
     "name": "stdout",
     "output_type": "stream",
     "text": [
      "(780548, 12)\n"
     ]
    },
    {
     "data": {
      "text/html": [
       "<div>\n",
       "<style scoped>\n",
       "    .dataframe tbody tr th:only-of-type {\n",
       "        vertical-align: middle;\n",
       "    }\n",
       "\n",
       "    .dataframe tbody tr th {\n",
       "        vertical-align: top;\n",
       "    }\n",
       "\n",
       "    .dataframe thead th {\n",
       "        text-align: right;\n",
       "    }\n",
       "</style>\n",
       "<table border=\"1\" class=\"dataframe\">\n",
       "  <thead>\n",
       "    <tr style=\"text-align: right;\">\n",
       "      <th></th>\n",
       "      <th>id</th>\n",
       "      <th>title</th>\n",
       "      <th>vote_average</th>\n",
       "      <th>vote_count</th>\n",
       "      <th>release_date</th>\n",
       "      <th>revenue</th>\n",
       "      <th>runtime</th>\n",
       "      <th>budget</th>\n",
       "      <th>original_language</th>\n",
       "      <th>production_companies</th>\n",
       "      <th>production_countries</th>\n",
       "      <th>spoken_languages</th>\n",
       "    </tr>\n",
       "  </thead>\n",
       "  <tbody>\n",
       "    <tr>\n",
       "      <th>85658</th>\n",
       "      <td>175587</td>\n",
       "      <td>Our Gang</td>\n",
       "      <td>6.4</td>\n",
       "      <td>8</td>\n",
       "      <td>11/4/1922</td>\n",
       "      <td>0</td>\n",
       "      <td>20</td>\n",
       "      <td>0</td>\n",
       "      <td>en</td>\n",
       "      <td>Hal Roach Studios</td>\n",
       "      <td>United States of America</td>\n",
       "      <td>No Language</td>\n",
       "    </tr>\n",
       "    <tr>\n",
       "      <th>883774</th>\n",
       "      <td>216103</td>\n",
       "      <td>Lenz</td>\n",
       "      <td>0.0</td>\n",
       "      <td>0</td>\n",
       "      <td>11/10/2006</td>\n",
       "      <td>0</td>\n",
       "      <td>96</td>\n",
       "      <td>0</td>\n",
       "      <td>de</td>\n",
       "      <td>Schweizer Fernsehen (FS), Bachim Films, Pandor...</td>\n",
       "      <td>Germany, Switzerland</td>\n",
       "      <td>English, German</td>\n",
       "    </tr>\n",
       "    <tr>\n",
       "      <th>74545</th>\n",
       "      <td>155941</td>\n",
       "      <td>Blue Swallow</td>\n",
       "      <td>6.8</td>\n",
       "      <td>10</td>\n",
       "      <td>12/29/2005</td>\n",
       "      <td>0</td>\n",
       "      <td>133</td>\n",
       "      <td>0</td>\n",
       "      <td>ko</td>\n",
       "      <td>Korea Pictures</td>\n",
       "      <td>South Korea</td>\n",
       "      <td>Korean</td>\n",
       "    </tr>\n",
       "    <tr>\n",
       "      <th>906782</th>\n",
       "      <td>382699</td>\n",
       "      <td>Natan</td>\n",
       "      <td>0.0</td>\n",
       "      <td>0</td>\n",
       "      <td>9/16/2003</td>\n",
       "      <td>0</td>\n",
       "      <td>13</td>\n",
       "      <td>0</td>\n",
       "      <td>en</td>\n",
       "      <td>NaN</td>\n",
       "      <td>NaN</td>\n",
       "      <td>NaN</td>\n",
       "    </tr>\n",
       "    <tr>\n",
       "      <th>789433</th>\n",
       "      <td>473299</td>\n",
       "      <td>The Dead Truth</td>\n",
       "      <td>0.0</td>\n",
       "      <td>0</td>\n",
       "      <td>8/31/2017</td>\n",
       "      <td>0</td>\n",
       "      <td>0</td>\n",
       "      <td>0</td>\n",
       "      <td>en</td>\n",
       "      <td>NaN</td>\n",
       "      <td>NaN</td>\n",
       "      <td>NaN</td>\n",
       "    </tr>\n",
       "  </tbody>\n",
       "</table>\n",
       "</div>"
      ],
      "text/plain": [
       "            id           title  vote_average  vote_count release_date  \\\n",
       "85658   175587        Our Gang           6.4           8    11/4/1922   \n",
       "883774  216103            Lenz           0.0           0   11/10/2006   \n",
       "74545   155941    Blue Swallow           6.8          10   12/29/2005   \n",
       "906782  382699           Natan           0.0           0    9/16/2003   \n",
       "789433  473299  The Dead Truth           0.0           0    8/31/2017   \n",
       "\n",
       "        revenue  runtime  budget original_language  \\\n",
       "85658         0       20       0                en   \n",
       "883774        0       96       0                de   \n",
       "74545         0      133       0                ko   \n",
       "906782        0       13       0                en   \n",
       "789433        0        0       0                en   \n",
       "\n",
       "                                     production_companies  \\\n",
       "85658                                   Hal Roach Studios   \n",
       "883774  Schweizer Fernsehen (FS), Bachim Films, Pandor...   \n",
       "74545                                      Korea Pictures   \n",
       "906782                                                NaN   \n",
       "789433                                                NaN   \n",
       "\n",
       "            production_countries spoken_languages  \n",
       "85658   United States of America      No Language  \n",
       "883774      Germany, Switzerland  English, German  \n",
       "74545                South Korea           Korean  \n",
       "906782                       NaN              NaN  \n",
       "789433                       NaN              NaN  "
      ]
     },
     "execution_count": 132,
     "metadata": {},
     "output_type": "execute_result"
    }
   ],
   "source": [
    "df.dropna(subset=['release_date'], inplace=True)\n",
    "print(df.shape)\n",
    "df.sample(5)"
   ]
  },
  {
   "cell_type": "markdown",
   "id": "9d512989-bb43-4933-9af5-1c0ffecc21e6",
   "metadata": {},
   "source": [
    "### 1.5 Форматуйте стовпчик `release_date`\n",
    "\n",
    "* Перетворіть значення стовпчика `release_date` так, щоб залишився лише рік виробництва фільму, при цьому:\n",
    "    * Врахуйте, що формат дати у стовпчику може варіюватися, наприклад, бути у вигляді `mm/dd/YYYY` або `DD-MM-YYYY`.\n",
    "    * У результаті значення має бути представлене лише роком (наприклад, `2023`)."
   ]
  },
  {
   "cell_type": "code",
   "execution_count": 133,
   "id": "d456891a-3199-4c1a-9a04-8b78e104e92f",
   "metadata": {},
   "outputs": [
    {
     "name": "stdout",
     "output_type": "stream",
     "text": [
      "(780548, 12)\n",
      "(780548, 12)\n"
     ]
    }
   ],
   "source": [
    "# деякі дані також формату 1897-12-07\n",
    "\n",
    "def extract_year(date_value):\n",
    "    \"\"\"\n",
    "    Функція для екстракції року з різних форматів дат:\n",
    "      - mm/dd/YYYY\n",
    "      - DD-MM-YYYY\n",
    "      - YYYY-mm-dd\n",
    "    Якщо формат інший або рік не визначається, повертає None.\n",
    "    \"\"\"\n",
    "    import re\n",
    "    \n",
    "    # Припустимо, що 4 цифри - це рік. Шукаємо групу з 4 цифр.\n",
    "    \n",
    "    pattern = r'(\\d{4})'\n",
    "    match = re.search(pattern, str(date_value))\n",
    "    \n",
    "    if match:\n",
    "        return match.group(1)\n",
    "    return None\n",
    "\n",
    "df_manual = df.copy()\n",
    "df_manual['release_date'] = df['release_date'].apply(extract_year)\n",
    "print(df_manual.shape)\n",
    "\n",
    "# за допомогою pandas\n",
    "df['release_date'] = pd.to_datetime(df['release_date'], errors='coerce')\n",
    "df['release_date'] = df['release_date'].dt.year\n",
    "print(df.shape)"
   ]
  },
  {
   "cell_type": "markdown",
   "id": "50b44d64-bd91-4788-89f5-984e834d6c41",
   "metadata": {},
   "source": [
    "## 2. Дослідження датасету"
   ]
  },
  {
   "cell_type": "markdown",
   "id": "d2150bdc-caf4-45e2-b4c6-79982eefab82",
   "metadata": {},
   "source": [
    "### 2.1 Порахуйте скільки всього фільмів у DataFrame"
   ]
  },
  {
   "cell_type": "code",
   "execution_count": 134,
   "id": "540d4905-1690-42d8-8fa6-85801d654e8a",
   "metadata": {},
   "outputs": [
    {
     "name": "stdout",
     "output_type": "stream",
     "text": [
      "Всього фільмів: 780548\n"
     ]
    }
   ],
   "source": [
    "total_movies = df.shape[0]\n",
    "print(f\"Всього фільмів: {total_movies}\")"
   ]
  },
  {
   "cell_type": "markdown",
   "id": "37193900-cbfd-4746-bc9d-4ce9c2b87f6a",
   "metadata": {},
   "source": [
    "### 2.2 Дослідження бюджету"
   ]
  },
  {
   "cell_type": "markdown",
   "id": "693527d0-8a79-4070-bee3-907309afc7c1",
   "metadata": {},
   "source": [
    "__(a) Відфільтруйте фільми, бюджет (`budget`) котрих більше $100 тис. та запишіть їх у нову змінну.__"
   ]
  },
  {
   "cell_type": "code",
   "execution_count": 135,
   "id": "3e95f9f3-68f8-4ca7-b35d-785d2b416031",
   "metadata": {},
   "outputs": [],
   "source": [
    "df_big_budget = df[df['budget'] > 100000]"
   ]
  },
  {
   "cell_type": "markdown",
   "id": "addc61ef-7df9-42e9-8309-654144f4e5e3",
   "metadata": {},
   "source": [
    "__(b) Порахуйте кількість фільмів, бюджет котрих більше $100 тис. (використайте створену змінну).__"
   ]
  },
  {
   "cell_type": "code",
   "execution_count": 136,
   "id": "d73da762-19a7-468b-abb7-fa251389339f",
   "metadata": {},
   "outputs": [
    {
     "name": "stdout",
     "output_type": "stream",
     "text": [
      "Фільмів з бюджетом > 100 тис.: 18724\n"
     ]
    }
   ],
   "source": [
    "count_big_budget = df_big_budget.shape[0]\n",
    "print(\"Фільмів з бюджетом > 100 тис.:\", count_big_budget)"
   ]
  },
  {
   "cell_type": "markdown",
   "id": "891b0575-4b51-42e1-bc76-9cee7341303c",
   "metadata": {},
   "source": [
    "__(c) Порахуйте середній бюджет фільмів, бюджет котрих більше $100 тис. (використайте створену змінну).__"
   ]
  },
  {
   "cell_type": "code",
   "execution_count": 137,
   "id": "2789cd1d-bfc9-4599-91b9-c0258425a206",
   "metadata": {},
   "outputs": [
    {
     "name": "stdout",
     "output_type": "stream",
     "text": [
      "Середній бюджет фільмів з бюджетом > 100 тис.: 15320807.837374493\n"
     ]
    }
   ],
   "source": [
    "avg_big_budget = df_big_budget['budget'].mean()\n",
    "print(\"Середній бюджет фільмів з бюджетом > 100 тис.:\", avg_big_budget)"
   ]
  },
  {
   "cell_type": "markdown",
   "id": "08858c14-30e6-4cfc-9c69-98a4d8975297",
   "metadata": {},
   "source": [
    "__(d) Виведіть назви (поле `title`) десятьох фільмів з найбільшими бюджетами.__"
   ]
  },
  {
   "cell_type": "code",
   "execution_count": 138,
   "id": "f5f7ef9e-5d44-4436-9f28-559b187ef90d",
   "metadata": {},
   "outputs": [
    {
     "name": "stdout",
     "output_type": "stream",
     "text": [
      "10 фільмів з найбільшими бюджетами:\n",
      "                                              title     budget\n",
      "507929                                         Enea  888000000\n",
      "707555                      Adventures in Bora Bora  800000000\n",
      "897481                                     Avatar 5  600000000\n",
      "512990                Red Dead Redemption 2 (Movie)  540000000\n",
      "883843                                     Avatar 4  500000000\n",
      "880044                                     Avatar 3  500000000\n",
      "282                        Avatar: The Way of Water  460000000\n",
      "30222                             Lost in the Stars  417549000\n",
      "153     Pirates of the Caribbean: On Stranger Tides  379000000\n",
      "23                          Avengers: Age of Ultron  365000000\n"
     ]
    }
   ],
   "source": [
    "top10_budget = df.sort_values(by='budget', ascending=False).head(10)\n",
    "print(\"10 фільмів з найбільшими бюджетами:\")\n",
    "print(top10_budget[['title', 'budget']])"
   ]
  },
  {
   "cell_type": "markdown",
   "id": "8a9b8967-3501-4bc6-a8a9-20d90d00f08d",
   "metadata": {},
   "source": [
    "### 2.3 Дослідження мов та країн"
   ]
  },
  {
   "cell_type": "markdown",
   "id": "264d57e9-c0df-4f8b-8a2c-8187b7e9d229",
   "metadata": {},
   "source": [
    "__(a) Відфільтруйте фільми, які мають українську мову оригіналу (поле `original_language` дорівнює `uk`) та запишіть їх у нову змінну.__"
   ]
  },
  {
   "cell_type": "code",
   "execution_count": 139,
   "id": "746f99ec-9a2e-42d2-b4bf-742668ceadda",
   "metadata": {},
   "outputs": [
    {
     "data": {
      "text/html": [
       "<div>\n",
       "<style scoped>\n",
       "    .dataframe tbody tr th:only-of-type {\n",
       "        vertical-align: middle;\n",
       "    }\n",
       "\n",
       "    .dataframe tbody tr th {\n",
       "        vertical-align: top;\n",
       "    }\n",
       "\n",
       "    .dataframe thead th {\n",
       "        text-align: right;\n",
       "    }\n",
       "</style>\n",
       "<table border=\"1\" class=\"dataframe\">\n",
       "  <thead>\n",
       "    <tr style=\"text-align: right;\">\n",
       "      <th></th>\n",
       "      <th>id</th>\n",
       "      <th>title</th>\n",
       "      <th>vote_average</th>\n",
       "      <th>vote_count</th>\n",
       "      <th>release_date</th>\n",
       "      <th>revenue</th>\n",
       "      <th>runtime</th>\n",
       "      <th>budget</th>\n",
       "      <th>original_language</th>\n",
       "      <th>production_companies</th>\n",
       "      <th>production_countries</th>\n",
       "      <th>spoken_languages</th>\n",
       "    </tr>\n",
       "  </thead>\n",
       "  <tbody>\n",
       "    <tr>\n",
       "      <th>868099</th>\n",
       "      <td>296938</td>\n",
       "      <td>The Seventh Route</td>\n",
       "      <td>0.0</td>\n",
       "      <td>0</td>\n",
       "      <td>1997.0</td>\n",
       "      <td>0</td>\n",
       "      <td>82</td>\n",
       "      <td>0</td>\n",
       "      <td>uk</td>\n",
       "      <td>Dovzhenko Film Studios</td>\n",
       "      <td>Ukraine</td>\n",
       "      <td>English, Russian, Ukrainian</td>\n",
       "    </tr>\n",
       "    <tr>\n",
       "      <th>97444</th>\n",
       "      <td>662716</td>\n",
       "      <td>Infernal Guidon, or Cossack Christmas</td>\n",
       "      <td>3.9</td>\n",
       "      <td>7</td>\n",
       "      <td>2020.0</td>\n",
       "      <td>0</td>\n",
       "      <td>102</td>\n",
       "      <td>1340000</td>\n",
       "      <td>uk</td>\n",
       "      <td>Ukrainian State Film Agency</td>\n",
       "      <td>Ukraine</td>\n",
       "      <td>Ukrainian</td>\n",
       "    </tr>\n",
       "    <tr>\n",
       "      <th>497446</th>\n",
       "      <td>1061365</td>\n",
       "      <td>The Seventh Shift</td>\n",
       "      <td>0.0</td>\n",
       "      <td>0</td>\n",
       "      <td>2023.0</td>\n",
       "      <td>0</td>\n",
       "      <td>15</td>\n",
       "      <td>0</td>\n",
       "      <td>uk</td>\n",
       "      <td>NaN</td>\n",
       "      <td>Ukraine</td>\n",
       "      <td>No Language</td>\n",
       "    </tr>\n",
       "    <tr>\n",
       "      <th>190066</th>\n",
       "      <td>343562</td>\n",
       "      <td>Baby Mice</td>\n",
       "      <td>4.5</td>\n",
       "      <td>2</td>\n",
       "      <td>1982.0</td>\n",
       "      <td>0</td>\n",
       "      <td>8</td>\n",
       "      <td>0</td>\n",
       "      <td>uk</td>\n",
       "      <td>Kyivnaukfilm</td>\n",
       "      <td>Soviet Union</td>\n",
       "      <td>No Language</td>\n",
       "    </tr>\n",
       "    <tr>\n",
       "      <th>292311</th>\n",
       "      <td>923879</td>\n",
       "      <td>On One's Own Land</td>\n",
       "      <td>8.0</td>\n",
       "      <td>1</td>\n",
       "      <td>2017.0</td>\n",
       "      <td>0</td>\n",
       "      <td>7</td>\n",
       "      <td>0</td>\n",
       "      <td>uk</td>\n",
       "      <td>NaN</td>\n",
       "      <td>Ukraine</td>\n",
       "      <td>Ukrainian</td>\n",
       "    </tr>\n",
       "  </tbody>\n",
       "</table>\n",
       "</div>"
      ],
      "text/plain": [
       "             id                                  title  vote_average  \\\n",
       "868099   296938                      The Seventh Route           0.0   \n",
       "97444    662716  Infernal Guidon, or Cossack Christmas           3.9   \n",
       "497446  1061365                      The Seventh Shift           0.0   \n",
       "190066   343562                              Baby Mice           4.5   \n",
       "292311   923879                      On One's Own Land           8.0   \n",
       "\n",
       "        vote_count  release_date  revenue  runtime   budget original_language  \\\n",
       "868099           0        1997.0        0       82        0                uk   \n",
       "97444            7        2020.0        0      102  1340000                uk   \n",
       "497446           0        2023.0        0       15        0                uk   \n",
       "190066           2        1982.0        0        8        0                uk   \n",
       "292311           1        2017.0        0        7        0                uk   \n",
       "\n",
       "               production_companies production_countries  \\\n",
       "868099       Dovzhenko Film Studios              Ukraine   \n",
       "97444   Ukrainian State Film Agency              Ukraine   \n",
       "497446                          NaN              Ukraine   \n",
       "190066                 Kyivnaukfilm         Soviet Union   \n",
       "292311                          NaN              Ukraine   \n",
       "\n",
       "                   spoken_languages  \n",
       "868099  English, Russian, Ukrainian  \n",
       "97444                     Ukrainian  \n",
       "497446                  No Language  \n",
       "190066                  No Language  \n",
       "292311                    Ukrainian  "
      ]
     },
     "execution_count": 139,
     "metadata": {},
     "output_type": "execute_result"
    }
   ],
   "source": [
    "df_ukr_lang = df[df['original_language'] == 'uk']\n",
    "df_ukr_lang.sample(5)"
   ]
  },
  {
   "cell_type": "markdown",
   "id": "b3caa93a-8534-43b3-a671-f598401c607d",
   "metadata": {},
   "source": [
    "__(b) Порахуйте кількість фільмів, які мають українську мову оригіналу (використайте створену змінну).__"
   ]
  },
  {
   "cell_type": "code",
   "execution_count": 140,
   "id": "5c9c3d9a-b7a3-4fad-90a1-131c45a36cd7",
   "metadata": {},
   "outputs": [
    {
     "name": "stdout",
     "output_type": "stream",
     "text": [
      "Фільмів з українською мовою оригіналу: 2038\n"
     ]
    }
   ],
   "source": [
    "count_ukr_lang = df_ukr_lang.shape[0]\n",
    "print(\"Фільмів з українською мовою оригіналу:\", count_ukr_lang)"
   ]
  },
  {
   "cell_type": "markdown",
   "id": "b86387b5-68dc-4e0b-9822-763123ed8003",
   "metadata": {},
   "source": [
    "__(c) Відфільтруйте фільми, які були вироблені за участю України (поле `production_countries` містить рядок `Ukraine`) та запишіть їх у нову змінну.__"
   ]
  },
  {
   "cell_type": "code",
   "execution_count": 141,
   "id": "7d809f23-9a48-4cec-b327-e9d0d152210b",
   "metadata": {},
   "outputs": [
    {
     "data": {
      "text/html": [
       "<div>\n",
       "<style scoped>\n",
       "    .dataframe tbody tr th:only-of-type {\n",
       "        vertical-align: middle;\n",
       "    }\n",
       "\n",
       "    .dataframe tbody tr th {\n",
       "        vertical-align: top;\n",
       "    }\n",
       "\n",
       "    .dataframe thead th {\n",
       "        text-align: right;\n",
       "    }\n",
       "</style>\n",
       "<table border=\"1\" class=\"dataframe\">\n",
       "  <thead>\n",
       "    <tr style=\"text-align: right;\">\n",
       "      <th></th>\n",
       "      <th>id</th>\n",
       "      <th>title</th>\n",
       "      <th>vote_average</th>\n",
       "      <th>vote_count</th>\n",
       "      <th>release_date</th>\n",
       "      <th>revenue</th>\n",
       "      <th>runtime</th>\n",
       "      <th>budget</th>\n",
       "      <th>original_language</th>\n",
       "      <th>production_companies</th>\n",
       "      <th>production_countries</th>\n",
       "      <th>spoken_languages</th>\n",
       "    </tr>\n",
       "  </thead>\n",
       "  <tbody>\n",
       "    <tr>\n",
       "      <th>387871</th>\n",
       "      <td>1136116</td>\n",
       "      <td>Chyhyryn is the capital of Hetman Bohdan Khmel...</td>\n",
       "      <td>0.0</td>\n",
       "      <td>0</td>\n",
       "      <td>1993.0</td>\n",
       "      <td>0</td>\n",
       "      <td>27</td>\n",
       "      <td>0</td>\n",
       "      <td>uk</td>\n",
       "      <td>Ukrainian News and Documentary Film Studio</td>\n",
       "      <td>Ukraine</td>\n",
       "      <td>NaN</td>\n",
       "    </tr>\n",
       "    <tr>\n",
       "      <th>906057</th>\n",
       "      <td>388236</td>\n",
       "      <td>Man From The \"Alpha\" Team</td>\n",
       "      <td>0.0</td>\n",
       "      <td>0</td>\n",
       "      <td>1992.0</td>\n",
       "      <td>0</td>\n",
       "      <td>85</td>\n",
       "      <td>0</td>\n",
       "      <td>uk</td>\n",
       "      <td>NaN</td>\n",
       "      <td>Ukraine</td>\n",
       "      <td>Russian</td>\n",
       "    </tr>\n",
       "    <tr>\n",
       "      <th>153987</th>\n",
       "      <td>59551</td>\n",
       "      <td>Mysterious Island</td>\n",
       "      <td>5.0</td>\n",
       "      <td>3</td>\n",
       "      <td>2008.0</td>\n",
       "      <td>0</td>\n",
       "      <td>90</td>\n",
       "      <td>0</td>\n",
       "      <td>ru</td>\n",
       "      <td>NaN</td>\n",
       "      <td>Russia, Ukraine</td>\n",
       "      <td>Russian</td>\n",
       "    </tr>\n",
       "    <tr>\n",
       "      <th>234947</th>\n",
       "      <td>873767</td>\n",
       "      <td>REFLEXIO</td>\n",
       "      <td>6.0</td>\n",
       "      <td>1</td>\n",
       "      <td>2021.0</td>\n",
       "      <td>0</td>\n",
       "      <td>15</td>\n",
       "      <td>0</td>\n",
       "      <td>uk</td>\n",
       "      <td>NaN</td>\n",
       "      <td>Ukraine</td>\n",
       "      <td>Ukrainian</td>\n",
       "    </tr>\n",
       "    <tr>\n",
       "      <th>1042610</th>\n",
       "      <td>920244</td>\n",
       "      <td>Unexplainable Substance</td>\n",
       "      <td>0.0</td>\n",
       "      <td>0</td>\n",
       "      <td>2020.0</td>\n",
       "      <td>0</td>\n",
       "      <td>6</td>\n",
       "      <td>0</td>\n",
       "      <td>ru</td>\n",
       "      <td>NaN</td>\n",
       "      <td>Ukraine</td>\n",
       "      <td>Russian</td>\n",
       "    </tr>\n",
       "  </tbody>\n",
       "</table>\n",
       "</div>"
      ],
      "text/plain": [
       "              id                                              title  \\\n",
       "387871   1136116  Chyhyryn is the capital of Hetman Bohdan Khmel...   \n",
       "906057    388236                          Man From The \"Alpha\" Team   \n",
       "153987     59551                                  Mysterious Island   \n",
       "234947    873767                                           REFLEXIO   \n",
       "1042610   920244                            Unexplainable Substance   \n",
       "\n",
       "         vote_average  vote_count  release_date  revenue  runtime  budget  \\\n",
       "387871            0.0           0        1993.0        0       27       0   \n",
       "906057            0.0           0        1992.0        0       85       0   \n",
       "153987            5.0           3        2008.0        0       90       0   \n",
       "234947            6.0           1        2021.0        0       15       0   \n",
       "1042610           0.0           0        2020.0        0        6       0   \n",
       "\n",
       "        original_language                        production_companies  \\\n",
       "387871                 uk  Ukrainian News and Documentary Film Studio   \n",
       "906057                 uk                                         NaN   \n",
       "153987                 ru                                         NaN   \n",
       "234947                 uk                                         NaN   \n",
       "1042610                ru                                         NaN   \n",
       "\n",
       "        production_countries spoken_languages  \n",
       "387871               Ukraine              NaN  \n",
       "906057               Ukraine          Russian  \n",
       "153987       Russia, Ukraine          Russian  \n",
       "234947               Ukraine        Ukrainian  \n",
       "1042610              Ukraine          Russian  "
      ]
     },
     "execution_count": 141,
     "metadata": {},
     "output_type": "execute_result"
    }
   ],
   "source": [
    "df_ukraine_produced = df[df['production_countries'].str.contains('Ukraine', na=False)]\n",
    "df_ukraine_produced.sample(5)"
   ]
  },
  {
   "cell_type": "markdown",
   "id": "23f6e6fe-97d3-4ebe-8cfc-28e88eaab80e",
   "metadata": {},
   "source": [
    "__(d) Порахуйте кількість фільмів, які були вироблені за участю України (використайте створену змінну).__"
   ]
  },
  {
   "cell_type": "code",
   "execution_count": 142,
   "id": "cc48afa3-b0bc-419b-88c8-d27d0cdfc656",
   "metadata": {},
   "outputs": [
    {
     "name": "stdout",
     "output_type": "stream",
     "text": [
      "Фільмів, вироблених в Україні: 2236\n"
     ]
    }
   ],
   "source": [
    "count_ukraine_produced = df_ukraine_produced.shape[0]\n",
    "print(\"Фільмів, вироблених в Україні:\", count_ukraine_produced)"
   ]
  },
  {
   "cell_type": "markdown",
   "id": "ea203b56-b9ff-4761-8c0f-a17c1e1e7c3e",
   "metadata": {},
   "source": [
    "__(e) Використовуючи першу змінну з блоку `2.3` порахуйте кількість фільмів, що мають українську мову оригіналу та були вироблені виключно в Україні.__"
   ]
  },
  {
   "cell_type": "code",
   "execution_count": 143,
   "id": "19b0f29f-c2d5-4310-9a27-43880b454ae1",
   "metadata": {},
   "outputs": [
    {
     "name": "stdout",
     "output_type": "stream",
     "text": [
      "Фільмів з українською мовою оригіналу, вироблених виключно в Україні: 1301\n"
     ]
    }
   ],
   "source": [
    "df_ukr_only = df_ukr_lang[df_ukr_lang['production_countries'].eq('Ukraine')]\n",
    "count_ukr_only = df_ukr_only.shape[0]\n",
    "print(\"Фільмів з українською мовою оригіналу, вироблених виключно в Україні:\", count_ukr_only)"
   ]
  },
  {
   "cell_type": "markdown",
   "id": "bc906d5e-2c8e-44d9-9073-1bd6c93195b6",
   "metadata": {},
   "source": [
    "__(f) Використовуючи другу змінну з блоку `2.3` порахуйте частку фільмів, які були вироблені виключно в Україні у відношенні до фільмів, у виробництві яких Україна приймала участь.__"
   ]
  },
  {
   "cell_type": "code",
   "execution_count": 144,
   "id": "271f6d8f-0100-4506-afcd-30ace40860d2",
   "metadata": {},
   "outputs": [
    {
     "name": "stdout",
     "output_type": "stream",
     "text": [
      "Частка виключно українських фільмів від загальної к-сті фільмів за участю України: 0.7580500894454383\n"
     ]
    }
   ],
   "source": [
    "df_exclusively_ukr = df_ukraine_produced[df_ukraine_produced['production_countries'].eq('Ukraine')]\n",
    "part = df_exclusively_ukr.shape[0] / count_ukraine_produced if count_ukraine_produced else 0\n",
    "print(\"Частка виключно українських фільмів від загальної к-сті фільмів за участю України:\", part)"
   ]
  },
  {
   "cell_type": "markdown",
   "id": "061464cb-8673-481f-b364-bda1dc1ebbb5",
   "metadata": {},
   "source": [
    "__(g) Виведіть назви та збори усіх фільмів, мова оригіналу котрих є українською, та які зібрали більше $1 млн. (`revenue` більше за 1000000), використовуючи першу змінну з блоку `2.3`.__"
   ]
  },
  {
   "cell_type": "code",
   "execution_count": 145,
   "id": "f98c8549-3175-4378-b333-3296812c494b",
   "metadata": {},
   "outputs": [
    {
     "name": "stdout",
     "output_type": "stream",
     "text": [
      "Фільми українською мовою, що зібрали понад 1 млн.:\n",
      "                        title   revenue\n",
      "7532   Mavka: The Forest Song  16858557\n",
      "11501          The Stronghold   2745966\n",
      "14832     The Stolen Princess   6914017\n"
     ]
    }
   ],
   "source": [
    "df_ukr_million = df_ukr_lang[df_ukr_lang['revenue'] > 1000000]\n",
    "print(\"Фільми українською мовою, що зібрали понад 1 млн.:\")\n",
    "print(df_ukr_million[['title', 'revenue']])\n"
   ]
  },
  {
   "cell_type": "markdown",
   "id": "e0fa735a-5dbe-4459-a1b9-3e8dea4531e8",
   "metadata": {},
   "source": [
    "### 2.4 Дослідження років випуску"
   ]
  },
  {
   "cell_type": "markdown",
   "id": "a61e1af6-9aa6-45e5-a03b-985ea609dcaa",
   "metadata": {},
   "source": [
    "__(a) Порахуйте кількість фільмів, які були вироблені у 2000 році (поле `release_date` дорівнює `2000`).__"
   ]
  },
  {
   "cell_type": "code",
   "execution_count": 146,
   "id": "d9483f4a-4b38-4388-94b5-08e1798b4f6e",
   "metadata": {},
   "outputs": [
    {
     "name": "stdout",
     "output_type": "stream",
     "text": [
      "Фільмів 2000 року: 7296\n"
     ]
    }
   ],
   "source": [
    "count_2000 = df[df['release_date'] == 2000].shape[0]\n",
    "print(\"Фільмів 2000 року:\", count_2000)"
   ]
  },
  {
   "cell_type": "markdown",
   "id": "187636cb-3a23-4c48-82b9-b40c8694bcc0",
   "metadata": {},
   "source": [
    "__(b) Порахуйте кількість фільмів, які були вироблені у період з 2000 по 2023 роки (спробуйте це зробити без використання додаткових змінних).__"
   ]
  },
  {
   "cell_type": "code",
   "execution_count": 147,
   "id": "2d71ae8a-d734-4004-9d83-12457c279338",
   "metadata": {},
   "outputs": [
    {
     "name": "stdout",
     "output_type": "stream",
     "text": [
      "Фільмів у період 2000-2023: 476289\n"
     ]
    }
   ],
   "source": [
    "count_2000_2023 = df[(df['release_date'] >= 2000) & (df['release_date'] <= 2023)].shape[0]\n",
    "print(\"Фільмів у період 2000-2023:\", count_2000_2023)"
   ]
  },
  {
   "cell_type": "markdown",
   "id": "c888d90b-7463-4de7-aa06-c06846043288",
   "metadata": {},
   "source": [
    "__(c) Перевірте чи у 2020 році було вироблено більше фільмів, ніж у 2019.__"
   ]
  },
  {
   "cell_type": "code",
   "execution_count": 148,
   "id": "c186c147-bdd2-4283-a0ed-933f9e9fe5d1",
   "metadata": {},
   "outputs": [
    {
     "name": "stdout",
     "output_type": "stream",
     "text": [
      "У 2020 році фільмів не більше, ніж у 2019.\n"
     ]
    }
   ],
   "source": [
    "count_2019 = df[df['release_date'] == 2019].shape[0]\n",
    "count_2020 = df[df['release_date'] == 2020].shape[0]\n",
    "if count_2020 > count_2019:\n",
    "    print(\"У 2020 році фільмів більше, ніж у 2019.\")\n",
    "else:\n",
    "    print(\"У 2020 році фільмів не більше, ніж у 2019.\")"
   ]
  },
  {
   "cell_type": "markdown",
   "id": "b2e4b47c-14af-4409-bcee-047a03491e65",
   "metadata": {},
   "source": [
    "__(d) Виведіть назви, прибутковість та бюджети 5-ти найприбутковіших (використовуйте поле `revenue`) фільмів 2021 року.__"
   ]
  },
  {
   "cell_type": "code",
   "execution_count": 149,
   "id": "c09d9c08-8b5d-4398-9ba6-171709ceae0c",
   "metadata": {},
   "outputs": [
    {
     "name": "stdout",
     "output_type": "stream",
     "text": [
      "5 найприбутковіших фільмів 2021 року:\n",
      "                             title     revenue     budget\n",
      "57         Spider-Man: No Way Home  1921847111  200000000\n",
      "22216  The Battle at Lake Changjin   902540935  200000000\n",
      "16488                      Hi, Mom   822049668   59000000\n",
      "732                 No Time to Die   774153007  250000000\n",
      "542                             F9   726229501  200000000\n"
     ]
    }
   ],
   "source": [
    "df_2021 = df[df['release_date'] == 2021]\n",
    "top5_2021_revenue = df_2021.sort_values(by='revenue', ascending=False).head(5)\n",
    "print(\"5 найприбутковіших фільмів 2021 року:\")\n",
    "print(top5_2021_revenue[['title', 'revenue', 'budget']])"
   ]
  },
  {
   "cell_type": "markdown",
   "id": "b2b95fee-becc-4e30-8118-edf65e613018",
   "metadata": {},
   "source": [
    "__(e) Визначте топ-5 найбільш розповсюджених мов оригіналу серед усіх фільмів.__"
   ]
  },
  {
   "cell_type": "code",
   "execution_count": 150,
   "id": "4b96e771-1cd6-435f-ac64-3d5c2397c9d3",
   "metadata": {},
   "outputs": [
    {
     "name": "stdout",
     "output_type": "stream",
     "text": [
      "Топ-5 найбільш розповсюджених мов оригіналу:\n",
      "original_language\n",
      "en    388461\n",
      "fr     49779\n",
      "es     44300\n",
      "de     39592\n",
      "ja     36703\n",
      "Name: count, dtype: int64\n"
     ]
    }
   ],
   "source": [
    "top5_languages = df['original_language'].value_counts().head(5)\n",
    "print(\"Топ-5 найбільш розповсюджених мов оригіналу:\")\n",
    "print(top5_languages)"
   ]
  },
  {
   "cell_type": "markdown",
   "id": "3af1e493-65fe-4c52-979c-e8f22aded39e",
   "metadata": {},
   "source": [
    "### 2.5 Дослідження тривалості фільму та оцінок"
   ]
  },
  {
   "cell_type": "markdown",
   "id": "1e7f1b89-6b2a-44bc-8756-16cd4436d146",
   "metadata": {},
   "source": [
    "__(a) Відфільтруйте фільми, які мають більше 1000 голосів (поле `vote_count` більше `1000`) та запишіть їх у нову змінну.__"
   ]
  },
  {
   "cell_type": "code",
   "execution_count": 151,
   "id": "028931c1-e00c-4ff3-ba13-2c2858fd79e2",
   "metadata": {},
   "outputs": [
    {
     "data": {
      "text/plain": [
       "(3937, 12)"
      ]
     },
     "execution_count": 151,
     "metadata": {},
     "output_type": "execute_result"
    }
   ],
   "source": [
    "df_more_1000_votes = df[df['vote_count'] > 1000]\n",
    "df_more_1000_votes.shape"
   ]
  },
  {
   "cell_type": "markdown",
   "id": "36d712da-558e-47b2-9bff-4e90541eabdb",
   "metadata": {},
   "source": [
    "__(b) Наведіть назви та тривалість пʼяти найтриваліших фільмів, які мають більше 1000 голосів (використовуйте створену змінну).__"
   ]
  },
  {
   "cell_type": "code",
   "execution_count": 152,
   "id": "eed446f8-d762-417a-8418-4e7f0c765ab5",
   "metadata": {},
   "outputs": [
    {
     "name": "stdout",
     "output_type": "stream",
     "text": [
      "5 найдовших фільмів з vote_count > 1000:\n",
      "                             title  runtime\n",
      "328   Zack Snyder's Justice League      242\n",
      "1193            Gone with the Wind      238\n",
      "864    Once Upon a Time in America      229\n",
      "1663            Lawrence of Arabia      228\n",
      "1800                       Ben-Hur      222\n"
     ]
    }
   ],
   "source": [
    "top5_longest = df_more_1000_votes.sort_values(by='runtime', ascending=False).head(5)\n",
    "print(\"5 найдовших фільмів з vote_count > 1000:\")\n",
    "print(top5_longest[['title', 'runtime']])"
   ]
  },
  {
   "cell_type": "markdown",
   "id": "b889fa8c-58c0-4205-8ffe-c24a11ca2109",
   "metadata": {},
   "source": [
    "__(с) Порахуйте середню оцінку фільмів, які є у топ-10 за кількістю голосів (використовувати створену змінну не обовʼязково).__"
   ]
  },
  {
   "cell_type": "code",
   "execution_count": 153,
   "id": "7a9c69ce-1684-4f56-b96b-df2e329f3163",
   "metadata": {},
   "outputs": [
    {
     "name": "stdout",
     "output_type": "stream",
     "text": [
      "Середня оцінка фільмів у топ-10 за кількістю голосів: 8.126900000000001\n"
     ]
    }
   ],
   "source": [
    "top10_votes = df.sort_values(by='vote_count', ascending=False).head(10)\n",
    "mean_vote_top10 = top10_votes['vote_average'].mean()\n",
    "print(\"Середня оцінка фільмів у топ-10 за кількістю голосів:\", mean_vote_top10)"
   ]
  },
  {
   "cell_type": "markdown",
   "id": "10d89a85-13a1-4207-9a2b-1ec1c83f1a8b",
   "metadata": {},
   "source": [
    "### 2.6 Дослідження кіновиробничих компаній"
   ]
  },
  {
   "cell_type": "markdown",
   "id": "ff411640-4d92-436b-afe6-2ca94c79ed55",
   "metadata": {},
   "source": [
    "__(a) Відфільтруйте фільми кіностудії `DC Comics` які мають кількість оцінок більше 100 та запишіть їх у нову змінну.__"
   ]
  },
  {
   "cell_type": "code",
   "execution_count": 154,
   "id": "82a57b1f-6f90-4ebb-80d3-77372aa44ed6",
   "metadata": {},
   "outputs": [
    {
     "data": {
      "text/plain": [
       "(79, 12)"
      ]
     },
     "execution_count": 154,
     "metadata": {},
     "output_type": "execute_result"
    }
   ],
   "source": [
    "df_dc = df[\n",
    "    df['production_companies'].notna() & \n",
    "    df['production_companies'].str.contains('DC Comics')\n",
    "]\n",
    "df_dc_filtered = df_dc[df_dc['vote_count'] > 100]\n",
    "df_dc_filtered.shape"
   ]
  },
  {
   "cell_type": "markdown",
   "id": "67b27ca8-fce6-4c12-9f56-d54762940dc8",
   "metadata": {},
   "source": [
    "__(b) Виконайте аналогічні дії для фільмів кіностудії `Marvel Studios` та запишіть їх у нову змінну.__"
   ]
  },
  {
   "cell_type": "code",
   "execution_count": 155,
   "id": "07a39935-e629-4c49-bfc9-966309ff591b",
   "metadata": {},
   "outputs": [
    {
     "data": {
      "text/plain": [
       "(51, 12)"
      ]
     },
     "execution_count": 155,
     "metadata": {},
     "output_type": "execute_result"
    }
   ],
   "source": [
    "df_marvel = df[\n",
    "    df['production_companies'].notna() & \n",
    "    df['production_companies'].str.contains('Marvel Studios')\n",
    "]\n",
    "df_marvel_filtered = df_marvel[df_marvel['vote_count'] > 100]\n",
    "df_marvel_filtered.shape"
   ]
  },
  {
   "cell_type": "markdown",
   "id": "df2e6bb7-1a2b-4c1a-9f47-199a6d4a9066",
   "metadata": {},
   "source": [
    "__(c) Створіть DataFrame, який показує для кожної з двох кіностудій кількість фільмів, базуючись на змінних, отриманих під час виконання завдання `2.6`, та запишіть його у нову змінну.__\n",
    "\n",
    "__Стовпець із назвами кіностудій назвіть `studio`, а стовпець з кількістю фільмів - `total_films`.__"
   ]
  },
  {
   "cell_type": "code",
   "execution_count": 156,
   "id": "1de3f28e-cd32-432a-8d71-eb7ee3f73b1a",
   "metadata": {},
   "outputs": [
    {
     "name": "stdout",
     "output_type": "stream",
     "text": [
      "           studio  total_films\n",
      "0       DC Comics           79\n",
      "1  Marvel Studios           51\n"
     ]
    }
   ],
   "source": [
    "data = {\n",
    "    'studio': ['DC Comics', 'Marvel Studios'],\n",
    "    'total_films': [df_dc_filtered.shape[0], df_marvel_filtered.shape[0]]\n",
    "}\n",
    "df_studios = pd.DataFrame(data)\n",
    "print(df_studios)"
   ]
  },
  {
   "cell_type": "markdown",
   "id": "ef7b995d-6ffc-4fd3-b10f-ccb3db681094",
   "metadata": {},
   "source": [
    "__(d) Порахуйте середню оцінку фільмів для кожної кіностудії окремо та запишіть ці значення у стовпчик створеного DataFrame під назвою `average_vote`.__"
   ]
  },
  {
   "cell_type": "code",
   "execution_count": 157,
   "id": "69b92a3b-de89-4107-a9bd-c37702fe6b76",
   "metadata": {},
   "outputs": [
    {
     "name": "stdout",
     "output_type": "stream",
     "text": [
      "           studio  total_films  average_vote\n",
      "0       DC Comics           79      6.788684\n",
      "1  Marvel Studios           51      7.096588\n"
     ]
    }
   ],
   "source": [
    "avg_dc_vote = df_dc_filtered['vote_average'].mean()\n",
    "avg_marvel_vote = df_marvel_filtered['vote_average'].mean()\n",
    "df_studios['average_vote'] = [avg_dc_vote, avg_marvel_vote]\n",
    "print(df_studios)"
   ]
  },
  {
   "cell_type": "markdown",
   "id": "6424e95e-301e-4d80-9624-1a2f80110011",
   "metadata": {},
   "source": [
    "### 2.7 Додаткові завдання (*)\n",
    "\n",
    "__Виконання ціх завдань необовʼязкове, проте вони є чудовим інструментом для тестування отриманих навичок.__"
   ]
  },
  {
   "cell_type": "markdown",
   "id": "feb4ebda-204c-4248-84c8-604bb2a6f1e4",
   "metadata": {},
   "source": [
    "__(a*) Порахуйте кількість фільмів, у виробництві котрих Україна участі не приймала, але які мають Українську мову (поле `spoken_lanugages` містить рядок `Ukrainian`) та були вироблені починаючи з 2000 року.__"
   ]
  },
  {
   "cell_type": "code",
   "execution_count": 158,
   "id": "84ffb61e-fe13-49e1-8a34-90e4f4a2bf35",
   "metadata": {},
   "outputs": [
    {
     "name": "stdout",
     "output_type": "stream",
     "text": [
      "К-сть фільмів (з Ukrainian, без участі України, з 2000 р.): 217\n"
     ]
    }
   ],
   "source": [
    "df_additional = df[\n",
    "    (df['production_countries'].notna()) &\n",
    "    (~df['production_countries'].str.contains('Ukraine', na=False)) &\n",
    "    (df['spoken_languages'].str.contains('Ukrainian', na=False)) &\n",
    "    (df['release_date'] >= 2000)\n",
    "]\n",
    "count_additional = df_additional.shape[0]\n",
    "print(\"К-сть фільмів (з Ukrainian, без участі України, з 2000 р.):\", count_additional)"
   ]
  },
  {
   "cell_type": "markdown",
   "id": "9f55dba7-bc42-4f08-a983-d33809c4b5e2",
   "metadata": {},
   "source": [
    "__(b*) За допомогою методу `.plot()` з бібліотеки `matplotlib` побудуйте графік, який відображає кількість фільмів для кожного року у проміжку з 1900 р.  по 2023 р. включно.__"
   ]
  },
  {
   "cell_type": "code",
   "execution_count": 159,
   "id": "59c816ec-def4-4475-a6d6-9c97d7dc1a5e",
   "metadata": {},
   "outputs": [
    {
     "data": {
      "image/png": "[encoded data removed]",
      "text/plain": [
       "<Figure size 640x480 with 1 Axes>"
      ]
     },
     "metadata": {},
     "output_type": "display_data"
    }
   ],
   "source": [
    "df_years = df[\n",
    "    df['release_date'].notna() & \n",
    "    (df['release_date'] >= 1900) & \n",
    "    (df['release_date'] <= 2023)\n",
    "]\n",
    "df_year_counts = df_years['release_date'].value_counts().sort_index()\n",
    "df_year_counts.index = df_year_counts.index.astype(int)\n",
    "df_year_counts.sort_index(inplace=True)\n",
    "\n",
    "import matplotlib.pyplot as plt\n",
    "\n",
    "plt.plot(df_year_counts.index, df_year_counts.values)\n",
    "plt.title('Кількість фільмів за роками (1900-2023)')\n",
    "plt.xlabel('Рік')\n",
    "plt.ylabel('Кількість фільмів')\n",
    "plt.show()"
   ]
  }
 ],
 "metadata": {
  "kernelspec": {
   "display_name": "Python 3",
   "language": "python",
   "name": "python3"
  },
  "language_info": {
   "codemirror_mode": {
    "name": "ipython",
    "version": 3
   },
   "file_extension": ".py",
   "mimetype": "text/x-python",
   "name": "python",
   "nbconvert_exporter": "python",
   "pygments_lexer": "ipython3",
   "version": "3.12.9"
  }
 },
 "nbformat": 4,
 "nbformat_minor": 5
}
