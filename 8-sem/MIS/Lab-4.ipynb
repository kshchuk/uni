{
 "cells": [
  {
   "cell_type": "markdown",
   "id": "28c8b9a9-7534-4549-aea1-934832d64020",
   "metadata": {},
   "source": [
    "# Лабораторна робота №4: Моделі класифікації та їх оцінка\n",
    "\n",
    "### Мета роботи\n",
    "\n",
    "Ознайомитися з основними моделями класифікації, а також навчитися оцінювати якість класифікаторів за різноманітними метриками."
   ]
  },
  {
   "cell_type": "code",
   "execution_count": 3,
   "id": "3fa2c547-3bee-465e-864a-c14d172ecb31",
   "metadata": {},
   "outputs": [],
   "source": [
    "import numpy as np\n",
    "import pandas as pd\n",
    "import matplotlib.pyplot as plt\n",
    "import seaborn as sns"
   ]
  },
  {
   "cell_type": "markdown",
   "id": "0596ace6-46fb-46d5-a443-8d45e3d3eccd",
   "metadata": {},
   "source": [
    "### 1. Завантаження даних\n",
    "\n",
    "Завантажте набори даних \"Airline Passenger Satisfaction\" для навчання (`train.csv`) та тестування (`test.csv`)  з [Kaggle](https://www.kaggle.com/datasets/teejmahal20/airline-passenger-satisfaction) або з Google Classroom."
   ]
  },
  {
   "cell_type": "code",
   "execution_count": null,
   "id": "23b8cd84-23fa-4d50-b780-6f9f2ad88ac3",
   "metadata": {},
   "outputs": [],
   "source": []
  },
  {
   "cell_type": "markdown",
   "id": "2e2b96c0-968e-4ae5-b8c8-c9751f378d78",
   "metadata": {},
   "source": [
    "### 2. Обробка набору даних\n",
    "\n",
    "1. З набору даних видаліть наступні стовпці:\n",
    "    * `\"Unnamed: 0\"`\n",
    "    * `\"id\"`\n",
    "2. Заповніть всі пусті значення у наборі даних значенням `0`.\n",
    "3. Перетворіть стовпці рядкових значень на стовпці, що мають числові значення.\n",
    "4. Нормалізуйте значення кожної ознаки моделі з набору даних для навчання.\n",
    "\n",
    "_У наборі даних кожен зі стовпчиків є ознакою моделі, окрім останнього під назвою `\"satisfaction\"`, який є цільовою змінною._"
   ]
  },
  {
   "cell_type": "code",
   "execution_count": null,
   "id": "284622b6-dca9-48d2-9c1f-c62dc73500f0",
   "metadata": {},
   "outputs": [],
   "source": []
  },
  {
   "cell_type": "markdown",
   "id": "c5efcc79-ee94-4939-90e2-8bd4f57aa996",
   "metadata": {},
   "source": [
    "### 3. Навчання моделей\n",
    "\n",
    "Натренуйте кожну з моделей:\n",
    "\n",
    "* Наївний баєсів класифікатор [Naive Bayes](https://scikit-learn.org/stable/modules/naive_bayes.html)\n",
    "* Дерево рішень [Decision Tree](https://scikit-learn.org/stable/modules/tree.html)\n",
    "* Логістична регресія [Logistic Regression](https://scikit-learn.org/stable/modules/linear_model.html#logistic-regression)\n",
    "* K-найближчі сусідів [K-Nearest Neighbors](https://scikit-learn.org/stable/modules/neighbors.html)\n",
    "* Випадковий ліс [Random Forest](https://scikit-learn.org/stable/modules/ensemble.html#random-forests-and-other-randomized-tree-ensembles)\n",
    "\n",
    "_Для кожної з моделей також підрахуйте час виконання у мілісекундах, це буде необхідно для виконання 4-го завдання._"
   ]
  },
  {
   "cell_type": "code",
   "execution_count": null,
   "id": "a60a25b0-7421-4c5d-99c8-8c692b2cee7d",
   "metadata": {},
   "outputs": [],
   "source": []
  },
  {
   "cell_type": "markdown",
   "id": "bdca0969-dc86-4f08-b5d3-6dc989c30035",
   "metadata": {},
   "source": [
    "### 4. Підрахунок основних метрик\n",
    "\n",
    "Для кожної з моделей підрахуйте наступні метрики:\n",
    "\n",
    "* [Accuracy](https://scikit-learn.org/stable/modules/generated/sklearn.metrics.accuracy_score.html)\n",
    "* [Precision](https://scikit-learn.org/stable/modules/generated/sklearn.metrics.precision_score.html)\n",
    "* [Recall](https://scikit-learn.org/stable/modules/generated/sklearn.metrics.recall_score.html)\n",
    "* [F1-Score](https://scikit-learn.org/stable/modules/generated/sklearn.metrics.f1_score.html)\n",
    "* Швидкість виконання (у мс.)\n",
    "\n",
    "Отримані дані запишіть у `DataFrame` та візуалізуйте його у вигляді таблиці. Також можете додати до `DataFrame` `.style.background_gradient(cmap='Greens')`, що дозволить краще візуально порівнювати значення у кожному зі стовпчиків."
   ]
  },
  {
   "cell_type": "code",
   "execution_count": null,
   "id": "71535ec8-46f2-4140-bf46-caf1561cf5ce",
   "metadata": {},
   "outputs": [],
   "source": []
  },
  {
   "cell_type": "markdown",
   "id": "626e42e7-dec3-4ef6-b12a-e21ecdf59bff",
   "metadata": {},
   "source": [
    "### 5. Візуалізація матриць невідповідностей\n",
    "\n",
    "Для кожної з моделей візуалізуйте [матрицю невідповідності](https://scikit-learn.org/stable/modules/generated/sklearn.metrics.confusion_matrix.html)."
   ]
  },
  {
   "cell_type": "code",
   "execution_count": null,
   "id": "30971e9c-186b-4a87-bde0-049eb4c2963d",
   "metadata": {},
   "outputs": [],
   "source": []
  }
 ],
 "metadata": {
  "kernelspec": {
   "display_name": "Python 3",
   "language": "python",
   "name": "python3"
  },
  "language_info": {
   "codemirror_mode": {
    "name": "ipython",
    "version": 3
   },
   "file_extension": ".py",
   "mimetype": "text/x-python",
   "name": "python",
   "nbconvert_exporter": "python",
   "pygments_lexer": "ipython3",
   "version": "3.12.9"
  }
 },
 "nbformat": 4,
 "nbformat_minor": 5
}
