{
 "cells": [
  {
   "cell_type": "code",
   "execution_count": 228,
   "id": "initial_id",
   "metadata": {
    "ExecuteTime": {
     "end_time": "2025-09-27T11:59:31.209016321Z",
     "start_time": "2025-09-27T11:59:30.945097277Z"
    },
    "collapsed": true
   },
   "outputs": [],
   "source": [
    "import numpy as np\n",
    "\n",
    "def f(x) -> np.ndarray:\n",
    "    x1, x2, x3 = x\n",
    "    return (200 * x1 ** 2 + 5 * x2 ** 2 + 144 * x3 ** 2\n",
    "            - 24 * x1 * x2 - 48 * x1 * x3 + 24 * x2 * x3 + 5)\n",
    "\n",
    "def grad_f(x) -> np.ndarray:\n",
    "    x1, x2, x3 = x\n",
    "    dfdx1 = 400 * x1 - 24 * x2 - 48 * x3\n",
    "    dfdx2 = 10 * x2 - 24 * x1 + 24 * x3\n",
    "    dfdx3 = 288 * x3 - 48 * x1 + 24 * x2\n",
    "    return np.array([dfdx1, dfdx2, dfdx3])\n",
    "\n",
    "grid = np.linspace(-1.2, 1.2, 12)"
   ]
  },
  {
   "cell_type": "code",
   "execution_count": 229,
   "id": "1ab57421f06812a8",
   "metadata": {
    "ExecuteTime": {
     "end_time": "2025-09-27T11:59:31.506059105Z",
     "start_time": "2025-09-27T11:59:31.219276207Z"
    }
   },
   "outputs": [
    {
     "data": {
      "application/vnd.jupyter.widget-view+json": {
       "model_id": "07ad8115ed354397ad7bb961911c0979",
       "version_major": 2,
       "version_minor": 0
      },
      "text/plain": [
       "HBox(children=(Dropdown(description='Fix:', index=2, options=('x1', 'x2', 'x3'), value='x3'), FloatSlider(valu…"
      ]
     },
     "metadata": {},
     "output_type": "display_data"
    },
    {
     "data": {
      "application/vnd.jupyter.widget-view+json": {
       "model_id": "2632ee240c294eea8c93e3e004acfa5d",
       "version_major": 2,
       "version_minor": 0
      },
      "text/plain": [
       "Output()"
      ]
     },
     "metadata": {},
     "output_type": "display_data"
    }
   ],
   "source": [
    "import plotly.graph_objects as go\n",
    "import ipywidgets as w\n",
    "from IPython.display import display\n",
    "\n",
    "# build surface for a chosen fixed variable and it's value\n",
    "def surface_for_slice(slice_var=\"x3\", slice_val=0.0):\n",
    "    # Create 2D mesh for the two free variables\n",
    "    if slice_var == \"x1\":\n",
    "        X2, X3 = np.meshgrid(grid, grid)\n",
    "        Z = f((np.full_like(X2, slice_val), X2, X3))\n",
    "        x, y, z = X2, X3, Z\n",
    "        xlab, ylab = \"x2\", \"x3\"\n",
    "    elif slice_var == \"x2\":\n",
    "        X1, X3 = np.meshgrid(grid, grid)\n",
    "        Z = f((X1, np.full_like(X1, slice_val), X3))\n",
    "        x, y, z = X1, X3, Z\n",
    "        xlab, ylab = \"x1\", \"x3\"\n",
    "    else:  # slice_var == \"x3\"\n",
    "        X1, X2 = np.meshgrid(grid, grid)\n",
    "        Z = f((X1, X2, slice_val))\n",
    "        x, y, z = X1, X2, Z\n",
    "        xlab, ylab = \"x1\", \"x2\"\n",
    "\n",
    "    fig = go.Figure(data=[go.Surface(x=x, y=y, z=z, showscale=False)])\n",
    "    fig.update_layout(\n",
    "        title=f\"Surface of f with {slice_var} = {slice_val:.3f}\",\n",
    "        scene=dict(xaxis_title=xlab, yaxis_title=ylab, zaxis_title=\"f\"),\n",
    "        margin=dict(l=0, r=0, b=0, t=40),\n",
    "        height=600\n",
    "    )\n",
    "    return fig\n",
    "\n",
    "# choose which variable to fix and its value\n",
    "slice_var_dd = w.Dropdown(options=[\"x1\",\"x2\",\"x3\"], value=\"x3\", description=\"Fix:\")\n",
    "slice_val_sl = w.FloatSlider(value=0.0, min=grid.min(), max=grid.max(), step=float(grid[1]-grid[0]), description=\"Value:\")\n",
    "\n",
    "# redraw whenever controls change\n",
    "out = w.Output()\n",
    "def _draw(*_):\n",
    "    with out:\n",
    "        out.clear_output(wait=True)\n",
    "        display(surface_for_slice(slice_var_dd.value, slice_val_sl.value))\n",
    "\n",
    "slice_var_dd.observe(_draw, names=\"value\")\n",
    "slice_val_sl.observe(_draw, names=\"value\")\n",
    "\n",
    "display(w.HBox([slice_var_dd, slice_val_sl]))\n",
    "_draw()\n",
    "display(out)\n"
   ]
  },
  {
   "cell_type": "code",
   "execution_count": 230,
   "id": "95e1faa88e533c99",
   "metadata": {
    "ExecuteTime": {
     "end_time": "2025-09-27T11:59:31.629985105Z",
     "start_time": "2025-09-27T11:59:31.519325377Z"
    }
   },
   "outputs": [
    {
     "data": {
      "application/vnd.jupyter.widget-view+json": {
       "model_id": "fa91db4522944e128c08d5ea8715e7be",
       "version_major": 2,
       "version_minor": 0
      },
      "text/plain": [
       "HBox(children=(FloatSlider(value=229.74710743801654, description='F =', max=434.15570247933886, min=25.3385123…"
      ]
     },
     "metadata": {},
     "output_type": "display_data"
    },
    {
     "data": {
      "application/vnd.jupyter.widget-view+json": {
       "model_id": "a34b40ed30634ac4b05906dc420dbf19",
       "version_major": 2,
       "version_minor": 0
      },
      "text/plain": [
       "Output()"
      ]
     },
     "metadata": {},
     "output_type": "display_data"
    }
   ],
   "source": [
    "X1, X2, X3 = np.meshgrid(grid, grid, grid, indexing=\"xy\")\n",
    "F = f((X1, X2, X3))\n",
    "\n",
    "# Reasonable value range for the slider\n",
    "Fmin, Fmax = np.percentile(F, 5), np.percentile(F, 95)\n",
    "\n",
    "# --- widgets (Single level only) ---\n",
    "F_value = w.FloatSlider(\n",
    "    value=float((Fmin + Fmax) / 2),\n",
    "    min=float(Fmin), max=float(Fmax),\n",
    "    step=float((Fmax - Fmin) / 200),\n",
    "    description=\"F =\",\n",
    "    readout_format=\".2f\",\n",
    "    continuous_update=True\n",
    ")\n",
    "opacity = w.FloatSlider(value=0.6, min=0.1, max=1.0, step=0.05, description=\"Opacity\")\n",
    "showscale = w.Checkbox(value=True, description=\"Show colorbar\")\n",
    "btn = w.Button(description=\"Render\", button_style=\"primary\")\n",
    "display(w.HBox([F_value, opacity, showscale, btn]))\n",
    "\n",
    "out = w.Output()\n",
    "\n",
    "def build_figure(F_level, opacity, showscale):\n",
    "    # Single isosurface at F = F_level\n",
    "    fig = go.Figure(go.Isosurface(\n",
    "        x=X1.ravel(), y=X2.ravel(), z=X3.ravel(),\n",
    "        value=F.ravel(),\n",
    "        isomin=float(F_level), isomax=float(F_level),  # single level\n",
    "        surface_count=1,\n",
    "        opacity=float(opacity),\n",
    "        caps=dict(x_show=False, y_show=False, z_show=False),\n",
    "        colorscale=\"Viridis\",\n",
    "        showscale=bool(showscale),\n",
    "        colorbar=dict(title=\"f\", x=1.02, thickness=14, len=0.6,\n",
    "                      tickfont=dict(size=10)) if showscale else None,\n",
    "    ))\n",
    "\n",
    "    fig.update_layout(\n",
    "        title=f\"Isosurface: F = {F_level:.2f}\",\n",
    "        scene=dict(xaxis_title=\"x1\", yaxis_title=\"x2\", zaxis_title=\"x3\"),\n",
    "        margin=dict(l=0, r=80 if showscale else 0, b=0, t=40),\n",
    "        height=650\n",
    "    )\n",
    "\n",
    "    # Mark the global minimum at (0,0,0), F=5\n",
    "    fig.add_scatter3d(\n",
    "        x=[0], y=[0], z=[0],\n",
    "        mode=\"markers+text\",\n",
    "        marker=dict(size=6, symbol=\"diamond\"),\n",
    "        text=[\"min f=5 at (0,0,0)\"],\n",
    "        textposition=\"top center\",\n",
    "        name=\"Global minimum\"\n",
    "    )\n",
    "    return fig\n",
    "\n",
    "def _render(_=None):\n",
    "    with out:\n",
    "        out.clear_output(wait=True)\n",
    "        display(build_figure(F_value.value, opacity.value, showscale.value))\n",
    "\n",
    "btn.on_click(_render)\n",
    "_render()\n",
    "display(out)\n"
   ]
  },
  {
   "cell_type": "code",
   "execution_count": 231,
   "id": "ceaca097c6ea057d",
   "metadata": {},
   "outputs": [],
   "source": [
    "def simple_cond(f, x, p, t, f_x, grad_f) -> bool:\n",
    "    \"\"\"Condition for back-tracking line search: simple reduction of f.\n",
    "\n",
    "    Parameters:\n",
    "        f: Objective function, callable of the coordinates.\n",
    "        x: Current point, numpy array.\n",
    "        p: Search direction, numpy array.\n",
    "        t: Step size (float).\n",
    "        f_x: Function value at current point x (float).\n",
    "    \"\"\"\n",
    "    x_new = x + t * p\n",
    "    f_x_new = f(x_new)\n",
    "    return f_x_new < f_x"
   ]
  },
  {
   "cell_type": "code",
   "execution_count": 232,
   "id": "06420f47",
   "metadata": {},
   "outputs": [],
   "source": [
    "def goldstein_cond(f, x, p, t, f_x, grad_f, c=0.1) -> bool:\n",
    "    \"\"\"\n",
    "    Goldstein condition:\n",
    "      f(x) + (1-c) t g^T p  <=  f(x+t p)  <=  f(x) + c t g^T p\n",
    "\n",
    "    Parameters:\n",
    "        f: Objective function, callable of the coordinates.\n",
    "        x: Current point, numpy array.\n",
    "        p: Search direction, numpy array.\n",
    "        t: Step size (float).\n",
    "        f_x: Function value at current point x (float).\n",
    "        grad_f: Gradient of f, callable of the coordinates.\n",
    "        c: Parameter in (0, 0.5), typically around 0.1\n",
    "    \n",
    "    \"\"\"\n",
    "    g = grad_f(x)\n",
    "    phi0 = np.dot(g, p)            # directional derivative at 0\n",
    "    f_x_new = f(x + t * p)\n",
    "    left = f_x + (1 - c) * t * phi0\n",
    "    right = f_x + c * t * phi0\n",
    "\n",
    "    return (left <= f_x_new) and (f_x_new <= right)"
   ]
  },
  {
   "cell_type": "code",
   "execution_count": 233,
   "id": "76cb6d02812eaa4b",
   "metadata": {},
   "outputs": [],
   "source": [
    "def back_tracking(f, grad_f, x, p, cond, t0=1.0, beta=0.5, max_halves=100, c=0.1) -> float:\n",
    "    \"\"\"\n",
    "    Goldstein line search (expand then shrink). Otherwise behaves like simple back-tracking.\n",
    "\n",
    "    Back-tracking line search to find step size t along direction p from x\n",
    "    satisfying the condition cond (a callable of (f, x, p, t)).\n",
    "\n",
    "\n",
    "    Parameters:\n",
    "        f: Objective function, callable of the coordinates.\n",
    "        x: Current point, numpy array.\n",
    "        p: Search direction, numpy array.\n",
    "        cond: Condition function, callable of (f, x, p, t) returning bool.\n",
    "        t0: Initial step size.\n",
    "        beta: Factor for step size reduction or expansion (0 < beta < 1).\n",
    "        max_halves: Maximum number of step size halvings.\n",
    "    \"\"\"\n",
    "    t  = float(t0)\n",
    "    fx = f(x)\n",
    "    g  = grad_f(x)\n",
    "    phi0 = np.dot(g, p)\n",
    "\n",
    "    if cond is goldstein_cond:\n",
    "        # Phase A: expand until LEFT bound holds\n",
    "        for _ in range(max_halves):\n",
    "            if f(x + t*p) >= fx + (1.0 - c)*t*phi0:\n",
    "                break\n",
    "            t /= beta\n",
    "        # Phase B: shrink until RIGHT bound holds\n",
    "        for _ in range(max_halves):\n",
    "            if f(x + t*p) <= fx + c*t*phi0:\n",
    "                return t\n",
    "            t *= beta\n",
    "        return t\n",
    "\n",
    "    # simple rule (just decrease)\n",
    "    for _ in range(max_halves):\n",
    "        if simple_cond(f, x, p, t, fx, grad_f):\n",
    "            return t\n",
    "        t *= beta\n",
    "    return t"
   ]
  },
  {
   "cell_type": "code",
   "execution_count": 234,
   "id": "c1b3b0c1a14ea97a",
   "metadata": {},
   "outputs": [],
   "source": [
    "def norm2(v: np.ndarray) -> float:\n",
    "    return np.sqrt(np.sum(v ** 2))"
   ]
  },
  {
   "cell_type": "code",
   "execution_count": 235,
   "id": "65e3f8e7b94dddfa",
   "metadata": {},
   "outputs": [],
   "source": [
    "def gd_back_tracking(f, grad_f, x0, cond, max_iters=50, tol=1e-6, c=0.5):\n",
    "    \"\"\"\n",
    "    Gradient descent with back-tracking line search.\n",
    "\n",
    "    Parameters:\n",
    "        f: Objective function, callable of the coordinates.\n",
    "        grad_f: Gradient function, callable returning numpy array.\n",
    "        x0: Initial point, numpy array.\n",
    "        cond: Condition function for line search.\n",
    "        max_iters: Maximum number of iterations.\n",
    "        tol: Tolerance for stopping criterion based on gradient norm.\n",
    "    \"\"\"\n",
    "    x = np.array(x0, dtype=float)\n",
    "    history = {\"x\":[x.copy()], \"f\":[f(x)], \"t\":[], \"grad_norm\":[]}\n",
    "\n",
    "    for _ in range(max_iters):\n",
    "        g = grad_f(x)\n",
    "        gnorm = norm2(g)\n",
    "        history[\"grad_norm\"].append(gnorm)\n",
    "        if gnorm < tol:\n",
    "            break\n",
    "\n",
    "        p = -g\n",
    "        assert np.dot(g, p) < 0, \"Not a descent direction!\"\n",
    "\n",
    "        # line search to find step size with the given condition (simple or Goldstein)\n",
    "        t = back_tracking(f, grad_f, x, p, cond, c)\n",
    "        assert t > 0, \"Line search failed to find a valid step size!\"\n",
    "\n",
    "        x += t * p\n",
    "\n",
    "        history[\"x\"].append(x.copy())\n",
    "        history[\"f\"].append(f(x))\n",
    "        history[\"t\"].append(t)\n",
    "\n",
    "    return x, history"
   ]
  },
  {
   "cell_type": "code",
   "execution_count": 236,
   "id": "08bb44b2",
   "metadata": {},
   "outputs": [
    {
     "name": "stdout",
     "output_type": "stream",
     "text": [
      "Found minimum at x = [ 0.01398703  0.16507304 -0.01472314], f = 5.10273012459745\n"
     ]
    }
   ],
   "source": [
    "# Initial point\n",
    "x0 = np.array([1.0, 1.0, 1.0])\n",
    "\n",
    "# Run gradient descent with back-tracking\n",
    "x_min, history = gd_back_tracking(f, grad_f, x0, simple_cond, max_iters=50, tol=1e-6)\n",
    "print(f\"Found minimum at x = {x_min}, f = {f(x_min)}\")"
   ]
  },
  {
   "cell_type": "code",
   "execution_count": 237,
   "id": "0f5ca628",
   "metadata": {},
   "outputs": [],
   "source": [
    "import numpy as np\n",
    "\n",
    "def f_adapter(f_raw):\n",
    "    def fA(x_tuple):\n",
    "        try:\n",
    "            return f_raw(x_tuple)         \n",
    "        except TypeError:\n",
    "            x1, x2, x3 = x_tuple\n",
    "            return f_raw(x1, x2, x3)      \n",
    "    return fA\n"
   ]
  },
  {
   "cell_type": "code",
   "execution_count": 238,
   "id": "59c97a0b",
   "metadata": {},
   "outputs": [],
   "source": [
    "import plotly.graph_objects as go\n",
    "import ipywidgets as w\n",
    "from IPython.display import display\n",
    "\n",
    "def show_isosurface_with_path(f_raw, history, grid_range=(-1.2, 1.2), vol_n=50):\n",
    "    f = f_adapter(f_raw)\n",
    "\n",
    "    P = np.array(history[\"x\"])  # (K+1, 3)\n",
    "\n",
    "    gmin, gmax = grid_range\n",
    "    vol_grid = np.linspace(gmin, gmax, int(vol_n))\n",
    "    X1v, X2v, X3v = np.meshgrid(vol_grid, vol_grid, vol_grid, indexing=\"xy\")\n",
    "    Fvol = f((X1v, X2v, X3v))\n",
    "    Fmin, Fmax = np.percentile(Fvol, 5), np.percentile(Fvol, 95)\n",
    "\n",
    "    level   = w.FloatSlider(value=float((Fmin+Fmax)/2), min=float(Fmin), max=float(Fmax),\n",
    "                            step=float((Fmax-Fmin)/200), description=\"F =\", readout_format=\".2f\",\n",
    "                            continuous_update=True)\n",
    "    opacity = w.FloatSlider(value=0.45, min=0.1, max=1.0, step=0.05,\n",
    "                            description=\"Opacity\", continuous_update=True)\n",
    "    cbar    = w.Checkbox(value=True, description=\"Show colorbar\")\n",
    "    display(w.HBox([level, opacity, cbar]))\n",
    "\n",
    "    figw = go.FigureWidget()\n",
    "    figw.update_layout(\n",
    "        title=f\"Isosurface: F = {level.value:.2f}\",\n",
    "        height=650,\n",
    "        margin=dict(l=0, r=80, b=0, t=40),\n",
    "        scene=dict(xaxis_title=\"x1\", yaxis_title=\"x2\", zaxis_title=\"x3\"),\n",
    "    )\n",
    "\n",
    "    iso = go.Isosurface(\n",
    "        x=X1v.ravel(), y=X2v.ravel(), z=X3v.ravel(), value=Fvol.ravel(),\n",
    "        isomin=float(level.value), isomax=float(level.value), surface_count=1,\n",
    "        opacity=float(opacity.value),\n",
    "        caps=dict(x_show=False, y_show=False, z_show=False),\n",
    "        colorscale=\"Viridis\", showscale=bool(cbar.value),\n",
    "        colorbar=dict(title=\"f\", x=1.02, thickness=14, len=0.6, tickfont=dict(size=10))\n",
    "    )\n",
    "    path = go.Scatter3d(\n",
    "        x=P[:,0], y=P[:,1], z=P[:,2],\n",
    "        mode=\"lines+markers\", name=\"Path\",\n",
    "        marker=dict(size=4), line=dict(width=4),\n",
    "        hovertemplate=\"iter=%{customdata}<br>x1=%{x:.3f}, x2=%{y:.3f}, x3=%{z:.3f}<extra></extra>\",\n",
    "        customdata=np.arange(len(P))\n",
    "    )\n",
    "    figw.add_traces([iso, path])\n",
    "    display(figw)\n",
    "\n",
    "    iso_tr = figw.data[0]\n",
    "    def _on_level(ch):\n",
    "        val = float(ch[\"new\"])\n",
    "        with figw.batch_update():\n",
    "            iso_tr.isomin = val\n",
    "            iso_tr.isomax = val\n",
    "            figw.layout.title = f\"Isosurface: F = {val:.2f}\"\n",
    "    def _on_opacity(ch):\n",
    "        iso_tr.opacity = float(ch[\"new\"])\n",
    "    def _on_cbar(ch):\n",
    "        iso_tr.showscale = bool(ch[\"new\"])\n",
    "        figw.layout.margin.r = 80 if iso_tr.showscale else 0\n",
    "\n",
    "    level.observe(_on_level, names=\"value\")\n",
    "    opacity.observe(_on_opacity, names=\"value\")\n",
    "    cbar.observe(_on_cbar, names=\"value\")\n"
   ]
  },
  {
   "cell_type": "code",
   "execution_count": 239,
   "id": "288c04c1",
   "metadata": {},
   "outputs": [],
   "source": [
    "from plotly.subplots import make_subplots\n",
    "import plotly.graph_objects as go\n",
    "\n",
    "def plot_metrics(history, log_f=True, log_grad=True):\n",
    "    fvals = np.array(history.get(\"f\", []))\n",
    "    tvals = np.array(history.get(\"t\", []))\n",
    "    gnorm = np.array(history.get(\"grad_norm\", []))\n",
    "\n",
    "    fig = make_subplots(\n",
    "        rows=2, cols=2,\n",
    "        subplot_titles=(\"f(x_k)\", \"step size t_k\", \"||grad f(x_k)||\"),\n",
    "        specs=[[{\"type\":\"scatter\"}, {\"type\":\"scatter\"}],\n",
    "               [{\"type\":\"scatter\"}, None]]\n",
    "    )\n",
    "    if fvals.size:\n",
    "        fig.add_trace(go.Scatter(y=fvals, mode=\"lines+markers\", name=\"f\"), row=1, col=1)\n",
    "        if log_f: fig.update_yaxes(type=\"log\", row=1, col=1)\n",
    "    if tvals.size:\n",
    "        fig.add_trace(go.Scatter(y=tvals, mode=\"lines+markers\", name=\"t\"), row=1, col=2)\n",
    "    if gnorm.size:\n",
    "        fig.add_trace(go.Scatter(y=gnorm, mode=\"lines+markers\", name=\"||grad||\"), row=2, col=1)\n",
    "        if log_grad: fig.update_yaxes(type=\"log\", row=2, col=1)\n",
    "\n",
    "    fig.update_layout(height=700, width=900, title_text=\"Optimization metrics\")\n",
    "    fig.update_xaxes(title_text=\"iteration\", row=1, col=1)\n",
    "    fig.update_xaxes(title_text=\"iteration\", row=1, col=2)\n",
    "    fig.update_xaxes(title_text=\"iteration\", row=2, col=1)\n",
    "    fig.update_yaxes(title_text=\"f\", row=1, col=1)\n",
    "    fig.update_yaxes(title_text=\"t\", row=1, col=2)\n",
    "    fig.update_yaxes(title_text=\"||grad f||\", row=2, col=1)\n",
    "    fig.show()\n"
   ]
  },
  {
   "cell_type": "code",
   "execution_count": 240,
   "id": "e73a48fe",
   "metadata": {},
   "outputs": [],
   "source": [
    "import matplotlib.pyplot as plt\n",
    "from matplotlib import animation\n",
    "\n",
    "def save_video_xyz(history, filename=\"path_xyz.mp4\", fps=8):\n",
    "    P = np.array(history[\"x\"])\n",
    "    fig = plt.figure(figsize=(7, 6))\n",
    "    ax = fig.add_subplot(111, projection=\"3d\")\n",
    "    ax.set_xlabel(\"x1\"); ax.set_ylabel(\"x2\"); ax.set_zlabel(\"x3\")\n",
    "\n",
    "    pad = 0.15\n",
    "    ax.set_xlim(P[:,0].min()-pad, P[:,0].max()+pad)\n",
    "    ax.set_ylim(P[:,1].min()-pad, P[:,1].max()+pad)\n",
    "    ax.set_zlim(P[:,2].min()-pad, P[:,2].max()+pad)\n",
    "\n",
    "    line, = ax.plot([], [], [], lw=2, c=\"tab:blue\")\n",
    "    point, = ax.plot([], [], [], \"o\", c=\"tab:red\")\n",
    "\n",
    "    def init():\n",
    "        line.set_data([], []); line.set_3d_properties([])\n",
    "        point.set_data([], []); point.set_3d_properties([])\n",
    "        return line, point\n",
    "\n",
    "    def update(i):\n",
    "        line.set_data(P[:i+1,0], P[:i+1,1])\n",
    "        line.set_3d_properties(P[:i+1,2])\n",
    "        point.set_data(P[i,0:1], P[i,1:2])\n",
    "        point.set_3d_properties(P[i,2:3])\n",
    "        return line, point\n",
    "\n",
    "    ani = animation.FuncAnimation(fig, update, init_func=init,\n",
    "                                  frames=len(P), interval=int(1000/fps), blit=True)\n",
    "    ani.save(filename, writer=\"ffmpeg\", fps=fps)\n",
    "    plt.close(fig)\n",
    "    print(f\"Saved 3D trajectory video to {filename}\")\n"
   ]
  },
  {
   "cell_type": "code",
   "execution_count": 241,
   "id": "d244aed8",
   "metadata": {},
   "outputs": [
    {
     "data": {
      "application/vnd.jupyter.widget-view+json": {
       "model_id": "529cea51360e4f9ea3b483ff10037e9a",
       "version_major": 2,
       "version_minor": 0
      },
      "text/plain": [
       "HBox(children=(FloatSlider(value=204.6835585172845, description='F =', max=386.58344689712624, min=22.78367013…"
      ]
     },
     "metadata": {},
     "output_type": "display_data"
    },
    {
     "data": {
      "application/vnd.jupyter.widget-view+json": {
       "model_id": "9454dd86033549d0891fc94bff454584",
       "version_major": 2,
       "version_minor": 0
      },
      "text/plain": [
       "FigureWidget({\n",
       "    'data': [{'caps': {'x': {'show': False}, 'y': {'show': False}, 'z': {'show': False}},\n",
       "              'colorbar': {'len': 0.6, 'thickness': 14, 'tickfont': {'size': 10}, 'title': {'text': 'f'}, 'x': 1.02},\n",
       "              'colorscale': [[0.0, '#440154'], [0.1111111111111111, '#482878'],\n",
       "                             [0.2222222222222222, '#3e4989'], [0.3333333333333333,\n",
       "                             '#31688e'], [0.4444444444444444, '#26828e'],\n",
       "                             [0.5555555555555556, '#1f9e89'], [0.6666666666666666,\n",
       "                             '#35b779'], [0.7777777777777778, '#6ece58'],\n",
       "                             [0.8888888888888888, '#b5de2b'], [1.0, '#fde725']],\n",
       "              'isomax': 204.6835585172845,\n",
       "              'isomin': 204.6835585172845,\n",
       "              'opacity': 0.45,\n",
       "              'showscale': True,\n",
       "              'surface': {'count': 1},\n",
       "              'type': 'isosurface',\n",
       "              'uid': '39b3f798-7334-43c4-a8fe-5fbf1c8c9227',\n",
       "              'value': {'bdata': ('1qNwPQpne0ABcsauTHR6QK45+hmdjH' ... 'mdjHlA/3HGrkx0ekDWo3A9Cmd7QA=='),\n",
       "                        'dtype': 'f8'},\n",
       "              'x': {'bdata': ('MzMzMzMz878zMzMzMzPzvzMzMzMzM/' ... 'MzM/M/MzMzMzMz8z8zMzMzMzPzPw=='),\n",
       "                    'dtype': 'f8'},\n",
       "              'y': {'bdata': ('MzMzMzMz878zMzMzMzPzvzMzMzMzM/' ... 'MzM/M/MzMzMzMz8z8zMzMzMzPzPw=='),\n",
       "                    'dtype': 'f8'},\n",
       "              'z': {'bdata': ('MzMzMzMz87/ObyFglGryv2isD431of' ... '31ofE/zW8hYJRq8j8zMzMzMzPzPw=='),\n",
       "                    'dtype': 'f8'}},\n",
       "             {'customdata': {'bdata': 'AAECAwQFBgcICQoLDA0ODxAREhMUFRYXGBkaGxwdHh8gISIjJCUmJygpKissLS4vMDEy',\n",
       "                             'dtype': 'i1'},\n",
       "              'hovertemplate': 'iter=%{customdata}<br>x1=%{x:.3f}, x2=%{y:.3f}, x3=%{z:.3f}<extra></extra>',\n",
       "              'line': {'width': 4},\n",
       "              'marker': {'size': 4},\n",
       "              'mode': 'lines+markers',\n",
       "              'name': 'Path',\n",
       "              'type': 'scatter3d',\n",
       "              'uid': '63d55d4a-4e7e-4be6-9319-5bd84b1d287c',\n",
       "              'x': {'bdata': ('AAAAAAAA8D8AAAAAAADSvwAAAAAACM' ... 'uJ61ylij+nO1MiYFB7PzDE/jY7pYw/'),\n",
       "                    'dtype': 'f8'},\n",
       "              'y': {'bdata': ('AAAAAAAA8D8AAAAAAMDuPwAAAACAzO' ... 'W/4QX7xj/rCzdWymvGP1ir5wQdIcU/'),\n",
       "                    'dtype': 'f8'},\n",
       "              'z': {'bdata': ('AAAAAAAA8D8AAAAAAACgvwAAAAAAyM' ... 'KCmsIRj78oKyUTT5eJv54SRyQqJ46/'),\n",
       "                    'dtype': 'f8'}}],\n",
       "    'layout': {'height': 650,\n",
       "               'margin': {'b': 0, 'l': 0, 'r': 80, 't': 40},\n",
       "               'scene': {'xaxis': {'title': {'text': 'x1'}},\n",
       "                         'yaxis': {'title': {'text': 'x2'}},\n",
       "                         'zaxis': {'title': {'text': 'x3'}}},\n",
       "               'template': '...',\n",
       "               'title': {'text': 'Isosurface: F = 204.68'}}\n",
       "})"
      ]
     },
     "metadata": {},
     "output_type": "display_data"
    },
    {
     "data": {
      "application/vnd.plotly.v1+json": {
       "config": {
        "plotlyServerURL": "https://plot.ly"
       },
       "data": [
        {
         "mode": "lines+markers",
         "name": "f",
         "type": "scatter",
         "xaxis": "x",
         "y": {
          "bdata": "AAAAAAAgc0AAAAAA9Os+QAAAUP+A9jBAgBZ1w+v1JkAvPSWzh0oiQI4CkSvvNiBAQ5T3W2NsHkDky/gp1FAdQBS3vAqZlxxAgQbyK/BvHECFo3WKnoAbQER72/ku5xpAFD8v2sbVGkCuDjVdYQsaQNXHrdQIjBlAdPQIALqKGUAOdT+CNd8YQOrrwGpOdRhAkrh07D8oGECP+zIrvO0XQD7n2mp8lRdAXk+hXFRWF0BRL8ohbCsXQGBnspW74RZAtf4HV+OtFkASLtppAo8WQDYjNl1ZURZAGbzDc7gmFkDcbAY/DxEWQFKQrFFb3RVA0poWCj+6FUDB5jjRmasVQJHLqg0ogBVAvI9G3S9jFUBExHY/1lkVQOdHFV9BNRVAHNa9F08dFUCahtc06hcVQDi3O0MM+RRAuFiHWTflFECVa2FCveIUQIaYPPmjyBRA290RQy+4FECB3Uyj0rcUQCLnrPi1oRRAxP+BaAeUFEAtGSs3DooUQGTS0AllghRAgIExA/92FEB+esa+0m4UQBjX9RUyaRRA",
          "dtype": "f8"
         },
         "yaxis": "y"
        },
        {
         "mode": "lines+markers",
         "name": "t",
         "type": "scatter",
         "xaxis": "x2",
         "y": {
          "bdata": "AAAAAAAAcD8AAAAAAABwPwAAAAAAAHA/AAAAAAAAcD8AAAAAAABwPwAAAAAAAHA/AAAAAAAAcD8AAAAAAABwPwAAAAAAAIA/AAAAAAAAcD8AAAAAAABwPwAAAAAAAIA/AAAAAAAAcD8AAAAAAABwPwAAAAAAAIA/AAAAAAAAcD8AAAAAAABwPwAAAAAAAHA/AAAAAAAAgD8AAAAAAABwPwAAAAAAAHA/AAAAAAAAgD8AAAAAAABwPwAAAAAAAHA/AAAAAAAAgD8AAAAAAABwPwAAAAAAAHA/AAAAAAAAgD8AAAAAAABwPwAAAAAAAHA/AAAAAAAAgD8AAAAAAABwPwAAAAAAAHA/AAAAAAAAgD8AAAAAAABwPwAAAAAAAHA/AAAAAAAAgD8AAAAAAABwPwAAAAAAAHA/AAAAAAAAgD8AAAAAAABwPwAAAAAAAHA/AAAAAAAAgD8AAAAAAABwPwAAAAAAAHA/AAAAAAAAcD8AAAAAAACAPwAAAAAAAHA/AAAAAAAAcD8AAAAAAACAPw==",
          "dtype": "f8"
         },
         "yaxis": "y2"
        },
        {
         "mode": "lines+markers",
         "name": "||grad||",
         "type": "scatter",
         "xaxis": "x3",
         "y": {
          "bdata": "Nt1JDKRSekC+e4jJHjhhQP8Fh/ex11VAt8wk6P4XTEB/2ZtOCiZCQImYFe6/rTdAPdeJt/mKL0ChswMLdt8lQJuDHUS+MyBAKc4CJ1ZmLUBsnwQWrUUkQCkSR2bgxx1AOqSNIRlqK0DaMD2skM0iQPlciafPZRtA7WBRkOWSKUBDmiPt93MhQAQ3AigPOxlAmzIHfY7BE0ADvPBTDjYgQHIHX0QNQhdAdp6IkJQKEkBlrFH4lCIeQFK71uDPdRVADtXl7RB+EEARW/vKywYcQH4OiUjk0RNA3o0BaD0vDkC72Fs6qxQaQLik3LVQUhJAYi/Nhp+mC0A8u9Fqh0gYQMeFY1mH8xBAcNWcsUBbCUAHjNHqEp8WQENte3K1ZA9Al6DB3NdGB0CfFuFdVBUVQAHxsI3mFw1Ap38tg8ZjBUAU3VFPnagTQPukrhiM+wpACu1xvgatA0B5DgYNglYSQDfO9KsYCwlATru6NBseAkD9JVxLIGf8PziHBH14QgdA5sZwrACzAEB7/0YXQe/5Pw==",
          "dtype": "f8"
         },
         "yaxis": "y3"
        }
       ],
       "layout": {
        "annotations": [
         {
          "font": {
           "size": 16
          },
          "showarrow": false,
          "text": "f(x_k)",
          "x": 0.225,
          "xanchor": "center",
          "xref": "paper",
          "y": 1,
          "yanchor": "bottom",
          "yref": "paper"
         },
         {
          "font": {
           "size": 16
          },
          "showarrow": false,
          "text": "step size t_k",
          "x": 0.775,
          "xanchor": "center",
          "xref": "paper",
          "y": 1,
          "yanchor": "bottom",
          "yref": "paper"
         },
         {
          "font": {
           "size": 16
          },
          "showarrow": false,
          "text": "||grad f(x_k)||",
          "x": 0.225,
          "xanchor": "center",
          "xref": "paper",
          "y": 0.375,
          "yanchor": "bottom",
          "yref": "paper"
         }
        ],
        "height": 700,
        "template": {
         "data": {
          "bar": [
           {
            "error_x": {
             "color": "#2a3f5f"
            },
            "error_y": {
             "color": "#2a3f5f"
            },
            "marker": {
             "line": {
              "color": "#E5ECF6",
              "width": 0.5
             },
             "pattern": {
              "fillmode": "overlay",
              "size": 10,
              "solidity": 0.2
             }
            },
            "type": "bar"
           }
          ],
          "barpolar": [
           {
            "marker": {
             "line": {
              "color": "#E5ECF6",
              "width": 0.5
             },
             "pattern": {
              "fillmode": "overlay",
              "size": 10,
              "solidity": 0.2
             }
            },
            "type": "barpolar"
           }
          ],
          "carpet": [
           {
            "aaxis": {
             "endlinecolor": "#2a3f5f",
             "gridcolor": "white",
             "linecolor": "white",
             "minorgridcolor": "white",
             "startlinecolor": "#2a3f5f"
            },
            "baxis": {
             "endlinecolor": "#2a3f5f",
             "gridcolor": "white",
             "linecolor": "white",
             "minorgridcolor": "white",
             "startlinecolor": "#2a3f5f"
            },
            "type": "carpet"
           }
          ],
          "choropleth": [
           {
            "colorbar": {
             "outlinewidth": 0,
             "ticks": ""
            },
            "type": "choropleth"
           }
          ],
          "contour": [
           {
            "colorbar": {
             "outlinewidth": 0,
             "ticks": ""
            },
            "colorscale": [
             [
              0,
              "#0d0887"
             ],
             [
              0.1111111111111111,
              "#46039f"
             ],
             [
              0.2222222222222222,
              "#7201a8"
             ],
             [
              0.3333333333333333,
              "#9c179e"
             ],
             [
              0.4444444444444444,
              "#bd3786"
             ],
             [
              0.5555555555555556,
              "#d8576b"
             ],
             [
              0.6666666666666666,
              "#ed7953"
             ],
             [
              0.7777777777777778,
              "#fb9f3a"
             ],
             [
              0.8888888888888888,
              "#fdca26"
             ],
             [
              1,
              "#f0f921"
             ]
            ],
            "type": "contour"
           }
          ],
          "contourcarpet": [
           {
            "colorbar": {
             "outlinewidth": 0,
             "ticks": ""
            },
            "type": "contourcarpet"
           }
          ],
          "heatmap": [
           {
            "colorbar": {
             "outlinewidth": 0,
             "ticks": ""
            },
            "colorscale": [
             [
              0,
              "#0d0887"
             ],
             [
              0.1111111111111111,
              "#46039f"
             ],
             [
              0.2222222222222222,
              "#7201a8"
             ],
             [
              0.3333333333333333,
              "#9c179e"
             ],
             [
              0.4444444444444444,
              "#bd3786"
             ],
             [
              0.5555555555555556,
              "#d8576b"
             ],
             [
              0.6666666666666666,
              "#ed7953"
             ],
             [
              0.7777777777777778,
              "#fb9f3a"
             ],
             [
              0.8888888888888888,
              "#fdca26"
             ],
             [
              1,
              "#f0f921"
             ]
            ],
            "type": "heatmap"
           }
          ],
          "histogram": [
           {
            "marker": {
             "pattern": {
              "fillmode": "overlay",
              "size": 10,
              "solidity": 0.2
             }
            },
            "type": "histogram"
           }
          ],
          "histogram2d": [
           {
            "colorbar": {
             "outlinewidth": 0,
             "ticks": ""
            },
            "colorscale": [
             [
              0,
              "#0d0887"
             ],
             [
              0.1111111111111111,
              "#46039f"
             ],
             [
              0.2222222222222222,
              "#7201a8"
             ],
             [
              0.3333333333333333,
              "#9c179e"
             ],
             [
              0.4444444444444444,
              "#bd3786"
             ],
             [
              0.5555555555555556,
              "#d8576b"
             ],
             [
              0.6666666666666666,
              "#ed7953"
             ],
             [
              0.7777777777777778,
              "#fb9f3a"
             ],
             [
              0.8888888888888888,
              "#fdca26"
             ],
             [
              1,
              "#f0f921"
             ]
            ],
            "type": "histogram2d"
           }
          ],
          "histogram2dcontour": [
           {
            "colorbar": {
             "outlinewidth": 0,
             "ticks": ""
            },
            "colorscale": [
             [
              0,
              "#0d0887"
             ],
             [
              0.1111111111111111,
              "#46039f"
             ],
             [
              0.2222222222222222,
              "#7201a8"
             ],
             [
              0.3333333333333333,
              "#9c179e"
             ],
             [
              0.4444444444444444,
              "#bd3786"
             ],
             [
              0.5555555555555556,
              "#d8576b"
             ],
             [
              0.6666666666666666,
              "#ed7953"
             ],
             [
              0.7777777777777778,
              "#fb9f3a"
             ],
             [
              0.8888888888888888,
              "#fdca26"
             ],
             [
              1,
              "#f0f921"
             ]
            ],
            "type": "histogram2dcontour"
           }
          ],
          "mesh3d": [
           {
            "colorbar": {
             "outlinewidth": 0,
             "ticks": ""
            },
            "type": "mesh3d"
           }
          ],
          "parcoords": [
           {
            "line": {
             "colorbar": {
              "outlinewidth": 0,
              "ticks": ""
             }
            },
            "type": "parcoords"
           }
          ],
          "pie": [
           {
            "automargin": true,
            "type": "pie"
           }
          ],
          "scatter": [
           {
            "fillpattern": {
             "fillmode": "overlay",
             "size": 10,
             "solidity": 0.2
            },
            "type": "scatter"
           }
          ],
          "scatter3d": [
           {
            "line": {
             "colorbar": {
              "outlinewidth": 0,
              "ticks": ""
             }
            },
            "marker": {
             "colorbar": {
              "outlinewidth": 0,
              "ticks": ""
             }
            },
            "type": "scatter3d"
           }
          ],
          "scattercarpet": [
           {
            "marker": {
             "colorbar": {
              "outlinewidth": 0,
              "ticks": ""
             }
            },
            "type": "scattercarpet"
           }
          ],
          "scattergeo": [
           {
            "marker": {
             "colorbar": {
              "outlinewidth": 0,
              "ticks": ""
             }
            },
            "type": "scattergeo"
           }
          ],
          "scattergl": [
           {
            "marker": {
             "colorbar": {
              "outlinewidth": 0,
              "ticks": ""
             }
            },
            "type": "scattergl"
           }
          ],
          "scattermap": [
           {
            "marker": {
             "colorbar": {
              "outlinewidth": 0,
              "ticks": ""
             }
            },
            "type": "scattermap"
           }
          ],
          "scattermapbox": [
           {
            "marker": {
             "colorbar": {
              "outlinewidth": 0,
              "ticks": ""
             }
            },
            "type": "scattermapbox"
           }
          ],
          "scatterpolar": [
           {
            "marker": {
             "colorbar": {
              "outlinewidth": 0,
              "ticks": ""
             }
            },
            "type": "scatterpolar"
           }
          ],
          "scatterpolargl": [
           {
            "marker": {
             "colorbar": {
              "outlinewidth": 0,
              "ticks": ""
             }
            },
            "type": "scatterpolargl"
           }
          ],
          "scatterternary": [
           {
            "marker": {
             "colorbar": {
              "outlinewidth": 0,
              "ticks": ""
             }
            },
            "type": "scatterternary"
           }
          ],
          "surface": [
           {
            "colorbar": {
             "outlinewidth": 0,
             "ticks": ""
            },
            "colorscale": [
             [
              0,
              "#0d0887"
             ],
             [
              0.1111111111111111,
              "#46039f"
             ],
             [
              0.2222222222222222,
              "#7201a8"
             ],
             [
              0.3333333333333333,
              "#9c179e"
             ],
             [
              0.4444444444444444,
              "#bd3786"
             ],
             [
              0.5555555555555556,
              "#d8576b"
             ],
             [
              0.6666666666666666,
              "#ed7953"
             ],
             [
              0.7777777777777778,
              "#fb9f3a"
             ],
             [
              0.8888888888888888,
              "#fdca26"
             ],
             [
              1,
              "#f0f921"
             ]
            ],
            "type": "surface"
           }
          ],
          "table": [
           {
            "cells": {
             "fill": {
              "color": "#EBF0F8"
             },
             "line": {
              "color": "white"
             }
            },
            "header": {
             "fill": {
              "color": "#C8D4E3"
             },
             "line": {
              "color": "white"
             }
            },
            "type": "table"
           }
          ]
         },
         "layout": {
          "annotationdefaults": {
           "arrowcolor": "#2a3f5f",
           "arrowhead": 0,
           "arrowwidth": 1
          },
          "autotypenumbers": "strict",
          "coloraxis": {
           "colorbar": {
            "outlinewidth": 0,
            "ticks": ""
           }
          },
          "colorscale": {
           "diverging": [
            [
             0,
             "#8e0152"
            ],
            [
             0.1,
             "#c51b7d"
            ],
            [
             0.2,
             "#de77ae"
            ],
            [
             0.3,
             "#f1b6da"
            ],
            [
             0.4,
             "#fde0ef"
            ],
            [
             0.5,
             "#f7f7f7"
            ],
            [
             0.6,
             "#e6f5d0"
            ],
            [
             0.7,
             "#b8e186"
            ],
            [
             0.8,
             "#7fbc41"
            ],
            [
             0.9,
             "#4d9221"
            ],
            [
             1,
             "#276419"
            ]
           ],
           "sequential": [
            [
             0,
             "#0d0887"
            ],
            [
             0.1111111111111111,
             "#46039f"
            ],
            [
             0.2222222222222222,
             "#7201a8"
            ],
            [
             0.3333333333333333,
             "#9c179e"
            ],
            [
             0.4444444444444444,
             "#bd3786"
            ],
            [
             0.5555555555555556,
             "#d8576b"
            ],
            [
             0.6666666666666666,
             "#ed7953"
            ],
            [
             0.7777777777777778,
             "#fb9f3a"
            ],
            [
             0.8888888888888888,
             "#fdca26"
            ],
            [
             1,
             "#f0f921"
            ]
           ],
           "sequentialminus": [
            [
             0,
             "#0d0887"
            ],
            [
             0.1111111111111111,
             "#46039f"
            ],
            [
             0.2222222222222222,
             "#7201a8"
            ],
            [
             0.3333333333333333,
             "#9c179e"
            ],
            [
             0.4444444444444444,
             "#bd3786"
            ],
            [
             0.5555555555555556,
             "#d8576b"
            ],
            [
             0.6666666666666666,
             "#ed7953"
            ],
            [
             0.7777777777777778,
             "#fb9f3a"
            ],
            [
             0.8888888888888888,
             "#fdca26"
            ],
            [
             1,
             "#f0f921"
            ]
           ]
          },
          "colorway": [
           "#636efa",
           "#EF553B",
           "#00cc96",
           "#ab63fa",
           "#FFA15A",
           "#19d3f3",
           "#FF6692",
           "#B6E880",
           "#FF97FF",
           "#FECB52"
          ],
          "font": {
           "color": "#2a3f5f"
          },
          "geo": {
           "bgcolor": "white",
           "lakecolor": "white",
           "landcolor": "#E5ECF6",
           "showlakes": true,
           "showland": true,
           "subunitcolor": "white"
          },
          "hoverlabel": {
           "align": "left"
          },
          "hovermode": "closest",
          "mapbox": {
           "style": "light"
          },
          "paper_bgcolor": "white",
          "plot_bgcolor": "#E5ECF6",
          "polar": {
           "angularaxis": {
            "gridcolor": "white",
            "linecolor": "white",
            "ticks": ""
           },
           "bgcolor": "#E5ECF6",
           "radialaxis": {
            "gridcolor": "white",
            "linecolor": "white",
            "ticks": ""
           }
          },
          "scene": {
           "xaxis": {
            "backgroundcolor": "#E5ECF6",
            "gridcolor": "white",
            "gridwidth": 2,
            "linecolor": "white",
            "showbackground": true,
            "ticks": "",
            "zerolinecolor": "white"
           },
           "yaxis": {
            "backgroundcolor": "#E5ECF6",
            "gridcolor": "white",
            "gridwidth": 2,
            "linecolor": "white",
            "showbackground": true,
            "ticks": "",
            "zerolinecolor": "white"
           },
           "zaxis": {
            "backgroundcolor": "#E5ECF6",
            "gridcolor": "white",
            "gridwidth": 2,
            "linecolor": "white",
            "showbackground": true,
            "ticks": "",
            "zerolinecolor": "white"
           }
          },
          "shapedefaults": {
           "line": {
            "color": "#2a3f5f"
           }
          },
          "ternary": {
           "aaxis": {
            "gridcolor": "white",
            "linecolor": "white",
            "ticks": ""
           },
           "baxis": {
            "gridcolor": "white",
            "linecolor": "white",
            "ticks": ""
           },
           "bgcolor": "#E5ECF6",
           "caxis": {
            "gridcolor": "white",
            "linecolor": "white",
            "ticks": ""
           }
          },
          "title": {
           "x": 0.05
          },
          "xaxis": {
           "automargin": true,
           "gridcolor": "white",
           "linecolor": "white",
           "ticks": "",
           "title": {
            "standoff": 15
           },
           "zerolinecolor": "white",
           "zerolinewidth": 2
          },
          "yaxis": {
           "automargin": true,
           "gridcolor": "white",
           "linecolor": "white",
           "ticks": "",
           "title": {
            "standoff": 15
           },
           "zerolinecolor": "white",
           "zerolinewidth": 2
          }
         }
        },
        "title": {
         "text": "Optimization metrics"
        },
        "width": 900,
        "xaxis": {
         "anchor": "y",
         "domain": [
          0,
          0.45
         ],
         "title": {
          "text": "iteration"
         }
        },
        "xaxis2": {
         "anchor": "y2",
         "domain": [
          0.55,
          1
         ],
         "title": {
          "text": "iteration"
         }
        },
        "xaxis3": {
         "anchor": "y3",
         "domain": [
          0,
          0.45
         ],
         "title": {
          "text": "iteration"
         }
        },
        "yaxis": {
         "anchor": "x",
         "domain": [
          0.625,
          1
         ],
         "title": {
          "text": "f"
         },
         "type": "log"
        },
        "yaxis2": {
         "anchor": "x2",
         "domain": [
          0.625,
          1
         ],
         "title": {
          "text": "t"
         }
        },
        "yaxis3": {
         "anchor": "x3",
         "domain": [
          0,
          0.375
         ],
         "title": {
          "text": "||grad f||"
         },
         "type": "log"
        }
       }
      }
     },
     "metadata": {},
     "output_type": "display_data"
    },
    {
     "name": "stdout",
     "output_type": "stream",
     "text": [
      "Saved 3D trajectory video to opt_path_simple.mp4\n"
     ]
    }
   ],
   "source": [
    "show_isosurface_with_path(f, history, grid_range=(-1.2, 1.2), vol_n=50)\n",
    "plot_metrics(history, log_f=True, log_grad=True)\n",
    "save_video_xyz(history, filename=\"opt_path_simple.mp4\", fps=8)\n"
   ]
  },
  {
   "cell_type": "code",
   "execution_count": 250,
   "id": "defdf1c5",
   "metadata": {},
   "outputs": [
    {
     "name": "stdout",
     "output_type": "stream",
     "text": [
      "Found minimum at x = [ 0.00292342  0.02890327 -0.00278734], f = 5.003434746925146\n"
     ]
    }
   ],
   "source": [
    "x0 = np.array([1.0, 1.0, 1.0])\n",
    "\n",
    "# Run gradient descent with back-tracking\n",
    "x_min, history = gd_back_tracking(f, grad_f, x0, goldstein_cond, max_iters=50, tol=1e-6, c=0.7)\n",
    "print(f\"Found minimum at x = {x_min}, f = {f(x_min)}\")"
   ]
  },
  {
   "cell_type": "code",
   "execution_count": 243,
   "id": "430ccb79",
   "metadata": {},
   "outputs": [
    {
     "data": {
      "application/vnd.jupyter.widget-view+json": {
       "model_id": "8aa0a53ce60b4c9d960cdab9858e24ba",
       "version_major": 2,
       "version_minor": 0
      },
      "text/plain": [
       "HBox(children=(FloatSlider(value=204.6835585172845, description='F =', max=386.58344689712624, min=22.78367013…"
      ]
     },
     "metadata": {},
     "output_type": "display_data"
    },
    {
     "data": {
      "application/vnd.jupyter.widget-view+json": {
       "model_id": "96b75bbc01f845a799b125fb22bb97bc",
       "version_major": 2,
       "version_minor": 0
      },
      "text/plain": [
       "FigureWidget({\n",
       "    'data': [{'caps': {'x': {'show': False}, 'y': {'show': False}, 'z': {'show': False}},\n",
       "              'colorbar': {'len': 0.6, 'thickness': 14, 'tickfont': {'size': 10}, 'title': {'text': 'f'}, 'x': 1.02},\n",
       "              'colorscale': [[0.0, '#440154'], [0.1111111111111111, '#482878'],\n",
       "                             [0.2222222222222222, '#3e4989'], [0.3333333333333333,\n",
       "                             '#31688e'], [0.4444444444444444, '#26828e'],\n",
       "                             [0.5555555555555556, '#1f9e89'], [0.6666666666666666,\n",
       "                             '#35b779'], [0.7777777777777778, '#6ece58'],\n",
       "                             [0.8888888888888888, '#b5de2b'], [1.0, '#fde725']],\n",
       "              'isomax': 204.6835585172845,\n",
       "              'isomin': 204.6835585172845,\n",
       "              'opacity': 0.45,\n",
       "              'showscale': True,\n",
       "              'surface': {'count': 1},\n",
       "              'type': 'isosurface',\n",
       "              'uid': '13ed394a-0d8a-432a-b222-5b426d5ae3a5',\n",
       "              'value': {'bdata': ('1qNwPQpne0ABcsauTHR6QK45+hmdjH' ... 'mdjHlA/3HGrkx0ekDWo3A9Cmd7QA=='),\n",
       "                        'dtype': 'f8'},\n",
       "              'x': {'bdata': ('MzMzMzMz878zMzMzMzPzvzMzMzMzM/' ... 'MzM/M/MzMzMzMz8z8zMzMzMzPzPw=='),\n",
       "                    'dtype': 'f8'},\n",
       "              'y': {'bdata': ('MzMzMzMz878zMzMzMzPzvzMzMzMzM/' ... 'MzM/M/MzMzMzMz8z8zMzMzMzPzPw=='),\n",
       "                    'dtype': 'f8'},\n",
       "              'z': {'bdata': ('MzMzMzMz87/ObyFglGryv2isD431of' ... '31ofE/zW8hYJRq8j8zMzMzMzPzPw=='),\n",
       "                    'dtype': 'f8'}},\n",
       "             {'customdata': {'bdata': 'AAECAwQFBgcICQoLDA0ODxAREhMUFRYXGBkaGxwdHh8gISIjJCUmJygpKissLS4vMDEy',\n",
       "                             'dtype': 'i1'},\n",
       "              'hovertemplate': 'iter=%{customdata}<br>x1=%{x:.3f}, x2=%{y:.3f}, x3=%{z:.3f}<extra></extra>',\n",
       "              'line': {'width': 4},\n",
       "              'marker': {'size': 4},\n",
       "              'mode': 'lines+markers',\n",
       "              'name': 'Path',\n",
       "              'type': 'scatter3d',\n",
       "              'uid': '4b15749a-db53-4c3e-80af-4a874c0b563a',\n",
       "              'x': {'bdata': ('AAAAAAAA8D8yMzMzMzPhv4A9CtejcH' ... 'U8OoCjdD85aIXnNwKOP6ItjQb8QXM/'),\n",
       "                    'dtype': 'f8'},\n",
       "              'y': {'bdata': ('AAAAAAAA8D8AAAAAAIDuP/YoXI/CPu' ... 'PKhL0FyT9LTzVyEBzIPwIYRu3ZbMc/'),\n",
       "                    'dtype': 'f8'},\n",
       "              'z': {'bdata': ('AAAAAAAA8D9oZmZmZmbOv+xRuB6Fe8' ... 's1d0Gtir9Zo19/2bCQvyOYuMY49oi/'),\n",
       "                    'dtype': 'f8'}}],\n",
       "    'layout': {'height': 650,\n",
       "               'margin': {'b': 0, 'l': 0, 'r': 80, 't': 40},\n",
       "               'scene': {'xaxis': {'title': {'text': 'x1'}},\n",
       "                         'yaxis': {'title': {'text': 'x2'}},\n",
       "                         'zaxis': {'title': {'text': 'x3'}}},\n",
       "               'template': '...',\n",
       "               'title': {'text': 'Isosurface: F = 204.68'}}\n",
       "})"
      ]
     },
     "metadata": {},
     "output_type": "display_data"
    },
    {
     "data": {
      "application/vnd.plotly.v1+json": {
       "config": {
        "plotlyServerURL": "https://plot.ly"
       },
       "data": [
        {
         "mode": "lines+markers",
         "name": "f",
         "type": "scatter",
         "xaxis": "x",
         "y": {
          "bdata": "AAAAAAAgc0B5FK5HlQtTQN8CifTRryRATOl77mTPH0A5ojkfE3UeQJbb85NLjB1AwFX55vPVHEATwS9h4UMcQEqifNbqvBtAg8sIr68+G0Cm13U8gsgaQCxdztLcWRpA3jlaaETyGUCi9GTyRZEZQJX1HL51NhlAS9YT9m7hGEB8Ggky05EYQEhcCg5KRxhAJTVGyIABGECZbyHlKcAXQOgiKNn8ghdAYxd7uLVJF0CA7l/rFBQXQCs/oOfe4RZAqC5p7tuyFkDKDmLO14YWQGc5tamhXRZARcPKvws3FkDMu3g66xIWQLGGcP4X8RVAAXa0fmzRFUBvKeSSxbMVQFVfMVACmBVAytfR5AN+FUAVrsV1rWUVQFojzP7jThVA+0FjNI45FUDpBbFnlCUVQAjWNmzgEhVABxgyf10BFUCvhI4w+PAUQB+hUE2e4RRAPGNgyz7TFEDUjp22ycUUQF7HKB8wuRRAEanNCGStFEBAfXtbWKIUQHRKu9QAmBRARBoT+lGOFEBbVkcMQYUUQOYUbPvDfBRA",
          "dtype": "f8"
         },
         "yaxis": "y"
        },
        {
         "mode": "lines+markers",
         "name": "t",
         "type": "scatter",
         "xaxis": "x2",
         "y": {
          "bdata": "MzMzMzMzcz8zMzMzMzNjPzMzMzMzM3M/MzMzMzMzcz8zMzMzMzODPzMzMzMzM3M/MzMzMzMzcz8zMzMzMzNzPzMzMzMzM3M/MzMzMzMzcz8zMzMzMzNzPzMzMzMzM3M/MzMzMzMzcz8zMzMzMzNzPzMzMzMzM3M/MzMzMzMzcz8zMzMzMzNzPzMzMzMzM3M/MzMzMzMzcz8zMzMzMzNzPzMzMzMzM3M/MzMzMzMzcz8zMzMzMzNzPzMzMzMzM3M/MzMzMzMzcz8zMzMzMzNzPzMzMzMzM3M/MzMzMzMzcz8zMzMzMzNzPzMzMzMzM3M/MzMzMzMzcz8zMzMzMzNzPzMzMzMzM3M/MzMzMzMzcz8zMzMzMzNzPzMzMzMzM3M/MzMzMzMzcz8zMzMzMzNzPzMzMzMzM3M/MzMzMzMzcz8zMzMzMzNzPzMzMzMzM3M/MzMzMzMzcz8zMzMzMzNzPzMzMzMzM3M/MzMzMzMzcz8zMzMzMzNzPzMzMzMzM3M/MzMzMzMzcz8zMzMzMzNzPw==",
          "dtype": "f8"
         },
         "yaxis": "y2"
        },
        {
         "mode": "lines+markers",
         "name": "||grad||",
         "type": "scatter",
         "xaxis": "x3",
         "y": {
          "bdata": "Nt1JDKRSekD3xlKkT35sQKQBA6VcSkJAlawk0PHQJ0Dcyi1AvLwcQMDJ1XEPTCZAN+iUawlAJEAikInPsIIjQLQDs4435CJA5Vu/N5lMIkAPrFU04LkhQAh5FX/DKyFAYRx/ghuiIECFxcRAxBwgQA3B3RU2Nx9ASmfMmPw8HkDtKtH9mkodQKJZlkPSXxxAujV3Y2V8G0C1vY9BGaAaQDySTZ20yhlAt1B9AgD8GEBlatC6xTMYQNKq17/RcRdAI8BurfG1FkAiNZW09P8VQAdqsY6rTxVAxzQ6ceikFECB7MMBf/8TQCG+bUpEXxNAPUGsrg7EEkDxXG7gtS0SQDukmdUSnBFAHWjbvf8OEUBe1Mv4V4YQQBKBYAz4ARBAFPBXN3sDD0Aag8+7DgsOQF8+jStqGg1Ail0ZEk8xDEAog9bwgE8LQL+LPC/FdApA0GOSC+OgCUAB4SKMo9MIQCy+6HDRDAhA2vmtJTlMB0AV9Zq0qJEGQD7NMbnv3AVAmIiyU98tBUB2yOQcSoQEQA==",
          "dtype": "f8"
         },
         "yaxis": "y3"
        }
       ],
       "layout": {
        "annotations": [
         {
          "font": {
           "size": 16
          },
          "showarrow": false,
          "text": "f(x_k)",
          "x": 0.225,
          "xanchor": "center",
          "xref": "paper",
          "y": 1,
          "yanchor": "bottom",
          "yref": "paper"
         },
         {
          "font": {
           "size": 16
          },
          "showarrow": false,
          "text": "step size t_k",
          "x": 0.775,
          "xanchor": "center",
          "xref": "paper",
          "y": 1,
          "yanchor": "bottom",
          "yref": "paper"
         },
         {
          "font": {
           "size": 16
          },
          "showarrow": false,
          "text": "||grad f(x_k)||",
          "x": 0.225,
          "xanchor": "center",
          "xref": "paper",
          "y": 0.375,
          "yanchor": "bottom",
          "yref": "paper"
         }
        ],
        "height": 700,
        "template": {
         "data": {
          "bar": [
           {
            "error_x": {
             "color": "#2a3f5f"
            },
            "error_y": {
             "color": "#2a3f5f"
            },
            "marker": {
             "line": {
              "color": "#E5ECF6",
              "width": 0.5
             },
             "pattern": {
              "fillmode": "overlay",
              "size": 10,
              "solidity": 0.2
             }
            },
            "type": "bar"
           }
          ],
          "barpolar": [
           {
            "marker": {
             "line": {
              "color": "#E5ECF6",
              "width": 0.5
             },
             "pattern": {
              "fillmode": "overlay",
              "size": 10,
              "solidity": 0.2
             }
            },
            "type": "barpolar"
           }
          ],
          "carpet": [
           {
            "aaxis": {
             "endlinecolor": "#2a3f5f",
             "gridcolor": "white",
             "linecolor": "white",
             "minorgridcolor": "white",
             "startlinecolor": "#2a3f5f"
            },
            "baxis": {
             "endlinecolor": "#2a3f5f",
             "gridcolor": "white",
             "linecolor": "white",
             "minorgridcolor": "white",
             "startlinecolor": "#2a3f5f"
            },
            "type": "carpet"
           }
          ],
          "choropleth": [
           {
            "colorbar": {
             "outlinewidth": 0,
             "ticks": ""
            },
            "type": "choropleth"
           }
          ],
          "contour": [
           {
            "colorbar": {
             "outlinewidth": 0,
             "ticks": ""
            },
            "colorscale": [
             [
              0,
              "#0d0887"
             ],
             [
              0.1111111111111111,
              "#46039f"
             ],
             [
              0.2222222222222222,
              "#7201a8"
             ],
             [
              0.3333333333333333,
              "#9c179e"
             ],
             [
              0.4444444444444444,
              "#bd3786"
             ],
             [
              0.5555555555555556,
              "#d8576b"
             ],
             [
              0.6666666666666666,
              "#ed7953"
             ],
             [
              0.7777777777777778,
              "#fb9f3a"
             ],
             [
              0.8888888888888888,
              "#fdca26"
             ],
             [
              1,
              "#f0f921"
             ]
            ],
            "type": "contour"
           }
          ],
          "contourcarpet": [
           {
            "colorbar": {
             "outlinewidth": 0,
             "ticks": ""
            },
            "type": "contourcarpet"
           }
          ],
          "heatmap": [
           {
            "colorbar": {
             "outlinewidth": 0,
             "ticks": ""
            },
            "colorscale": [
             [
              0,
              "#0d0887"
             ],
             [
              0.1111111111111111,
              "#46039f"
             ],
             [
              0.2222222222222222,
              "#7201a8"
             ],
             [
              0.3333333333333333,
              "#9c179e"
             ],
             [
              0.4444444444444444,
              "#bd3786"
             ],
             [
              0.5555555555555556,
              "#d8576b"
             ],
             [
              0.6666666666666666,
              "#ed7953"
             ],
             [
              0.7777777777777778,
              "#fb9f3a"
             ],
             [
              0.8888888888888888,
              "#fdca26"
             ],
             [
              1,
              "#f0f921"
             ]
            ],
            "type": "heatmap"
           }
          ],
          "histogram": [
           {
            "marker": {
             "pattern": {
              "fillmode": "overlay",
              "size": 10,
              "solidity": 0.2
             }
            },
            "type": "histogram"
           }
          ],
          "histogram2d": [
           {
            "colorbar": {
             "outlinewidth": 0,
             "ticks": ""
            },
            "colorscale": [
             [
              0,
              "#0d0887"
             ],
             [
              0.1111111111111111,
              "#46039f"
             ],
             [
              0.2222222222222222,
              "#7201a8"
             ],
             [
              0.3333333333333333,
              "#9c179e"
             ],
             [
              0.4444444444444444,
              "#bd3786"
             ],
             [
              0.5555555555555556,
              "#d8576b"
             ],
             [
              0.6666666666666666,
              "#ed7953"
             ],
             [
              0.7777777777777778,
              "#fb9f3a"
             ],
             [
              0.8888888888888888,
              "#fdca26"
             ],
             [
              1,
              "#f0f921"
             ]
            ],
            "type": "histogram2d"
           }
          ],
          "histogram2dcontour": [
           {
            "colorbar": {
             "outlinewidth": 0,
             "ticks": ""
            },
            "colorscale": [
             [
              0,
              "#0d0887"
             ],
             [
              0.1111111111111111,
              "#46039f"
             ],
             [
              0.2222222222222222,
              "#7201a8"
             ],
             [
              0.3333333333333333,
              "#9c179e"
             ],
             [
              0.4444444444444444,
              "#bd3786"
             ],
             [
              0.5555555555555556,
              "#d8576b"
             ],
             [
              0.6666666666666666,
              "#ed7953"
             ],
             [
              0.7777777777777778,
              "#fb9f3a"
             ],
             [
              0.8888888888888888,
              "#fdca26"
             ],
             [
              1,
              "#f0f921"
             ]
            ],
            "type": "histogram2dcontour"
           }
          ],
          "mesh3d": [
           {
            "colorbar": {
             "outlinewidth": 0,
             "ticks": ""
            },
            "type": "mesh3d"
           }
          ],
          "parcoords": [
           {
            "line": {
             "colorbar": {
              "outlinewidth": 0,
              "ticks": ""
             }
            },
            "type": "parcoords"
           }
          ],
          "pie": [
           {
            "automargin": true,
            "type": "pie"
           }
          ],
          "scatter": [
           {
            "fillpattern": {
             "fillmode": "overlay",
             "size": 10,
             "solidity": 0.2
            },
            "type": "scatter"
           }
          ],
          "scatter3d": [
           {
            "line": {
             "colorbar": {
              "outlinewidth": 0,
              "ticks": ""
             }
            },
            "marker": {
             "colorbar": {
              "outlinewidth": 0,
              "ticks": ""
             }
            },
            "type": "scatter3d"
           }
          ],
          "scattercarpet": [
           {
            "marker": {
             "colorbar": {
              "outlinewidth": 0,
              "ticks": ""
             }
            },
            "type": "scattercarpet"
           }
          ],
          "scattergeo": [
           {
            "marker": {
             "colorbar": {
              "outlinewidth": 0,
              "ticks": ""
             }
            },
            "type": "scattergeo"
           }
          ],
          "scattergl": [
           {
            "marker": {
             "colorbar": {
              "outlinewidth": 0,
              "ticks": ""
             }
            },
            "type": "scattergl"
           }
          ],
          "scattermap": [
           {
            "marker": {
             "colorbar": {
              "outlinewidth": 0,
              "ticks": ""
             }
            },
            "type": "scattermap"
           }
          ],
          "scattermapbox": [
           {
            "marker": {
             "colorbar": {
              "outlinewidth": 0,
              "ticks": ""
             }
            },
            "type": "scattermapbox"
           }
          ],
          "scatterpolar": [
           {
            "marker": {
             "colorbar": {
              "outlinewidth": 0,
              "ticks": ""
             }
            },
            "type": "scatterpolar"
           }
          ],
          "scatterpolargl": [
           {
            "marker": {
             "colorbar": {
              "outlinewidth": 0,
              "ticks": ""
             }
            },
            "type": "scatterpolargl"
           }
          ],
          "scatterternary": [
           {
            "marker": {
             "colorbar": {
              "outlinewidth": 0,
              "ticks": ""
             }
            },
            "type": "scatterternary"
           }
          ],
          "surface": [
           {
            "colorbar": {
             "outlinewidth": 0,
             "ticks": ""
            },
            "colorscale": [
             [
              0,
              "#0d0887"
             ],
             [
              0.1111111111111111,
              "#46039f"
             ],
             [
              0.2222222222222222,
              "#7201a8"
             ],
             [
              0.3333333333333333,
              "#9c179e"
             ],
             [
              0.4444444444444444,
              "#bd3786"
             ],
             [
              0.5555555555555556,
              "#d8576b"
             ],
             [
              0.6666666666666666,
              "#ed7953"
             ],
             [
              0.7777777777777778,
              "#fb9f3a"
             ],
             [
              0.8888888888888888,
              "#fdca26"
             ],
             [
              1,
              "#f0f921"
             ]
            ],
            "type": "surface"
           }
          ],
          "table": [
           {
            "cells": {
             "fill": {
              "color": "#EBF0F8"
             },
             "line": {
              "color": "white"
             }
            },
            "header": {
             "fill": {
              "color": "#C8D4E3"
             },
             "line": {
              "color": "white"
             }
            },
            "type": "table"
           }
          ]
         },
         "layout": {
          "annotationdefaults": {
           "arrowcolor": "#2a3f5f",
           "arrowhead": 0,
           "arrowwidth": 1
          },
          "autotypenumbers": "strict",
          "coloraxis": {
           "colorbar": {
            "outlinewidth": 0,
            "ticks": ""
           }
          },
          "colorscale": {
           "diverging": [
            [
             0,
             "#8e0152"
            ],
            [
             0.1,
             "#c51b7d"
            ],
            [
             0.2,
             "#de77ae"
            ],
            [
             0.3,
             "#f1b6da"
            ],
            [
             0.4,
             "#fde0ef"
            ],
            [
             0.5,
             "#f7f7f7"
            ],
            [
             0.6,
             "#e6f5d0"
            ],
            [
             0.7,
             "#b8e186"
            ],
            [
             0.8,
             "#7fbc41"
            ],
            [
             0.9,
             "#4d9221"
            ],
            [
             1,
             "#276419"
            ]
           ],
           "sequential": [
            [
             0,
             "#0d0887"
            ],
            [
             0.1111111111111111,
             "#46039f"
            ],
            [
             0.2222222222222222,
             "#7201a8"
            ],
            [
             0.3333333333333333,
             "#9c179e"
            ],
            [
             0.4444444444444444,
             "#bd3786"
            ],
            [
             0.5555555555555556,
             "#d8576b"
            ],
            [
             0.6666666666666666,
             "#ed7953"
            ],
            [
             0.7777777777777778,
             "#fb9f3a"
            ],
            [
             0.8888888888888888,
             "#fdca26"
            ],
            [
             1,
             "#f0f921"
            ]
           ],
           "sequentialminus": [
            [
             0,
             "#0d0887"
            ],
            [
             0.1111111111111111,
             "#46039f"
            ],
            [
             0.2222222222222222,
             "#7201a8"
            ],
            [
             0.3333333333333333,
             "#9c179e"
            ],
            [
             0.4444444444444444,
             "#bd3786"
            ],
            [
             0.5555555555555556,
             "#d8576b"
            ],
            [
             0.6666666666666666,
             "#ed7953"
            ],
            [
             0.7777777777777778,
             "#fb9f3a"
            ],
            [
             0.8888888888888888,
             "#fdca26"
            ],
            [
             1,
             "#f0f921"
            ]
           ]
          },
          "colorway": [
           "#636efa",
           "#EF553B",
           "#00cc96",
           "#ab63fa",
           "#FFA15A",
           "#19d3f3",
           "#FF6692",
           "#B6E880",
           "#FF97FF",
           "#FECB52"
          ],
          "font": {
           "color": "#2a3f5f"
          },
          "geo": {
           "bgcolor": "white",
           "lakecolor": "white",
           "landcolor": "#E5ECF6",
           "showlakes": true,
           "showland": true,
           "subunitcolor": "white"
          },
          "hoverlabel": {
           "align": "left"
          },
          "hovermode": "closest",
          "mapbox": {
           "style": "light"
          },
          "paper_bgcolor": "white",
          "plot_bgcolor": "#E5ECF6",
          "polar": {
           "angularaxis": {
            "gridcolor": "white",
            "linecolor": "white",
            "ticks": ""
           },
           "bgcolor": "#E5ECF6",
           "radialaxis": {
            "gridcolor": "white",
            "linecolor": "white",
            "ticks": ""
           }
          },
          "scene": {
           "xaxis": {
            "backgroundcolor": "#E5ECF6",
            "gridcolor": "white",
            "gridwidth": 2,
            "linecolor": "white",
            "showbackground": true,
            "ticks": "",
            "zerolinecolor": "white"
           },
           "yaxis": {
            "backgroundcolor": "#E5ECF6",
            "gridcolor": "white",
            "gridwidth": 2,
            "linecolor": "white",
            "showbackground": true,
            "ticks": "",
            "zerolinecolor": "white"
           },
           "zaxis": {
            "backgroundcolor": "#E5ECF6",
            "gridcolor": "white",
            "gridwidth": 2,
            "linecolor": "white",
            "showbackground": true,
            "ticks": "",
            "zerolinecolor": "white"
           }
          },
          "shapedefaults": {
           "line": {
            "color": "#2a3f5f"
           }
          },
          "ternary": {
           "aaxis": {
            "gridcolor": "white",
            "linecolor": "white",
            "ticks": ""
           },
           "baxis": {
            "gridcolor": "white",
            "linecolor": "white",
            "ticks": ""
           },
           "bgcolor": "#E5ECF6",
           "caxis": {
            "gridcolor": "white",
            "linecolor": "white",
            "ticks": ""
           }
          },
          "title": {
           "x": 0.05
          },
          "xaxis": {
           "automargin": true,
           "gridcolor": "white",
           "linecolor": "white",
           "ticks": "",
           "title": {
            "standoff": 15
           },
           "zerolinecolor": "white",
           "zerolinewidth": 2
          },
          "yaxis": {
           "automargin": true,
           "gridcolor": "white",
           "linecolor": "white",
           "ticks": "",
           "title": {
            "standoff": 15
           },
           "zerolinecolor": "white",
           "zerolinewidth": 2
          }
         }
        },
        "title": {
         "text": "Optimization metrics"
        },
        "width": 900,
        "xaxis": {
         "anchor": "y",
         "domain": [
          0,
          0.45
         ],
         "title": {
          "text": "iteration"
         }
        },
        "xaxis2": {
         "anchor": "y2",
         "domain": [
          0.55,
          1
         ],
         "title": {
          "text": "iteration"
         }
        },
        "xaxis3": {
         "anchor": "y3",
         "domain": [
          0,
          0.45
         ],
         "title": {
          "text": "iteration"
         }
        },
        "yaxis": {
         "anchor": "x",
         "domain": [
          0.625,
          1
         ],
         "title": {
          "text": "f"
         },
         "type": "log"
        },
        "yaxis2": {
         "anchor": "x2",
         "domain": [
          0.625,
          1
         ],
         "title": {
          "text": "t"
         }
        },
        "yaxis3": {
         "anchor": "x3",
         "domain": [
          0,
          0.375
         ],
         "title": {
          "text": "||grad f||"
         },
         "type": "log"
        }
       }
      }
     },
     "metadata": {},
     "output_type": "display_data"
    },
    {
     "name": "stdout",
     "output_type": "stream",
     "text": [
      "Saved 3D trajectory video to opt_path_goldstein.mp4\n"
     ]
    }
   ],
   "source": [
    "show_isosurface_with_path(f, history, grid_range=(-1.2, 1.2), vol_n=50)\n",
    "plot_metrics(history, log_f=True, log_grad=True)\n",
    "save_video_xyz(history, filename=\"opt_path_goldstein.mp4\", fps=8)\n"
   ]
  }
 ],
 "metadata": {
  "kernelspec": {
   "display_name": "LAB_1_GD_V9",
   "language": "python",
   "name": "python3"
  },
  "language_info": {
   "codemirror_mode": {
    "name": "ipython",
    "version": 3
   },
   "file_extension": ".py",
   "mimetype": "text/x-python",
   "name": "python",
   "nbconvert_exporter": "python",
   "pygments_lexer": "ipython3",
   "version": "3.13.7"
  }
 },
 "nbformat": 4,
 "nbformat_minor": 5
}
