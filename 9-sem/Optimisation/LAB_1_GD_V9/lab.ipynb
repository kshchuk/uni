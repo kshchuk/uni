{
 "cells": [
  {
   "cell_type": "markdown",
   "metadata": {},
   "source": [
    "### Визначення цільової функції та градієнта\n",
    "Описуємо квадратичну функцію варіанта 9, її градієнт та готуємо сітку значень для візуалізацій.\n"
   ]
  },
  {
   "cell_type": "code",
   "execution_count": 149,
   "id": "320f719a",
   "metadata": {
    "ExecuteTime": {
     "end_time": "2025-09-27T11:59:31.209016321Z",
     "start_time": "2025-09-27T11:59:30.945097277Z"
    },
    "collapsed": true
   },
   "outputs": [],
   "source": [
    "import numpy as np\n",
    "\n",
    "\n",
    "def f(x) -> np.ndarray:\n",
    "    \"\"\"Квадратична цільова функція варіанта 9.\"\"\"\n",
    "    x1, x2, x3 = x\n",
    "    return (\n",
    "        200 * x1 ** 2\n",
    "        + 5 * x2 ** 2\n",
    "        + 144 * x3 ** 2\n",
    "        - 24 * x1 * x2\n",
    "        - 48 * x1 * x3\n",
    "        + 24 * x2 * x3\n",
    "        + 5\n",
    "    )\n",
    "\n",
    "\n",
    "def grad_f(x) -> np.ndarray:\n",
    "    \"\"\"Аналітичний градієнт функції f.\"\"\"\n",
    "    x1, x2, x3 = x\n",
    "    dfdx1 = 400 * x1 - 24 * x2 - 48 * x3\n",
    "    dfdx2 = 10 * x2 - 24 * x1 + 24 * x3\n",
    "    dfdx3 = 288 * x3 - 48 * x1 + 24 * x2\n",
    "    return np.array([dfdx1, dfdx2, dfdx3], dtype=float)\n",
    "\n",
    "\n",
    "grid = np.linspace(-1.2, 1.2, 12)\n",
    "# Рівномірна сітка для подальших візуалізацій\n",
    "\n"
   ]
  },
  {
   "cell_type": "markdown",
   "id": "426e301a",
   "metadata": {},
   "source": [
    "### Інтерактивний зріз поверхні\n",
    "Створюємо віджет, що дозволяє фіксувати одну змінну та досліджувати поверхню функції у двох вимірах.\n"
   ]
  },
  {
   "cell_type": "code",
   "execution_count": 150,
   "id": "453caecb",
   "metadata": {
    "ExecuteTime": {
     "end_time": "2025-09-27T11:59:31.506059105Z",
     "start_time": "2025-09-27T11:59:31.219276207Z"
    }
   },
   "outputs": [
    {
     "data": {
      "application/vnd.jupyter.widget-view+json": {
       "model_id": "09e18ee6c96a4f1485a9a64f80a4ef15",
       "version_major": 2,
       "version_minor": 0
      },
      "text/plain": [
       "HBox(children=(Dropdown(description='Fix:', index=2, options=('x1', 'x2', 'x3'), value='x3'), FloatSlider(valu…"
      ]
     },
     "metadata": {},
     "output_type": "display_data"
    },
    {
     "data": {
      "application/vnd.jupyter.widget-view+json": {
       "model_id": "0f9ce3b4ca614e26ab72b1934fc1bff2",
       "version_major": 2,
       "version_minor": 0
      },
      "text/plain": [
       "Output()"
      ]
     },
     "metadata": {},
     "output_type": "display_data"
    }
   ],
   "source": [
    "import plotly.graph_objects as go\n",
    "import ipywidgets as w\n",
    "from IPython.display import display\n",
    "\n",
    "\n",
    "def surface_for_slice(slice_var=\"x3\", slice_val=0.0):\n",
    "    \"\"\"Повертає поверхню f при фіксованому значенні однієї координати.\"\"\"\n",
    "    # Формуємо сітку для двох вільних змінних\n",
    "    if slice_var == \"x1\":\n",
    "        X2, X3 = np.meshgrid(grid, grid)\n",
    "        Z = f((np.full_like(X2, slice_val), X2, X3))\n",
    "        x, y, z = X2, X3, Z\n",
    "        xlab, ylab = \"x2\", \"x3\"\n",
    "    elif slice_var == \"x2\":\n",
    "        X1, X3 = np.meshgrid(grid, grid)\n",
    "        Z = f((X1, np.full_like(X1, slice_val), X3))\n",
    "        x, y, z = X1, X3, Z\n",
    "        xlab, ylab = \"x1\", \"x3\"\n",
    "    else:  # slice_var == \"x3\"\n",
    "        X1, X2 = np.meshgrid(grid, grid)\n",
    "        Z = f((X1, X2, slice_val))\n",
    "        x, y, z = X1, X2, Z\n",
    "        xlab, ylab = \"x1\", \"x2\"\n",
    "\n",
    "    fig = go.Figure(data=[go.Surface(x=x, y=y, z=z, showscale=False)])\n",
    "    fig.update_layout(\n",
    "        title=f\"Surface of f with {slice_var} = {slice_val:.3f}\",\n",
    "        scene=dict(xaxis_title=xlab, yaxis_title=ylab, zaxis_title=\"f\"),\n",
    "        margin=dict(l=0, r=0, b=0, t=40),\n",
    "        height=600,\n",
    "    )\n",
    "    return fig\n",
    "\n",
    "# Віджети для вибору фіксованої координати та її значення\n",
    "slice_var_dd = w.Dropdown(options=[\"x1\", \"x2\", \"x3\"], value=\"x3\", description=\"Fix:\")\n",
    "slice_val_sl = w.FloatSlider(\n",
    "    value=0.0,\n",
    "    min=grid.min(),\n",
    "    max=grid.max(),\n",
    "    step=float(grid[1] - grid[0]),\n",
    "    description=\"Value:\",\n",
    ")\n",
    "\n",
    "# Область, у яку рендеримо графік після кожної зміни параметрів\n",
    "out = w.Output()\n",
    "\n",
    "\n",
    "def _draw(*_):\n",
    "    with out:\n",
    "        out.clear_output(wait=True)\n",
    "        display(surface_for_slice(slice_var_dd.value, slice_val_sl.value))\n",
    "\n",
    "# Перемальовуємо поверхню при зміні будь-якого з параметрів\n",
    "slice_var_dd.observe(_draw, names=\"value\")\n",
    "slice_val_sl.observe(_draw, names=\"value\")\n",
    "\n",
    "display(w.HBox([slice_var_dd, slice_val_sl]))\n",
    "_draw()\n",
    "display(out)\n",
    "\n"
   ]
  },
  {
   "cell_type": "markdown",
   "id": "bcca92a0",
   "metadata": {},
   "source": [
    "### Тривимірна сітка та ізоповерхня\n",
    "Готуємо кубічну сітку, діапазони значень і віджет для побудови однієї ізоповерхні з виділенням мінімуму.\n"
   ]
  },
  {
   "cell_type": "code",
   "execution_count": 151,
   "id": "c7198643",
   "metadata": {
    "ExecuteTime": {
     "end_time": "2025-09-27T11:59:31.629985105Z",
     "start_time": "2025-09-27T11:59:31.519325377Z"
    }
   },
   "outputs": [
    {
     "data": {
      "application/vnd.jupyter.widget-view+json": {
       "model_id": "2af7f3f614424cbbb31a0d5dec32eee7",
       "version_major": 2,
       "version_minor": 0
      },
      "text/plain": [
       "HBox(children=(FloatSlider(value=229.74710743801654, description='F =', max=434.15570247933886, min=25.3385123…"
      ]
     },
     "metadata": {},
     "output_type": "display_data"
    },
    {
     "data": {
      "application/vnd.jupyter.widget-view+json": {
       "model_id": "bf84aaa49cea4155893378a6058ed682",
       "version_major": 2,
       "version_minor": 0
      },
      "text/plain": [
       "Output()"
      ]
     },
     "metadata": {},
     "output_type": "display_data"
    }
   ],
   "source": [
    "X1, X2, X3 = np.meshgrid(grid, grid, grid, indexing=\"xy\")\n",
    "F = f((X1, X2, X3))\n",
    "\n",
    "# Межі значень для ползунка рівня ізоповерхні\n",
    "Fmin, Fmax = np.percentile(F, 5), np.percentile(F, 95)\n",
    "\n",
    "# Набір керуючих елементів для ізоповерхні\n",
    "F_value = w.FloatSlider(\n",
    "    value=float((Fmin + Fmax) / 2),\n",
    "    min=float(Fmin),\n",
    "    max=float(Fmax),\n",
    "    step=float((Fmax - Fmin) / 200),\n",
    "    description=\"F =\",\n",
    "    readout_format=\".2f\",\n",
    "    continuous_update=True,\n",
    ")\n",
    "opacity = w.FloatSlider(value=0.6, min=0.1, max=1.0, step=0.05, description=\"Opacity\")\n",
    "showscale = w.Checkbox(value=True, description=\"Show colorbar\")\n",
    "btn = w.Button(description=\"Render\", button_style=\"primary\")\n",
    "display(w.HBox([F_value, opacity, showscale, btn]))\n",
    "\n",
    "out = w.Output()\n",
    "\n",
    "\n",
    "def build_figure(F_level, opacity, showscale):\n",
    "    \"\"\"Формує одну ізоповерхню f(x) = F_level і позначає мінімум.\"\"\"\n",
    "    fig = go.Figure(\n",
    "        go.Isosurface(\n",
    "            x=X1.ravel(),\n",
    "            y=X2.ravel(),\n",
    "            z=X3.ravel(),\n",
    "            value=F.ravel(),\n",
    "            isomin=float(F_level),\n",
    "            isomax=float(F_level),\n",
    "            surface_count=1,\n",
    "            opacity=float(opacity),\n",
    "            caps=dict(x_show=False, y_show=False, z_show=False),\n",
    "            colorscale=\"Viridis\",\n",
    "            showscale=bool(showscale),\n",
    "            colorbar=dict(\n",
    "                title=\"f\",\n",
    "                x=1.02,\n",
    "                thickness=14,\n",
    "                len=0.6,\n",
    "                tickfont=dict(size=10),\n",
    "            )\n",
    "            if showscale\n",
    "            else None,\n",
    "        )\n",
    "    )\n",
    "\n",
    "    fig.update_layout(\n",
    "        title=f\"Isosurface: F = {F_level:.2f}\",\n",
    "        scene=dict(xaxis_title=\"x1\", yaxis_title=\"x2\", zaxis_title=\"x3\"),\n",
    "        margin=dict(l=0, r=80 if showscale else 0, b=0, t=40),\n",
    "        height=650,\n",
    "    )\n",
    "\n",
    "    # Додаємо точку глобального мінімуму\n",
    "    fig.add_scatter3d(\n",
    "        x=[0],\n",
    "        y=[0],\n",
    "        z=[0],\n",
    "        mode=\"markers+text\",\n",
    "        marker=dict(size=6, symbol=\"diamond\"),\n",
    "        text=[\"min f=5 at (0,0,0)\"],\n",
    "        textposition=\"top center\",\n",
    "        name=\"Global minimum\",\n",
    "    )\n",
    "\n",
    "    # Додаємо кілька додаткових демонстраційних точок (якщо задані)\n",
    "    # Створіть словник demo_points у будь-якій клітинці: {label: (x1,x2,x3), ...}\n",
    "    pts = globals().get(\"demo_points\", None)\n",
    "    if isinstance(pts, dict) and len(pts) > 0:\n",
    "        xs, ys, zs, texts = [], [], [], []\n",
    "        for name, arr in pts.items():\n",
    "            try:\n",
    "                a = np.asarray(arr, dtype=float).reshape(-1)\n",
    "                if a.size == 3:\n",
    "                    xs.append(float(a[0]))\n",
    "                    ys.append(float(a[1]))\n",
    "                    zs.append(float(a[2]))\n",
    "                    texts.append(str(name))\n",
    "            except Exception:\n",
    "                pass\n",
    "        if xs:\n",
    "            fig.add_scatter3d(\n",
    "                x=xs, y=ys, z=zs,\n",
    "                mode=\"markers+text\",\n",
    "                marker=dict(size=5, color=\"orange\"),\n",
    "                text=texts,\n",
    "                textposition=\"top center\",\n",
    "                name=\"Demo starts\",\n",
    "            )\n",
    "\n",
    "    return fig\n",
    "\n",
    "\n",
    "def _render(_=None):\n",
    "    with out:\n",
    "        out.clear_output(wait=True)\n",
    "        display(build_figure(F_value.value, opacity.value, showscale.value))\n",
    "\n",
    "btn.on_click(_render)\n",
    "_render()\n",
    "display(out)\n",
    "\n"
   ]
  },
  {
   "cell_type": "markdown",
   "id": "777d487d",
   "metadata": {},
   "source": [
    "### Умова простого зменшення\n",
    "Визначаємо критерій прийняття кроку, який вимагає лише зменшення значення функції.\n"
   ]
  },
  {
   "cell_type": "code",
   "execution_count": 152,
   "id": "96a9d399",
   "metadata": {},
   "outputs": [],
   "source": [
    "def split_step_cond(f, x, p, t, f_x, c) -> bool:\n",
    "    \"\"\"Умова для методу з поділом кроку: достатньо, щоб f зменшилася.\"\"\"\n",
    "    return f(x + t * p) < f_x\n"
   ]
  },
  {
   "cell_type": "markdown",
   "id": "739e8efc",
   "metadata": {},
   "source": [
    "### Умова Ґольдштейна\n",
    "Впроваджуємо подвійні нерівності Ґольдштейна для контролю кроку лінійного пошуку.\n"
   ]
  },
  {
   "cell_type": "code",
   "execution_count": 153,
   "id": "7b833a48",
   "metadata": {},
   "outputs": [],
   "source": [
    "def goldstein_cond(f, x, p, t, f_x, grad_f, c=0.1) -> bool:\n",
    "    \"\"\"\n",
    "    Перевірка нерівностей Ґольдштейна:\n",
    "      f(x) + (1-c) t pfi0 <= f(x + t p) <= f(x) + c t pfi0,  де pfi0 = df(x)^T p < 0.\n",
    "    \"\"\"\n",
    "    g = grad_f(x)\n",
    "    phi0 = float(np.dot(g, p))\n",
    "    f_x_new = f(x + t * p)\n",
    "    left = f_x + (1.0 - c) * t * phi0\n",
    "    right = f_x + c * t * phi0\n",
    "    return (left <= f_x_new) and (f_x_new <= right)"
   ]
  },
  {
   "cell_type": "markdown",
   "id": "166afc4a",
   "metadata": {},
   "source": [
    "### Зворотний пошук кроку\n",
    "Реалізуємо процедуру backtracking з підтримкою простого та ґольдштейнівського критеріїв.\n"
   ]
  },
  {
   "cell_type": "code",
   "execution_count": 154,
   "id": "eb66a680",
   "metadata": {},
   "outputs": [],
   "source": [
    "from typing import Callable, Optional\n",
    "\n",
    "\n",
    "def back_tracking(\n",
    "    f: Callable[[np.ndarray], float],\n",
    "    grad_f: Callable[[np.ndarray], np.ndarray],\n",
    "    x: np.ndarray,\n",
    "    p: np.ndarray,\n",
    "    cond: Optional[Callable] = None,\n",
    "    t0: float = 1.0,\n",
    "    beta: float = 0.5,\n",
    "    max_halves: int = 100,\n",
    "    c: float = 0.1,\n",
    ") -> float:\n",
    "    \"\"\"\n",
    "    Пошук кроку:\n",
    "      - якщо cond is goldstein_cond -> пошук за правилом Ґольдштейна\n",
    "        (розширення до лівої межі, потім стискання до правої);\n",
    "      - інакше -> \"поділ кроку\" (backtracking), поки cond(...) не стане True.\n",
    "    beta ∈ (0,1) - коефіцієнт стискання; c є (0,0.5] - параметр Ґольдштейна.\n",
    "    \"\"\"\n",
    "    t = float(t0)\n",
    "    fx = float(f(x))\n",
    "    g = grad_f(x)\n",
    "    phi0 = float(np.dot(g, p))  # напрямна похідна у нулі\n",
    "\n",
    "    # гарантуємо напрям спуску\n",
    "    if phi0 >= 0:\n",
    "        p = -g\n",
    "        phi0 = -float(np.dot(g, g))\n",
    "        if phi0 >= 0:  # нульовий градієнт\n",
    "            return 0.0\n",
    "\n",
    "    # --- Goldstein ---\n",
    "    if cond is goldstein_cond:\n",
    "        # 1) Розширення: забезпечити ліву нерівність\n",
    "        for _ in range(max_halves):\n",
    "            if f(x + t * p) >= fx + (1.0 - c) * t * phi0:\n",
    "                break\n",
    "            t /= beta  # beta<1 -> збільшуємо крок\n",
    "        # 2) Стискання: забезпечити праву нерівність\n",
    "        for _ in range(max_halves):\n",
    "            if goldstein_cond(f, x, p, t, fx, grad_f, c=c):\n",
    "                return t\n",
    "            t *= beta\n",
    "        return t\n",
    "\n",
    "    # --- Поділ кроку (звичайний backtracking) ---\n",
    "    # за замовчуванням приймаємо split_step_cond, якщо cond не задано\n",
    "    if cond is None:\n",
    "        cond = split_step_cond\n",
    "\n",
    "    for _ in range(max_halves):\n",
    "        if cond(f, x, p, t, fx, grad_f):\n",
    "            return t\n",
    "        t *= beta\n",
    "    return t"
   ]
  },
  {
   "cell_type": "markdown",
   "id": "0e480471",
   "metadata": {},
   "source": [
    "### Евклідова норма\n",
    "Додаємо коротку допоміжну функцію для обчислення норми градієнта.\n"
   ]
  },
  {
   "cell_type": "code",
   "execution_count": 155,
   "id": "3f85f27d",
   "metadata": {},
   "outputs": [],
   "source": [
    "def norm2(v: np.ndarray) -> float:\n",
    "    \"\"\"Евклідова норма вектора.\"\"\"\n",
    "    return np.sqrt(np.sum(v ** 2))\n",
    "\n"
   ]
  },
  {
   "cell_type": "markdown",
   "id": "b15d739e",
   "metadata": {},
   "source": [
    "### Градієнтний спуск\n",
    "Описуємо основний цикл методу зі збереженням історії проміжних оцінок.\n"
   ]
  },
  {
   "cell_type": "code",
   "execution_count": 156,
   "id": "1b7b78c3",
   "metadata": {},
   "outputs": [],
   "source": [
    "def gd_back_tracking(\n",
    "    f,\n",
    "    grad_f,\n",
    "    x0,\n",
    "    cond,\n",
    "    max_iters=50,\n",
    "    tol=1e-6,\n",
    "    c=0.5,\n",
    "):\n",
    "    \"\"\"Градієнтний спуск із backtracking та збереженням історії.\"\"\"\n",
    "    x = np.array(x0, dtype=float)\n",
    "    history = {\"x\": [x.copy()], \"f\": [f(x)], \"t\": [], \"grad_norm\": []}\n",
    "\n",
    "    for _ in range(max_iters):\n",
    "        g = grad_f(x)\n",
    "        gnorm = norm2(g)\n",
    "        history[\"grad_norm\"].append(gnorm)\n",
    "        if gnorm < tol:\n",
    "            break\n",
    "\n",
    "        p = -g\n",
    "        assert np.dot(g, p) < 0, \"Not a descent direction!\"\n",
    "\n",
    "        # Підбираємо довжину кроку відповідно до переданої умови\n",
    "        t = back_tracking(f, grad_f, x, p, cond, c)\n",
    "        assert t > 0, \"Line search failed to find a valid step size!\"\n",
    "\n",
    "        x += t * p\n",
    "\n",
    "        history[\"x\"].append(x.copy())\n",
    "        history[\"f\"].append(f(x))\n",
    "        history[\"t\"].append(t)\n",
    "\n",
    "    return x, history\n",
    "\n"
   ]
  },
  {
   "cell_type": "markdown",
   "id": "5971c3c6",
   "metadata": {},
   "source": [
    "### Перший запуск зі старту (1,1,1)\n",
    "Запускаємо градієнтний спуск із простим правилом зменшення, щоб перевірити збіжність.\n"
   ]
  },
  {
   "cell_type": "code",
   "execution_count": 157,
   "id": "72845797",
   "metadata": {},
   "outputs": [
    {
     "name": "stdout",
     "output_type": "stream",
     "text": [
      "Found minimum at x = [ 4.22772933e-09  1.08354738e-07 -7.76895124e-09], f = 5.000000000000042, iters = 441\n"
     ]
    }
   ],
   "source": [
    "# Початкова точка для першого експерименту\n",
    "x0 = np.array([1.0, 1.0, 1.0])\n",
    "\n",
    "# Запуск градієнтного спуску з простою умовою зменшення\n",
    "x_min, history = gd_back_tracking(f, grad_f, x0, split_step_cond, max_iters=500, tol=1e-6)\n",
    "print(f\"Found minimum at x = {x_min}, f = {f(x_min)}, iters = {len(history['f'])-1}\")\n",
    "\n"
   ]
  },
  {
   "cell_type": "markdown",
   "id": "b8ae508b",
   "metadata": {},
   "source": [
    "### Адаптер виклику функції\n",
    "Нормалізуємо інтерфейс цільової функції для модулів візуалізації.\n"
   ]
  },
  {
   "cell_type": "code",
   "execution_count": 158,
   "id": "d84f0b4f",
   "metadata": {},
   "outputs": [],
   "source": [
    "import numpy as np\n",
    "\n",
    "\n",
    "def f_adapter(f_raw):\n",
    "    \"\"\"Уніфікує виклики f для кортежів та списків координат.\"\"\"\n",
    "    def fA(x_tuple):\n",
    "        try:\n",
    "            return f_raw(x_tuple)\n",
    "        except TypeError:\n",
    "            x1, x2, x3 = x_tuple\n",
    "            return f_raw(x1, x2, x3)\n",
    "\n",
    "    return fA\n",
    "\n"
   ]
  },
  {
   "cell_type": "markdown",
   "id": "16e23942",
   "metadata": {},
   "source": [
    "### Ізоповерхня з траєкторією\n",
    "Будуємо тривимірне представлення ізоповерхні та додаємо шлях оптимізації.\n"
   ]
  },
  {
   "cell_type": "code",
   "execution_count": 159,
   "id": "544a2148",
   "metadata": {},
   "outputs": [],
   "source": [
    "import plotly.graph_objects as go\n",
    "import ipywidgets as w\n",
    "from IPython.display import display\n",
    "\n",
    "\n",
    "def show_isosurface_with_path(f_raw, history, grid_range=(-1.2, 1.2), vol_n=50):\n",
    "    \"\"\"Відображає ізоповерхню разом із траєкторією оптимізації.\"\"\"\n",
    "    f = f_adapter(f_raw)\n",
    "\n",
    "    P = np.array(history[\"x\"])  # (K+1, 3)\n",
    "\n",
    "    gmin, gmax = grid_range\n",
    "    vol_grid = np.linspace(gmin, gmax, int(vol_n))\n",
    "    X1v, X2v, X3v = np.meshgrid(vol_grid, vol_grid, vol_grid, indexing=\"xy\")\n",
    "    Fvol = f((X1v, X2v, X3v))\n",
    "    Fmin, Fmax = np.percentile(Fvol, 5), np.percentile(Fvol, 95)\n",
    "\n",
    "    level = w.FloatSlider(\n",
    "        value=float((Fmin + Fmax) / 2),\n",
    "        min=float(Fmin),\n",
    "        max=float(Fmax),\n",
    "        step=float((Fmax - Fmin) / 200),\n",
    "        description=\"F =\",\n",
    "        readout_format=\".2f\",\n",
    "        continuous_update=True,\n",
    "    )\n",
    "    opacity = w.FloatSlider(\n",
    "        value=0.45,\n",
    "        min=0.1,\n",
    "        max=1.0,\n",
    "        step=0.05,\n",
    "        description=\"Opacity\",\n",
    "        continuous_update=True,\n",
    "    )\n",
    "    cbar = w.Checkbox(value=True, description=\"Show colorbar\")\n",
    "    display(w.HBox([level, opacity, cbar]))\n",
    "\n",
    "    figw = go.FigureWidget()\n",
    "    figw.update_layout(\n",
    "        title=f\"Isosurface: F = {level.value:.2f}\",\n",
    "        height=650,\n",
    "        margin=dict(l=0, r=80, b=0, t=40),\n",
    "        scene=dict(xaxis_title=\"x1\", yaxis_title=\"x2\", zaxis_title=\"x3\"),\n",
    "    )\n",
    "\n",
    "    iso = go.Isosurface(\n",
    "        x=X1v.ravel(),\n",
    "        y=X2v.ravel(),\n",
    "        z=X3v.ravel(),\n",
    "        value=Fvol.ravel(),\n",
    "        isomin=float(level.value),\n",
    "        isomax=float(level.value),\n",
    "        surface_count=1,\n",
    "        opacity=float(opacity.value),\n",
    "        caps=dict(x_show=False, y_show=False, z_show=False),\n",
    "        colorscale=\"Viridis\",\n",
    "        showscale=bool(cbar.value),\n",
    "        colorbar=dict(title=\"f\", x=1.02, thickness=14, len=0.6, tickfont=dict(size=10)),\n",
    "    )\n",
    "    path = go.Scatter3d(\n",
    "        x=P[:, 0],\n",
    "        y=P[:, 1],\n",
    "        z=P[:, 2],\n",
    "        mode=\"lines+markers\",\n",
    "        name=\"Path\",\n",
    "        marker=dict(size=4),\n",
    "        line=dict(width=4),\n",
    "        hovertemplate=\"iter=%{customdata}<br>x1=%{x:.3f}, x2=%{y:.3f}, x3=%{z:.3f}<extra></extra>\",\n",
    "        customdata=np.arange(len(P)),\n",
    "    )\n",
    "    figw.add_traces([iso, path])\n",
    "    display(figw)\n",
    "\n",
    "    iso_tr = figw.data[0]\n",
    "\n",
    "    def _on_level(ch):\n",
    "        val = float(ch[\"new\"])\n",
    "        with figw.batch_update():\n",
    "            iso_tr.isomin = val\n",
    "            iso_tr.isomax = val\n",
    "            figw.layout.title = f\"Isosurface: F = {val:.2f}\"\n",
    "\n",
    "    def _on_opacity(ch):\n",
    "        iso_tr.opacity = float(ch[\"new\"])\n",
    "\n",
    "    def _on_cbar(ch):\n",
    "        iso_tr.showscale = bool(ch[\"new\"])\n",
    "        figw.layout.margin.r = 80 if iso_tr.showscale else 0\n",
    "\n",
    "    level.observe(_on_level, names=\"value\")\n",
    "    opacity.observe(_on_opacity, names=\"value\")\n",
    "    cbar.observe(_on_cbar, names=\"value\")"
   ]
  },
  {
   "cell_type": "markdown",
   "id": "1407c849",
   "metadata": {},
   "source": [
    "### Графіки збіжності\n",
    "Генеруємо графіки зміни значення функції, кроків і норми градієнта.\n"
   ]
  },
  {
   "cell_type": "code",
   "execution_count": 160,
   "id": "2047582b",
   "metadata": {},
   "outputs": [],
   "source": [
    "from plotly.subplots import make_subplots\n",
    "import plotly.graph_objects as go\n",
    "\n",
    "\n",
    "def plot_metrics(history, log_f=True, log_grad=True):\n",
    "    \"\"\"Відстежує f(x_k), кроки t_k та норму градієнта.\"\"\"\n",
    "    fvals = np.array(history.get(\"f\", []))\n",
    "    tvals = np.array(history.get(\"t\", []))\n",
    "    gnorm = np.array(history.get(\"grad_norm\", []))\n",
    "\n",
    "    fig = make_subplots(\n",
    "        rows=2,\n",
    "        cols=2,\n",
    "        subplot_titles=(\"f(x_k)\", \"step size t_k\", \"||grad f(x_k)||\"),\n",
    "        specs=[[{\"type\": \"scatter\"}, {\"type\": \"scatter\"}], [{\"type\": \"scatter\"}, None]],\n",
    "    )\n",
    "    if fvals.size:\n",
    "        fig.add_trace(go.Scatter(y=fvals, mode=\"lines+markers\", name=\"f\"), row=1, col=1)\n",
    "        if log_f:\n",
    "            fig.update_yaxes(type=\"log\", row=1, col=1)\n",
    "    if tvals.size:\n",
    "        fig.add_trace(go.Scatter(y=tvals, mode=\"lines+markers\", name=\"t\"), row=1, col=2)\n",
    "    if gnorm.size:\n",
    "        fig.add_trace(go.Scatter(y=gnorm, mode=\"lines+markers\", name=\"||grad||\"), row=2, col=1)\n",
    "        if log_grad:\n",
    "            fig.update_yaxes(type=\"log\", row=2, col=1)\n",
    "\n",
    "    fig.update_layout(height=700, width=900, title_text=\"Optimization metrics\")\n",
    "    fig.update_xaxes(title_text=\"iteration\", range=[0, 50], row=1, col=1)\n",
    "    fig.update_xaxes(title_text=\"iteration\", range=[0, 50], row=1, col=2)\n",
    "    fig.update_xaxes(title_text=\"iteration\", range=[0, 50], row=2, col=1)\n",
    "    fig.update_yaxes(title_text=\"f\", row=1, col=1)\n",
    "    fig.update_yaxes(title_text=\"t\", row=1, col=2)\n",
    "    fig.update_yaxes(title_text=\"||grad f||\", row=2, col=1)\n",
    "    fig.show()"
   ]
  },
  {
   "cell_type": "markdown",
   "id": "5ae1f8e6",
   "metadata": {},
   "source": [
    "### Відео траєкторії\n",
    "Формуємо анімацію шляху оптимізації та зберігаємо її у форматі MP4.\n"
   ]
  },
  {
   "cell_type": "code",
   "execution_count": 161,
   "id": "7c626497",
   "metadata": {},
   "outputs": [],
   "source": [
    "import matplotlib.pyplot as plt\n",
    "from matplotlib import animation\n",
    "\n",
    "\n",
    "def save_video_xyz(history, filename=\"path_xyz.mp4\", fps=8):\n",
    "    \"\"\"Записує тривимірну траєкторію оптимізації у відео.\"\"\"\n",
    "    P = np.array(history[\"x\"])\n",
    "    fig = plt.figure(figsize=(7, 6))\n",
    "    ax = fig.add_subplot(111, projection=\"3d\")\n",
    "    ax.set_xlabel(\"x1\")\n",
    "    ax.set_ylabel(\"x2\")\n",
    "    ax.set_zlabel(\"x3\")\n",
    "\n",
    "    pad = 0.15\n",
    "    ax.set_xlim(P[:, 0].min() - pad, P[:, 0].max() + pad)\n",
    "    ax.set_ylim(P[:, 1].min() - pad, P[:, 1].max() + pad)\n",
    "    ax.set_zlim(P[:, 2].min() - pad, P[:, 2].max() + pad)\n",
    "\n",
    "    line, = ax.plot([], [], [], lw=2, c=\"tab:blue\")\n",
    "    point, = ax.plot([], [], [], \"o\", c=\"tab:red\")\n",
    "\n",
    "    def init():\n",
    "        line.set_data([], [])\n",
    "        line.set_3d_properties([])\n",
    "        point.set_data([], [])\n",
    "        point.set_3d_properties([])\n",
    "        return line, point\n",
    "\n",
    "    def update(i):\n",
    "        line.set_data(P[: i + 1, 0], P[: i + 1, 1])\n",
    "        line.set_3d_properties(P[: i + 1, 2])\n",
    "        point.set_data(P[i, 0:1], P[i, 1:2])\n",
    "        point.set_3d_properties(P[i, 2:3])\n",
    "        return line, point\n",
    "\n",
    "    ani = animation.FuncAnimation(\n",
    "        fig,\n",
    "        update,\n",
    "        init_func=init,\n",
    "        frames=len(P),\n",
    "        interval=int(1000 / fps),\n",
    "        blit=True,\n",
    "    )\n",
    "    ani.save(filename, writer=\"ffmpeg\", fps=fps)\n",
    "    plt.close(fig)\n",
    "    print(f\"Saved 3D trajectory video to {filename}\")\n",
    "\n"
   ]
  },
  {
   "cell_type": "markdown",
   "id": "95688f6e",
   "metadata": {},
   "source": [
    "### Візуалізації для простого правила\n",
    "Виводимо тривимірні візуалізації та метрики після першого запуску.\n"
   ]
  },
  {
   "cell_type": "code",
   "execution_count": 162,
   "id": "f3c9333f",
   "metadata": {},
   "outputs": [
    {
     "data": {
      "application/vnd.jupyter.widget-view+json": {
       "model_id": "ec419e94a8c64aa2b25c158c82a01142",
       "version_major": 2,
       "version_minor": 0
      },
      "text/plain": [
       "HBox(children=(FloatSlider(value=204.6835585172845, description='F =', max=386.58344689712624, min=22.78367013…"
      ]
     },
     "metadata": {},
     "output_type": "display_data"
    },
    {
     "data": {
      "application/vnd.jupyter.widget-view+json": {
       "model_id": "1c63c760f9ef4d779e411f1e531f424c",
       "version_major": 2,
       "version_minor": 0
      },
      "text/plain": [
       "FigureWidget({\n",
       "    'data': [{'caps': {'x': {'show': False}, 'y': {'show': False}, 'z': {'show': False}},\n",
       "              'colorbar': {'len': 0.6, 'thickness': 14, 'tickfont': {'size': 10}, 'title': {'text': 'f'}, 'x': 1.02},\n",
       "              'colorscale': [[0.0, '#440154'], [0.1111111111111111, '#482878'],\n",
       "                             [0.2222222222222222, '#3e4989'], [0.3333333333333333,\n",
       "                             '#31688e'], [0.4444444444444444, '#26828e'],\n",
       "                             [0.5555555555555556, '#1f9e89'], [0.6666666666666666,\n",
       "                             '#35b779'], [0.7777777777777778, '#6ece58'],\n",
       "                             [0.8888888888888888, '#b5de2b'], [1.0, '#fde725']],\n",
       "              'isomax': 204.6835585172845,\n",
       "              'isomin': 204.6835585172845,\n",
       "              'opacity': 0.45,\n",
       "              'showscale': True,\n",
       "              'surface': {'count': 1},\n",
       "              'type': 'isosurface',\n",
       "              'uid': '40ab00d5-66b0-4f10-9bab-97435cc73a56',\n",
       "              'value': {'bdata': ('1qNwPQpne0ABcsauTHR6QK45+hmdjH' ... 'mdjHlA/3HGrkx0ekDWo3A9Cmd7QA=='),\n",
       "                        'dtype': 'f8'},\n",
       "              'x': {'bdata': ('MzMzMzMz878zMzMzMzPzvzMzMzMzM/' ... 'MzM/M/MzMzMzMz8z8zMzMzMzPzPw=='),\n",
       "                    'dtype': 'f8'},\n",
       "              'y': {'bdata': ('MzMzMzMz878zMzMzMzPzvzMzMzMzM/' ... 'MzM/M/MzMzMzMz8z8zMzMzMzPzPw=='),\n",
       "                    'dtype': 'f8'},\n",
       "              'z': {'bdata': ('MzMzMzMz87/ObyFglGryv2isD431of' ... '31ofE/zW8hYJRq8j8zMzMzMzPzPw=='),\n",
       "                    'dtype': 'f8'}},\n",
       "             {'customdata': {'bdata': ('AAABAAIAAwAEAAUABgAHAAgACQAKAA' ... '8BsAGxAbIBswG0AbUBtgG3AbgBuQE='),\n",
       "                             'dtype': 'i2'},\n",
       "              'hovertemplate': 'iter=%{customdata}<br>x1=%{x:.3f}, x2=%{y:.3f}, x3=%{z:.3f}<extra></extra>',\n",
       "              'line': {'width': 4},\n",
       "              'marker': {'size': 4},\n",
       "              'mode': 'lines+markers',\n",
       "              'name': 'Path',\n",
       "              'type': 'scatter3d',\n",
       "              'uid': '7f460dfd-a556-4b29-b2fa-41613887665b',\n",
       "              'x': {'bdata': ('AAAAAAAA8D8AAAAAAADSvwAAAAAACM' ... 'd5qicmPvrOypYa8UA+zB/zA3AoMj4='),\n",
       "                    'dtype': 'f8'},\n",
       "              'y': {'bdata': ('AAAAAAAA8D8AAAAAAMDuPwAAAACAzO' ... '4DIcR+Prfgghxc0X0+oIwTtRQWfT4='),\n",
       "                    'dtype': 'f8'},\n",
       "              'z': {'bdata': ('AAAAAAAA8D8AAAAAAACgvwAAAAAAyM' ... '65ixdAvstrzU1LBkS+QXRirwavQL4='),\n",
       "                    'dtype': 'f8'}}],\n",
       "    'layout': {'height': 650,\n",
       "               'margin': {'b': 0, 'l': 0, 'r': 80, 't': 40},\n",
       "               'scene': {'xaxis': {'title': {'text': 'x1'}},\n",
       "                         'yaxis': {'title': {'text': 'x2'}},\n",
       "                         'zaxis': {'title': {'text': 'x3'}}},\n",
       "               'template': '...',\n",
       "               'title': {'text': 'Isosurface: F = 204.68'}}\n",
       "})"
      ]
     },
     "metadata": {},
     "output_type": "display_data"
    },
    {
     "data": {
      "application/vnd.plotly.v1+json": {
       "config": {
        "plotlyServerURL": "https://plot.ly"
       },
       "data": [
        {
         "mode": "lines+markers",
         "name": "f",
         "type": "scatter",
         "xaxis": "x",
         "y": {
          "bdata": "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",
          "dtype": "f8"
         },
         "yaxis": "y"
        },
        {
         "mode": "lines+markers",
         "name": "t",
         "type": "scatter",
         "xaxis": "x2",
         "y": {
          "bdata": "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",
          "dtype": "f8"
         },
         "yaxis": "y2"
        },
        {
         "mode": "lines+markers",
         "name": "||grad||",
         "type": "scatter",
         "xaxis": "x3",
         "y": {
          "bdata": "Nt1JDKRSekC+e4jJHjhhQP8Fh/ex11VAt8wk6P4XTEB/2ZtOCiZCQImYFe6/rTdAPdeJt/mKL0ChswMLdt8lQJuDHUS+MyBAKc4CJ1ZmLUBsnwQWrUUkQCkSR2bgxx1AOqSNIRlqK0DaMD2skM0iQPlciafPZRtA7WBRkOWSKUBDmiPt93MhQAQ3AigPOxlAmzIHfY7BE0ADvPBTDjYgQHIHX0QNQhdAdp6IkJQKEkBlrFH4lCIeQFK71uDPdRVADtXl7RB+EEARW/vKywYcQH4OiUjk0RNA3o0BaD0vDkC72Fs6qxQaQLik3LVQUhJAYi/Nhp+mC0A8u9Fqh0gYQMeFY1mH8xBAcNWcsUBbCUAHjNHqEp8WQENte3K1ZA9Al6DB3NdGB0CfFuFdVBUVQAHxsI3mFw1Ap38tg8ZjBUAU3VFPnagTQPukrhiM+wpACu1xvgatA0B5DgYNglYSQDfO9KsYCwlATru6NBseAkD9JVxLIGf8PziHBH14QgdA5sZwrACzAEB7/0YXQe/5P6Ww4g8EngVAfK/vNELQ/j8Hdm+BjbT3P6YEVFh0GgRALNNQCZB0/D/WGv2psLD1P2F9niXYtAJAd9SPLDBN+j8e4kzJAN7zP2jsC7eKagFAGnbMjwNV+D+YDYVUbTfyPwgCiForOQBA1s92/nWH9j8kIf/4brjwP8H3F/MrPf4/ww/jHG/g9D8IbHx68rnuP5u4SPa4Mfw/J8eB+URc8z/NzAw320LsP+FvgMiBTPo/Y3zmCLD38T80OO7dHwXqP5tFEvTTauQ/d+ahaMCv8D/jRqQg+PrnPyhvVwQPpOI/lJzDkKgD7z9Y188GOR/mP82LHKZZCeE/pSCttx7X7D+yQAIzRG3kPyPaKiJILN8/XoE3dabV6j/YLTLg+ODiPxiKh3mzjNw/zca0K3H76D+Bx7prpnbhPw0jywepLNo/BJoyWxJF5z+t4G1EACvgP2q2KzaiBdg/2vl243Sv5T91maU2JvbdP7IuM27JEdY/eNMVedE35D9N8n1sdsjbPwwgYYbnS9Q/qYLKLKbb4j/kkjePN8jZP9W2bxZTr9I/E2X8Qq1azT/9NetiLvHXP579AoHhN9E/VXqxUA/Myj8rmc84kD/WP805Dgyzw88/kctFrup8yD8GIFqa9q/UP42ewGvOU80/i5WLq6xmxj/d0yhLVD/TP2CYuUMiGss/SaFoKXSDxD86bMV+6+rRP3xMSFRdEck/6erfEv/Nwj/k04oiRbDQP5CabJm+NMc/6SjVvplBwT/cq809UhrPP7ap97cFgMU/vAmqDiC0vz9u9cLrLv/MP83K+wtl78M/NIp+0T8nvT8kyZROhAvLP8ZPRC91f8I/cuxYANvVuj8pPIvYChq1PwK9kdIpLcE/OjO3ifC5uD+qdg3v5EKzP/jyy4+P678/2HPTuCLOtj+yB2xod5mxPzkisD64rb0/5CUw2qUNtT+7tLD0BRmwP6AafXVonLs/dIQAqTB0sz9xE0NaqHqtP3HPHX6ts7k/QdKlV+79sT9ATDl4MAWrP1oARZn677c/yzpMCnKnsD/QWxXK3cqoP25zXNMdTrY/Tt7dPVfbrj8AJ/+OocWmP8lQUBg2y7Q/FQ6KQ7ubrD/S5Ul5EfCkP+i5N2SqZLM/rxrBoCiLqj/Sq0FjVkWjPzokNK7IVp4/0BFdITulqD9MScHJHMGhP9cqOfSTsJs/a7IvhwPmpj9UVhXehl+gP92cxJ48TJk/lp6XuvpJpT9ehoMLQDqeP3OsUNXvIpc/942SXvbNoz84U3RGo+2bPzeoqQeTLpU/0oElpB5voj/IryENstOZPwgO7rSwaZM/z01KPOUqoT9IdjbRfOeXPxX/3C1nz5E/kW42lfr9nz/k7TKsmSSWPwu1Px1ZW5A/SZR3e6jSnT/SDz/mFYeUP6a6BU4/E44/PCcS6hbQmz8R17gCaQuTP2Pig+d7rYs/YPJzlWrPhT+iSeUraa6RP2ntSwYsf4k/rXSLFUjngz9nbd7aQG2QP6xNLUe9goc//Txt6pYugj88Mkc4y4qOP50lyOI0s4U/cpBEjGyggD8JPEioH2mMP0CnlIUfDIQ/jp6sZcZwfj+dnobTZnGKP1npFdKCiYI/LF03+hflez/g3HZ+8p+IP09ktWLQJ4E/KVmuDMWWeT+O1efHcvGGPwDtXUq0x38/z9OXhIN/dz9Nv7vX62KFP03CrtqPdX0/yZ7T/LOZdT+H73q1rPGDP0AR5EAcVHs/7V/30k/gcz964r5ewltvP5sInbrKXnk/KtpyDdlOcj9xIiOwFp1sPyaWIxCGkXc/NW0v6EvhcD82jA63wyJqP4AD3UWl6HU/hKNFuSMobz+naPoDtOVnP7XFXr7fYHQ/iQPu/evHbD9LIq1nkd9lP4vxvqdC93I/TiUOHDWcaj92u3EBsQpkP1HVK5InqXE/XMAhL9+faD/yielbAWJiP4bj+RAsdHA/Bj1XKlXOZj9LTTNh+uBgP3OgaZRUrG4/A/LB0n0jZT81X0XqHQdfPxmtwbZkmmw/DZN7Ta6bYz+MDEYTQIxcP02OVaYsi1Y/roO4GZ4zYj/4z1oM4kpaP8CpgxZskVQ/AjWsUlzoYD9uvAK/Oj1YP33wiIrmyFI/BXMNMYxuXz9bcTiBHl5WPzv5LIKBLFE/bDPHBfw7XT9AtJBS7qhUP5DYoINYb08/7yuDA8k0Wz8npSzTiBlTP0KZ1OmizEw/afotKSJVWT8OAF/IPKxRPzZgzpeUaUo/YyawgpiZVz9RRH4HvV1QPy8zKtulP0g/xKCobhT/VT/RHtNGK1ZOP7/uMTEASUY/5T5kF8yCVD9EwKp5RCNMPzTik6prgEQ/mM8X/joiUz+I5TGxCh5KP5MciTc+4UI/+ZpF3eGRPT9bMvdDQUJIP7aHOqpMZ0E/x708v8IAOz/4uvECHIxGP+3urkLdDkA//ffuODWvOD8zW0zlMvhEP9SGzTg3qT0/zwkiOaWWNj+OqL4Ld4NDP8z8J7Qbazs/CBKBeDCxND8yH1H4KCtCP7USR98VXjk/T7+u6pP5Mj8lHanaz+xAPwt0QNxjfTc/YYWRGBtrMT9sbN6nY4w/P4eDxm/ExDU/OPaoMJEBMD/pgTAwmmo9P9N+LwxpMDQ/LPGeP2dyLT/BVKypo3A7P1bDtVXpvDI/hbGQE0wdKz/wwkx8hkElP403hfo3ZzE/f/LY+s79KD8wMvBflmgjP+IouLyYLDA/4kt3iJEOJz9Aav8LcL0hP33hJB8vFS4/ygAyYcdKJT/z5GgwVjsgP2oKRlgB/is/gfAhoiauIz/CytoeF7wdP8D4DAizDyo/DnWC49k0Ij9XJI0/i0MbPxcctfa0Rig/Sx7CrnPbID+VR34eQQYZPxXOJqrSnyY/Jr0RhsY9Hz+seK4BKf4WP9VMrH0oGCU/6ag7DtX4HD+elSjL1yUVP5ltitYarSM/Bge3FSrjGj/Zy2eldXgTP06UtZhCjw4/CXCJ+l/4GD8JIlt2rvERP1btYPp+5gs/TRO5/YU0Fz/R2JHqo40QP5Z46q6xfwk/4Z1adBOUFT/25VHewZEOP5BwQmoGVAc/MtfuXNwTFD/KUBLrnEAMP63qE2RhXQU/bDq1NAexEj/yEei/UiIKP948lxZMlgM/2jL06wNpET9SL6vy8jEIP1jhM/nj+QE//8dG24M5ED9pCLa7EmsGP31HwgHLgwA/X9SXPeVADj/yIPl4vskEP5h8EHozYP4+30hJfd83DD9N0gi4bEoDP04kcail9vs+nwZhz8739T5NImOg8ukBP4S2urOvxPk+0ScvS9gN9D7LK96aeaUAPwQyYXm+xPc+pZtk+WRT8j7xDPYs7PT+PtExF4XW8fU+dwiyRInD8D7ejZqbPs38PgWvnOGDR/Q+tIenBL2z7j6t5KHlz8/6Pv1g7pTLwfI+81OhJ+ok7D4/j+VS7/j4Pog+Rp0eXfE+W74d7Y/T6T5BYYN2SkX3PnbawkhOFvA+tUnSNWO55z593YXh4rH1Pi2Q0YoD1e0+0lE2wcPQ5T7VOnX9BDz0PtoUMZVZrus+TTstNKoU5D7inWzeiJXfPoAFKoAOtOk+vAhP95eA4j7g1WU+QNTcPiT/wJIL4uc+M2eJvIgQ4T5y8GPvaVfaPg+rLD2mNOY+sQsqAsuB3z5fOv/67hfYPq/YDjyUqOQ+CTjCyvEc3T5kmjHpdw/WPneOlQfhOuM+AzBhccns2j7PIinGWDjUPjYYX2zk6OE+4o2AMzHs2D66Kjc3f43SPh5vJS86sOA+mhbzIZMW1z6PPppnYgrRPvI8Mj51Hd8++tX+FtVn1T6n98Y36VXPPljw8/rnBN0+ixSxQUvc0z5UazGALNfMPkRGkKl+tMY+VHNHHqxw0j5inQOTFJLKPsL8XwfguMQ+QTJhtwUi0T6qSquS14DIPn+1gcOO7sI+1icvHmjbzz5eKosiSZ7GPp2XRkJvUME+XBtZJLGizT6uYIKcyeXEPqDK67Lfs78+KziC9KSVyz40nYIBN1PDPhjyjdn0Db0+i/AHDXCwyT7T1Ah53+LBPlCCMwzPp7o+sHYe6aDvxz52PuE3dZHAPtj3NIPlerg+ZS1+Sh1Qxj6xk0xVB7i+Pg//otRggbY+rqpsWX/nsT4mt+uHy3+8Pk2r/04ItrQ+CxZ40oNSsD4=",
          "dtype": "f8"
         },
         "yaxis": "y3"
        }
       ],
       "layout": {
        "annotations": [
         {
          "font": {
           "size": 16
          },
          "showarrow": false,
          "text": "f(x_k)",
          "x": 0.225,
          "xanchor": "center",
          "xref": "paper",
          "y": 1,
          "yanchor": "bottom",
          "yref": "paper"
         },
         {
          "font": {
           "size": 16
          },
          "showarrow": false,
          "text": "step size t_k",
          "x": 0.775,
          "xanchor": "center",
          "xref": "paper",
          "y": 1,
          "yanchor": "bottom",
          "yref": "paper"
         },
         {
          "font": {
           "size": 16
          },
          "showarrow": false,
          "text": "||grad f(x_k)||",
          "x": 0.225,
          "xanchor": "center",
          "xref": "paper",
          "y": 0.375,
          "yanchor": "bottom",
          "yref": "paper"
         }
        ],
        "height": 700,
        "template": {
         "data": {
          "bar": [
           {
            "error_x": {
             "color": "#2a3f5f"
            },
            "error_y": {
             "color": "#2a3f5f"
            },
            "marker": {
             "line": {
              "color": "#E5ECF6",
              "width": 0.5
             },
             "pattern": {
              "fillmode": "overlay",
              "size": 10,
              "solidity": 0.2
             }
            },
            "type": "bar"
           }
          ],
          "barpolar": [
           {
            "marker": {
             "line": {
              "color": "#E5ECF6",
              "width": 0.5
             },
             "pattern": {
              "fillmode": "overlay",
              "size": 10,
              "solidity": 0.2
             }
            },
            "type": "barpolar"
           }
          ],
          "carpet": [
           {
            "aaxis": {
             "endlinecolor": "#2a3f5f",
             "gridcolor": "white",
             "linecolor": "white",
             "minorgridcolor": "white",
             "startlinecolor": "#2a3f5f"
            },
            "baxis": {
             "endlinecolor": "#2a3f5f",
             "gridcolor": "white",
             "linecolor": "white",
             "minorgridcolor": "white",
             "startlinecolor": "#2a3f5f"
            },
            "type": "carpet"
           }
          ],
          "choropleth": [
           {
            "colorbar": {
             "outlinewidth": 0,
             "ticks": ""
            },
            "type": "choropleth"
           }
          ],
          "contour": [
           {
            "colorbar": {
             "outlinewidth": 0,
             "ticks": ""
            },
            "colorscale": [
             [
              0,
              "#0d0887"
             ],
             [
              0.1111111111111111,
              "#46039f"
             ],
             [
              0.2222222222222222,
              "#7201a8"
             ],
             [
              0.3333333333333333,
              "#9c179e"
             ],
             [
              0.4444444444444444,
              "#bd3786"
             ],
             [
              0.5555555555555556,
              "#d8576b"
             ],
             [
              0.6666666666666666,
              "#ed7953"
             ],
             [
              0.7777777777777778,
              "#fb9f3a"
             ],
             [
              0.8888888888888888,
              "#fdca26"
             ],
             [
              1,
              "#f0f921"
             ]
            ],
            "type": "contour"
           }
          ],
          "contourcarpet": [
           {
            "colorbar": {
             "outlinewidth": 0,
             "ticks": ""
            },
            "type": "contourcarpet"
           }
          ],
          "heatmap": [
           {
            "colorbar": {
             "outlinewidth": 0,
             "ticks": ""
            },
            "colorscale": [
             [
              0,
              "#0d0887"
             ],
             [
              0.1111111111111111,
              "#46039f"
             ],
             [
              0.2222222222222222,
              "#7201a8"
             ],
             [
              0.3333333333333333,
              "#9c179e"
             ],
             [
              0.4444444444444444,
              "#bd3786"
             ],
             [
              0.5555555555555556,
              "#d8576b"
             ],
             [
              0.6666666666666666,
              "#ed7953"
             ],
             [
              0.7777777777777778,
              "#fb9f3a"
             ],
             [
              0.8888888888888888,
              "#fdca26"
             ],
             [
              1,
              "#f0f921"
             ]
            ],
            "type": "heatmap"
           }
          ],
          "histogram": [
           {
            "marker": {
             "pattern": {
              "fillmode": "overlay",
              "size": 10,
              "solidity": 0.2
             }
            },
            "type": "histogram"
           }
          ],
          "histogram2d": [
           {
            "colorbar": {
             "outlinewidth": 0,
             "ticks": ""
            },
            "colorscale": [
             [
              0,
              "#0d0887"
             ],
             [
              0.1111111111111111,
              "#46039f"
             ],
             [
              0.2222222222222222,
              "#7201a8"
             ],
             [
              0.3333333333333333,
              "#9c179e"
             ],
             [
              0.4444444444444444,
              "#bd3786"
             ],
             [
              0.5555555555555556,
              "#d8576b"
             ],
             [
              0.6666666666666666,
              "#ed7953"
             ],
             [
              0.7777777777777778,
              "#fb9f3a"
             ],
             [
              0.8888888888888888,
              "#fdca26"
             ],
             [
              1,
              "#f0f921"
             ]
            ],
            "type": "histogram2d"
           }
          ],
          "histogram2dcontour": [
           {
            "colorbar": {
             "outlinewidth": 0,
             "ticks": ""
            },
            "colorscale": [
             [
              0,
              "#0d0887"
             ],
             [
              0.1111111111111111,
              "#46039f"
             ],
             [
              0.2222222222222222,
              "#7201a8"
             ],
             [
              0.3333333333333333,
              "#9c179e"
             ],
             [
              0.4444444444444444,
              "#bd3786"
             ],
             [
              0.5555555555555556,
              "#d8576b"
             ],
             [
              0.6666666666666666,
              "#ed7953"
             ],
             [
              0.7777777777777778,
              "#fb9f3a"
             ],
             [
              0.8888888888888888,
              "#fdca26"
             ],
             [
              1,
              "#f0f921"
             ]
            ],
            "type": "histogram2dcontour"
           }
          ],
          "mesh3d": [
           {
            "colorbar": {
             "outlinewidth": 0,
             "ticks": ""
            },
            "type": "mesh3d"
           }
          ],
          "parcoords": [
           {
            "line": {
             "colorbar": {
              "outlinewidth": 0,
              "ticks": ""
             }
            },
            "type": "parcoords"
           }
          ],
          "pie": [
           {
            "automargin": true,
            "type": "pie"
           }
          ],
          "scatter": [
           {
            "fillpattern": {
             "fillmode": "overlay",
             "size": 10,
             "solidity": 0.2
            },
            "type": "scatter"
           }
          ],
          "scatter3d": [
           {
            "line": {
             "colorbar": {
              "outlinewidth": 0,
              "ticks": ""
             }
            },
            "marker": {
             "colorbar": {
              "outlinewidth": 0,
              "ticks": ""
             }
            },
            "type": "scatter3d"
           }
          ],
          "scattercarpet": [
           {
            "marker": {
             "colorbar": {
              "outlinewidth": 0,
              "ticks": ""
             }
            },
            "type": "scattercarpet"
           }
          ],
          "scattergeo": [
           {
            "marker": {
             "colorbar": {
              "outlinewidth": 0,
              "ticks": ""
             }
            },
            "type": "scattergeo"
           }
          ],
          "scattergl": [
           {
            "marker": {
             "colorbar": {
              "outlinewidth": 0,
              "ticks": ""
             }
            },
            "type": "scattergl"
           }
          ],
          "scattermap": [
           {
            "marker": {
             "colorbar": {
              "outlinewidth": 0,
              "ticks": ""
             }
            },
            "type": "scattermap"
           }
          ],
          "scattermapbox": [
           {
            "marker": {
             "colorbar": {
              "outlinewidth": 0,
              "ticks": ""
             }
            },
            "type": "scattermapbox"
           }
          ],
          "scatterpolar": [
           {
            "marker": {
             "colorbar": {
              "outlinewidth": 0,
              "ticks": ""
             }
            },
            "type": "scatterpolar"
           }
          ],
          "scatterpolargl": [
           {
            "marker": {
             "colorbar": {
              "outlinewidth": 0,
              "ticks": ""
             }
            },
            "type": "scatterpolargl"
           }
          ],
          "scatterternary": [
           {
            "marker": {
             "colorbar": {
              "outlinewidth": 0,
              "ticks": ""
             }
            },
            "type": "scatterternary"
           }
          ],
          "surface": [
           {
            "colorbar": {
             "outlinewidth": 0,
             "ticks": ""
            },
            "colorscale": [
             [
              0,
              "#0d0887"
             ],
             [
              0.1111111111111111,
              "#46039f"
             ],
             [
              0.2222222222222222,
              "#7201a8"
             ],
             [
              0.3333333333333333,
              "#9c179e"
             ],
             [
              0.4444444444444444,
              "#bd3786"
             ],
             [
              0.5555555555555556,
              "#d8576b"
             ],
             [
              0.6666666666666666,
              "#ed7953"
             ],
             [
              0.7777777777777778,
              "#fb9f3a"
             ],
             [
              0.8888888888888888,
              "#fdca26"
             ],
             [
              1,
              "#f0f921"
             ]
            ],
            "type": "surface"
           }
          ],
          "table": [
           {
            "cells": {
             "fill": {
              "color": "#EBF0F8"
             },
             "line": {
              "color": "white"
             }
            },
            "header": {
             "fill": {
              "color": "#C8D4E3"
             },
             "line": {
              "color": "white"
             }
            },
            "type": "table"
           }
          ]
         },
         "layout": {
          "annotationdefaults": {
           "arrowcolor": "#2a3f5f",
           "arrowhead": 0,
           "arrowwidth": 1
          },
          "autotypenumbers": "strict",
          "coloraxis": {
           "colorbar": {
            "outlinewidth": 0,
            "ticks": ""
           }
          },
          "colorscale": {
           "diverging": [
            [
             0,
             "#8e0152"
            ],
            [
             0.1,
             "#c51b7d"
            ],
            [
             0.2,
             "#de77ae"
            ],
            [
             0.3,
             "#f1b6da"
            ],
            [
             0.4,
             "#fde0ef"
            ],
            [
             0.5,
             "#f7f7f7"
            ],
            [
             0.6,
             "#e6f5d0"
            ],
            [
             0.7,
             "#b8e186"
            ],
            [
             0.8,
             "#7fbc41"
            ],
            [
             0.9,
             "#4d9221"
            ],
            [
             1,
             "#276419"
            ]
           ],
           "sequential": [
            [
             0,
             "#0d0887"
            ],
            [
             0.1111111111111111,
             "#46039f"
            ],
            [
             0.2222222222222222,
             "#7201a8"
            ],
            [
             0.3333333333333333,
             "#9c179e"
            ],
            [
             0.4444444444444444,
             "#bd3786"
            ],
            [
             0.5555555555555556,
             "#d8576b"
            ],
            [
             0.6666666666666666,
             "#ed7953"
            ],
            [
             0.7777777777777778,
             "#fb9f3a"
            ],
            [
             0.8888888888888888,
             "#fdca26"
            ],
            [
             1,
             "#f0f921"
            ]
           ],
           "sequentialminus": [
            [
             0,
             "#0d0887"
            ],
            [
             0.1111111111111111,
             "#46039f"
            ],
            [
             0.2222222222222222,
             "#7201a8"
            ],
            [
             0.3333333333333333,
             "#9c179e"
            ],
            [
             0.4444444444444444,
             "#bd3786"
            ],
            [
             0.5555555555555556,
             "#d8576b"
            ],
            [
             0.6666666666666666,
             "#ed7953"
            ],
            [
             0.7777777777777778,
             "#fb9f3a"
            ],
            [
             0.8888888888888888,
             "#fdca26"
            ],
            [
             1,
             "#f0f921"
            ]
           ]
          },
          "colorway": [
           "#636efa",
           "#EF553B",
           "#00cc96",
           "#ab63fa",
           "#FFA15A",
           "#19d3f3",
           "#FF6692",
           "#B6E880",
           "#FF97FF",
           "#FECB52"
          ],
          "font": {
           "color": "#2a3f5f"
          },
          "geo": {
           "bgcolor": "white",
           "lakecolor": "white",
           "landcolor": "#E5ECF6",
           "showlakes": true,
           "showland": true,
           "subunitcolor": "white"
          },
          "hoverlabel": {
           "align": "left"
          },
          "hovermode": "closest",
          "mapbox": {
           "style": "light"
          },
          "paper_bgcolor": "white",
          "plot_bgcolor": "#E5ECF6",
          "polar": {
           "angularaxis": {
            "gridcolor": "white",
            "linecolor": "white",
            "ticks": ""
           },
           "bgcolor": "#E5ECF6",
           "radialaxis": {
            "gridcolor": "white",
            "linecolor": "white",
            "ticks": ""
           }
          },
          "scene": {
           "xaxis": {
            "backgroundcolor": "#E5ECF6",
            "gridcolor": "white",
            "gridwidth": 2,
            "linecolor": "white",
            "showbackground": true,
            "ticks": "",
            "zerolinecolor": "white"
           },
           "yaxis": {
            "backgroundcolor": "#E5ECF6",
            "gridcolor": "white",
            "gridwidth": 2,
            "linecolor": "white",
            "showbackground": true,
            "ticks": "",
            "zerolinecolor": "white"
           },
           "zaxis": {
            "backgroundcolor": "#E5ECF6",
            "gridcolor": "white",
            "gridwidth": 2,
            "linecolor": "white",
            "showbackground": true,
            "ticks": "",
            "zerolinecolor": "white"
           }
          },
          "shapedefaults": {
           "line": {
            "color": "#2a3f5f"
           }
          },
          "ternary": {
           "aaxis": {
            "gridcolor": "white",
            "linecolor": "white",
            "ticks": ""
           },
           "baxis": {
            "gridcolor": "white",
            "linecolor": "white",
            "ticks": ""
           },
           "bgcolor": "#E5ECF6",
           "caxis": {
            "gridcolor": "white",
            "linecolor": "white",
            "ticks": ""
           }
          },
          "title": {
           "x": 0.05
          },
          "xaxis": {
           "automargin": true,
           "gridcolor": "white",
           "linecolor": "white",
           "ticks": "",
           "title": {
            "standoff": 15
           },
           "zerolinecolor": "white",
           "zerolinewidth": 2
          },
          "yaxis": {
           "automargin": true,
           "gridcolor": "white",
           "linecolor": "white",
           "ticks": "",
           "title": {
            "standoff": 15
           },
           "zerolinecolor": "white",
           "zerolinewidth": 2
          }
         }
        },
        "title": {
         "text": "Optimization metrics"
        },
        "width": 900,
        "xaxis": {
         "anchor": "y",
         "domain": [
          0,
          0.45
         ],
         "range": [
          0,
          50
         ],
         "title": {
          "text": "iteration"
         }
        },
        "xaxis2": {
         "anchor": "y2",
         "domain": [
          0.55,
          1
         ],
         "range": [
          0,
          50
         ],
         "title": {
          "text": "iteration"
         }
        },
        "xaxis3": {
         "anchor": "y3",
         "domain": [
          0,
          0.45
         ],
         "range": [
          0,
          50
         ],
         "title": {
          "text": "iteration"
         }
        },
        "yaxis": {
         "anchor": "x",
         "domain": [
          0.625,
          1
         ],
         "title": {
          "text": "f"
         },
         "type": "log"
        },
        "yaxis2": {
         "anchor": "x2",
         "domain": [
          0.625,
          1
         ],
         "title": {
          "text": "t"
         }
        },
        "yaxis3": {
         "anchor": "x3",
         "domain": [
          0,
          0.375
         ],
         "title": {
          "text": "||grad f||"
         },
         "type": "log"
        }
       }
      }
     },
     "metadata": {},
     "output_type": "display_data"
    },
    {
     "name": "stdout",
     "output_type": "stream",
     "text": [
      "Saved 3D trajectory video to opt_path_simple.mp4\n"
     ]
    }
   ],
   "source": [
    "show_isosurface_with_path(f, history, grid_range=(-1.2, 1.2), vol_n=50)\n",
    "plot_metrics(history, log_f=True, log_grad=True)\n",
    "save_video_xyz(history, filename=\"opt_path_simple.mp4\", fps=8)\n",
    "\n"
   ]
  },
  {
   "cell_type": "markdown",
   "id": "d08cbf91",
   "metadata": {},
   "source": [
    "### Другий запуск з умовою Ґольдштейна\n",
    "Повторюємо оптимізацію з іншої стартової точки та іншим правилом пошуку кроку.\n"
   ]
  },
  {
   "cell_type": "code",
   "execution_count": 163,
   "id": "d566f968",
   "metadata": {},
   "outputs": [
    {
     "name": "stdout",
     "output_type": "stream",
     "text": [
      "Found minimum at x = [ 5.44330791e-09  1.19394576e-07 -8.86080872e-09], f = 5.00000000000005, iters = 217\n"
     ]
    }
   ],
   "source": [
    "x0 = np.array([1, 1, 1.0])\n",
    "\n",
    "# Запускаємо градієнтний спуск із умовою Ґольдштейна\n",
    "x_min, history = gd_back_tracking(\n",
    "    f,\n",
    "    grad_f,\n",
    "    x0,\n",
    "    goldstein_cond,\n",
    "    max_iters=500,\n",
    "    tol=1e-6,\n",
    "    c=0.7,\n",
    ")\n",
    "print(f\"Found minimum at x = {x_min}, f = {f(x_min)}, iters = {len(history['f'])-1}\")\n",
    "\n"
   ]
  },
  {
   "cell_type": "markdown",
   "id": "8001335b",
   "metadata": {},
   "source": [
    "### Візуалізації для Ґольдштейна\n",
    "Порівнюємо результати другого запуску на ізоповерхні та графіках.\n"
   ]
  },
  {
   "cell_type": "code",
   "execution_count": 164,
   "id": "09bba39e",
   "metadata": {},
   "outputs": [
    {
     "data": {
      "application/vnd.jupyter.widget-view+json": {
       "model_id": "d1c658e7fc3c469c873174407158dec7",
       "version_major": 2,
       "version_minor": 0
      },
      "text/plain": [
       "HBox(children=(FloatSlider(value=204.6835585172845, description='F =', max=386.58344689712624, min=22.78367013…"
      ]
     },
     "metadata": {},
     "output_type": "display_data"
    },
    {
     "data": {
      "application/vnd.jupyter.widget-view+json": {
       "model_id": "b36b350c8677447f84ef96f59557f50d",
       "version_major": 2,
       "version_minor": 0
      },
      "text/plain": [
       "FigureWidget({\n",
       "    'data': [{'caps': {'x': {'show': False}, 'y': {'show': False}, 'z': {'show': False}},\n",
       "              'colorbar': {'len': 0.6, 'thickness': 14, 'tickfont': {'size': 10}, 'title': {'text': 'f'}, 'x': 1.02},\n",
       "              'colorscale': [[0.0, '#440154'], [0.1111111111111111, '#482878'],\n",
       "                             [0.2222222222222222, '#3e4989'], [0.3333333333333333,\n",
       "                             '#31688e'], [0.4444444444444444, '#26828e'],\n",
       "                             [0.5555555555555556, '#1f9e89'], [0.6666666666666666,\n",
       "                             '#35b779'], [0.7777777777777778, '#6ece58'],\n",
       "                             [0.8888888888888888, '#b5de2b'], [1.0, '#fde725']],\n",
       "              'isomax': 204.6835585172845,\n",
       "              'isomin': 204.6835585172845,\n",
       "              'opacity': 0.45,\n",
       "              'showscale': True,\n",
       "              'surface': {'count': 1},\n",
       "              'type': 'isosurface',\n",
       "              'uid': '909ec3bc-1a41-4b8f-9270-61e7434d258f',\n",
       "              'value': {'bdata': ('1qNwPQpne0ABcsauTHR6QK45+hmdjH' ... 'mdjHlA/3HGrkx0ekDWo3A9Cmd7QA=='),\n",
       "                        'dtype': 'f8'},\n",
       "              'x': {'bdata': ('MzMzMzMz878zMzMzMzPzvzMzMzMzM/' ... 'MzM/M/MzMzMzMz8z8zMzMzMzPzPw=='),\n",
       "                    'dtype': 'f8'},\n",
       "              'y': {'bdata': ('MzMzMzMz878zMzMzMzPzvzMzMzMzM/' ... 'MzM/M/MzMzMzMz8z8zMzMzMzPzPw=='),\n",
       "                    'dtype': 'f8'},\n",
       "              'z': {'bdata': ('MzMzMzMz87/ObyFglGryv2isD431of' ... '31ofE/zW8hYJRq8j8zMzMzMzPzPw=='),\n",
       "                    'dtype': 'f8'}},\n",
       "             {'customdata': {'bdata': ('AAABAAIAAwAEAAUABgAHAAgACQAKAA' ... 'DQANEA0gDTANQA1QDWANcA2ADZAA=='),\n",
       "                             'dtype': 'i2'},\n",
       "              'hovertemplate': 'iter=%{customdata}<br>x1=%{x:.3f}, x2=%{y:.3f}, x3=%{z:.3f}<extra></extra>',\n",
       "              'line': {'width': 4},\n",
       "              'marker': {'size': 4},\n",
       "              'mode': 'lines+markers',\n",
       "              'name': 'Path',\n",
       "              'type': 'scatter3d',\n",
       "              'uid': '8d21ff78-88a2-454c-b03e-b03e16364968',\n",
       "              'x': {'bdata': ('AAAAAAAA8D9mZmZmZmbpvzgK16NwBb' ... 'GHYTc+Z1qRo3IDSD7cBov3+mA3Pg=='),\n",
       "                    'dtype': 'f8'},\n",
       "              'y': {'bdata': ('AAAAAAAA8D8AAAAAAEDuP6RwPQoXsO' ... 'mMrYE+etHmO+VFgD6F+vPMXQaAPg=='),\n",
       "                    'dtype': 'f8'},\n",
       "              'z': {'bdata': ('AAAAAAAA8D9kZmZmZmbcvwrXo3A9rN' ... 'bEh0S+O7ekTTT4R76gSLr2RwdDvg=='),\n",
       "                    'dtype': 'f8'}}],\n",
       "    'layout': {'height': 650,\n",
       "               'margin': {'b': 0, 'l': 0, 'r': 80, 't': 40},\n",
       "               'scene': {'xaxis': {'title': {'text': 'x1'}},\n",
       "                         'yaxis': {'title': {'text': 'x2'}},\n",
       "                         'zaxis': {'title': {'text': 'x3'}}},\n",
       "               'template': '...',\n",
       "               'title': {'text': 'Isosurface: F = 204.68'}}\n",
       "})"
      ]
     },
     "metadata": {},
     "output_type": "display_data"
    },
    {
     "data": {
      "application/vnd.plotly.v1+json": {
       "config": {
        "plotlyServerURL": "https://plot.ly"
       },
       "data": [
        {
         "mode": "lines+markers",
         "name": "f",
         "type": "scatter",
         "xaxis": "x",
         "y": {
          "bdata": "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",
          "dtype": "f8"
         },
         "yaxis": "y"
        },
        {
         "mode": "lines+markers",
         "name": "t",
         "type": "scatter",
         "xaxis": "x2",
         "y": {
          "bdata": "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",
          "dtype": "f8"
         },
         "yaxis": "y2"
        },
        {
         "mode": "lines+markers",
         "name": "||grad||",
         "type": "scatter",
         "xaxis": "x3",
         "y": {
          "bdata": "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",
          "dtype": "f8"
         },
         "yaxis": "y3"
        }
       ],
       "layout": {
        "annotations": [
         {
          "font": {
           "size": 16
          },
          "showarrow": false,
          "text": "f(x_k)",
          "x": 0.225,
          "xanchor": "center",
          "xref": "paper",
          "y": 1,
          "yanchor": "bottom",
          "yref": "paper"
         },
         {
          "font": {
           "size": 16
          },
          "showarrow": false,
          "text": "step size t_k",
          "x": 0.775,
          "xanchor": "center",
          "xref": "paper",
          "y": 1,
          "yanchor": "bottom",
          "yref": "paper"
         },
         {
          "font": {
           "size": 16
          },
          "showarrow": false,
          "text": "||grad f(x_k)||",
          "x": 0.225,
          "xanchor": "center",
          "xref": "paper",
          "y": 0.375,
          "yanchor": "bottom",
          "yref": "paper"
         }
        ],
        "height": 700,
        "template": {
         "data": {
          "bar": [
           {
            "error_x": {
             "color": "#2a3f5f"
            },
            "error_y": {
             "color": "#2a3f5f"
            },
            "marker": {
             "line": {
              "color": "#E5ECF6",
              "width": 0.5
             },
             "pattern": {
              "fillmode": "overlay",
              "size": 10,
              "solidity": 0.2
             }
            },
            "type": "bar"
           }
          ],
          "barpolar": [
           {
            "marker": {
             "line": {
              "color": "#E5ECF6",
              "width": 0.5
             },
             "pattern": {
              "fillmode": "overlay",
              "size": 10,
              "solidity": 0.2
             }
            },
            "type": "barpolar"
           }
          ],
          "carpet": [
           {
            "aaxis": {
             "endlinecolor": "#2a3f5f",
             "gridcolor": "white",
             "linecolor": "white",
             "minorgridcolor": "white",
             "startlinecolor": "#2a3f5f"
            },
            "baxis": {
             "endlinecolor": "#2a3f5f",
             "gridcolor": "white",
             "linecolor": "white",
             "minorgridcolor": "white",
             "startlinecolor": "#2a3f5f"
            },
            "type": "carpet"
           }
          ],
          "choropleth": [
           {
            "colorbar": {
             "outlinewidth": 0,
             "ticks": ""
            },
            "type": "choropleth"
           }
          ],
          "contour": [
           {
            "colorbar": {
             "outlinewidth": 0,
             "ticks": ""
            },
            "colorscale": [
             [
              0,
              "#0d0887"
             ],
             [
              0.1111111111111111,
              "#46039f"
             ],
             [
              0.2222222222222222,
              "#7201a8"
             ],
             [
              0.3333333333333333,
              "#9c179e"
             ],
             [
              0.4444444444444444,
              "#bd3786"
             ],
             [
              0.5555555555555556,
              "#d8576b"
             ],
             [
              0.6666666666666666,
              "#ed7953"
             ],
             [
              0.7777777777777778,
              "#fb9f3a"
             ],
             [
              0.8888888888888888,
              "#fdca26"
             ],
             [
              1,
              "#f0f921"
             ]
            ],
            "type": "contour"
           }
          ],
          "contourcarpet": [
           {
            "colorbar": {
             "outlinewidth": 0,
             "ticks": ""
            },
            "type": "contourcarpet"
           }
          ],
          "heatmap": [
           {
            "colorbar": {
             "outlinewidth": 0,
             "ticks": ""
            },
            "colorscale": [
             [
              0,
              "#0d0887"
             ],
             [
              0.1111111111111111,
              "#46039f"
             ],
             [
              0.2222222222222222,
              "#7201a8"
             ],
             [
              0.3333333333333333,
              "#9c179e"
             ],
             [
              0.4444444444444444,
              "#bd3786"
             ],
             [
              0.5555555555555556,
              "#d8576b"
             ],
             [
              0.6666666666666666,
              "#ed7953"
             ],
             [
              0.7777777777777778,
              "#fb9f3a"
             ],
             [
              0.8888888888888888,
              "#fdca26"
             ],
             [
              1,
              "#f0f921"
             ]
            ],
            "type": "heatmap"
           }
          ],
          "histogram": [
           {
            "marker": {
             "pattern": {
              "fillmode": "overlay",
              "size": 10,
              "solidity": 0.2
             }
            },
            "type": "histogram"
           }
          ],
          "histogram2d": [
           {
            "colorbar": {
             "outlinewidth": 0,
             "ticks": ""
            },
            "colorscale": [
             [
              0,
              "#0d0887"
             ],
             [
              0.1111111111111111,
              "#46039f"
             ],
             [
              0.2222222222222222,
              "#7201a8"
             ],
             [
              0.3333333333333333,
              "#9c179e"
             ],
             [
              0.4444444444444444,
              "#bd3786"
             ],
             [
              0.5555555555555556,
              "#d8576b"
             ],
             [
              0.6666666666666666,
              "#ed7953"
             ],
             [
              0.7777777777777778,
              "#fb9f3a"
             ],
             [
              0.8888888888888888,
              "#fdca26"
             ],
             [
              1,
              "#f0f921"
             ]
            ],
            "type": "histogram2d"
           }
          ],
          "histogram2dcontour": [
           {
            "colorbar": {
             "outlinewidth": 0,
             "ticks": ""
            },
            "colorscale": [
             [
              0,
              "#0d0887"
             ],
             [
              0.1111111111111111,
              "#46039f"
             ],
             [
              0.2222222222222222,
              "#7201a8"
             ],
             [
              0.3333333333333333,
              "#9c179e"
             ],
             [
              0.4444444444444444,
              "#bd3786"
             ],
             [
              0.5555555555555556,
              "#d8576b"
             ],
             [
              0.6666666666666666,
              "#ed7953"
             ],
             [
              0.7777777777777778,
              "#fb9f3a"
             ],
             [
              0.8888888888888888,
              "#fdca26"
             ],
             [
              1,
              "#f0f921"
             ]
            ],
            "type": "histogram2dcontour"
           }
          ],
          "mesh3d": [
           {
            "colorbar": {
             "outlinewidth": 0,
             "ticks": ""
            },
            "type": "mesh3d"
           }
          ],
          "parcoords": [
           {
            "line": {
             "colorbar": {
              "outlinewidth": 0,
              "ticks": ""
             }
            },
            "type": "parcoords"
           }
          ],
          "pie": [
           {
            "automargin": true,
            "type": "pie"
           }
          ],
          "scatter": [
           {
            "fillpattern": {
             "fillmode": "overlay",
             "size": 10,
             "solidity": 0.2
            },
            "type": "scatter"
           }
          ],
          "scatter3d": [
           {
            "line": {
             "colorbar": {
              "outlinewidth": 0,
              "ticks": ""
             }
            },
            "marker": {
             "colorbar": {
              "outlinewidth": 0,
              "ticks": ""
             }
            },
            "type": "scatter3d"
           }
          ],
          "scattercarpet": [
           {
            "marker": {
             "colorbar": {
              "outlinewidth": 0,
              "ticks": ""
             }
            },
            "type": "scattercarpet"
           }
          ],
          "scattergeo": [
           {
            "marker": {
             "colorbar": {
              "outlinewidth": 0,
              "ticks": ""
             }
            },
            "type": "scattergeo"
           }
          ],
          "scattergl": [
           {
            "marker": {
             "colorbar": {
              "outlinewidth": 0,
              "ticks": ""
             }
            },
            "type": "scattergl"
           }
          ],
          "scattermap": [
           {
            "marker": {
             "colorbar": {
              "outlinewidth": 0,
              "ticks": ""
             }
            },
            "type": "scattermap"
           }
          ],
          "scattermapbox": [
           {
            "marker": {
             "colorbar": {
              "outlinewidth": 0,
              "ticks": ""
             }
            },
            "type": "scattermapbox"
           }
          ],
          "scatterpolar": [
           {
            "marker": {
             "colorbar": {
              "outlinewidth": 0,
              "ticks": ""
             }
            },
            "type": "scatterpolar"
           }
          ],
          "scatterpolargl": [
           {
            "marker": {
             "colorbar": {
              "outlinewidth": 0,
              "ticks": ""
             }
            },
            "type": "scatterpolargl"
           }
          ],
          "scatterternary": [
           {
            "marker": {
             "colorbar": {
              "outlinewidth": 0,
              "ticks": ""
             }
            },
            "type": "scatterternary"
           }
          ],
          "surface": [
           {
            "colorbar": {
             "outlinewidth": 0,
             "ticks": ""
            },
            "colorscale": [
             [
              0,
              "#0d0887"
             ],
             [
              0.1111111111111111,
              "#46039f"
             ],
             [
              0.2222222222222222,
              "#7201a8"
             ],
             [
              0.3333333333333333,
              "#9c179e"
             ],
             [
              0.4444444444444444,
              "#bd3786"
             ],
             [
              0.5555555555555556,
              "#d8576b"
             ],
             [
              0.6666666666666666,
              "#ed7953"
             ],
             [
              0.7777777777777778,
              "#fb9f3a"
             ],
             [
              0.8888888888888888,
              "#fdca26"
             ],
             [
              1,
              "#f0f921"
             ]
            ],
            "type": "surface"
           }
          ],
          "table": [
           {
            "cells": {
             "fill": {
              "color": "#EBF0F8"
             },
             "line": {
              "color": "white"
             }
            },
            "header": {
             "fill": {
              "color": "#C8D4E3"
             },
             "line": {
              "color": "white"
             }
            },
            "type": "table"
           }
          ]
         },
         "layout": {
          "annotationdefaults": {
           "arrowcolor": "#2a3f5f",
           "arrowhead": 0,
           "arrowwidth": 1
          },
          "autotypenumbers": "strict",
          "coloraxis": {
           "colorbar": {
            "outlinewidth": 0,
            "ticks": ""
           }
          },
          "colorscale": {
           "diverging": [
            [
             0,
             "#8e0152"
            ],
            [
             0.1,
             "#c51b7d"
            ],
            [
             0.2,
             "#de77ae"
            ],
            [
             0.3,
             "#f1b6da"
            ],
            [
             0.4,
             "#fde0ef"
            ],
            [
             0.5,
             "#f7f7f7"
            ],
            [
             0.6,
             "#e6f5d0"
            ],
            [
             0.7,
             "#b8e186"
            ],
            [
             0.8,
             "#7fbc41"
            ],
            [
             0.9,
             "#4d9221"
            ],
            [
             1,
             "#276419"
            ]
           ],
           "sequential": [
            [
             0,
             "#0d0887"
            ],
            [
             0.1111111111111111,
             "#46039f"
            ],
            [
             0.2222222222222222,
             "#7201a8"
            ],
            [
             0.3333333333333333,
             "#9c179e"
            ],
            [
             0.4444444444444444,
             "#bd3786"
            ],
            [
             0.5555555555555556,
             "#d8576b"
            ],
            [
             0.6666666666666666,
             "#ed7953"
            ],
            [
             0.7777777777777778,
             "#fb9f3a"
            ],
            [
             0.8888888888888888,
             "#fdca26"
            ],
            [
             1,
             "#f0f921"
            ]
           ],
           "sequentialminus": [
            [
             0,
             "#0d0887"
            ],
            [
             0.1111111111111111,
             "#46039f"
            ],
            [
             0.2222222222222222,
             "#7201a8"
            ],
            [
             0.3333333333333333,
             "#9c179e"
            ],
            [
             0.4444444444444444,
             "#bd3786"
            ],
            [
             0.5555555555555556,
             "#d8576b"
            ],
            [
             0.6666666666666666,
             "#ed7953"
            ],
            [
             0.7777777777777778,
             "#fb9f3a"
            ],
            [
             0.8888888888888888,
             "#fdca26"
            ],
            [
             1,
             "#f0f921"
            ]
           ]
          },
          "colorway": [
           "#636efa",
           "#EF553B",
           "#00cc96",
           "#ab63fa",
           "#FFA15A",
           "#19d3f3",
           "#FF6692",
           "#B6E880",
           "#FF97FF",
           "#FECB52"
          ],
          "font": {
           "color": "#2a3f5f"
          },
          "geo": {
           "bgcolor": "white",
           "lakecolor": "white",
           "landcolor": "#E5ECF6",
           "showlakes": true,
           "showland": true,
           "subunitcolor": "white"
          },
          "hoverlabel": {
           "align": "left"
          },
          "hovermode": "closest",
          "mapbox": {
           "style": "light"
          },
          "paper_bgcolor": "white",
          "plot_bgcolor": "#E5ECF6",
          "polar": {
           "angularaxis": {
            "gridcolor": "white",
            "linecolor": "white",
            "ticks": ""
           },
           "bgcolor": "#E5ECF6",
           "radialaxis": {
            "gridcolor": "white",
            "linecolor": "white",
            "ticks": ""
           }
          },
          "scene": {
           "xaxis": {
            "backgroundcolor": "#E5ECF6",
            "gridcolor": "white",
            "gridwidth": 2,
            "linecolor": "white",
            "showbackground": true,
            "ticks": "",
            "zerolinecolor": "white"
           },
           "yaxis": {
            "backgroundcolor": "#E5ECF6",
            "gridcolor": "white",
            "gridwidth": 2,
            "linecolor": "white",
            "showbackground": true,
            "ticks": "",
            "zerolinecolor": "white"
           },
           "zaxis": {
            "backgroundcolor": "#E5ECF6",
            "gridcolor": "white",
            "gridwidth": 2,
            "linecolor": "white",
            "showbackground": true,
            "ticks": "",
            "zerolinecolor": "white"
           }
          },
          "shapedefaults": {
           "line": {
            "color": "#2a3f5f"
           }
          },
          "ternary": {
           "aaxis": {
            "gridcolor": "white",
            "linecolor": "white",
            "ticks": ""
           },
           "baxis": {
            "gridcolor": "white",
            "linecolor": "white",
            "ticks": ""
           },
           "bgcolor": "#E5ECF6",
           "caxis": {
            "gridcolor": "white",
            "linecolor": "white",
            "ticks": ""
           }
          },
          "title": {
           "x": 0.05
          },
          "xaxis": {
           "automargin": true,
           "gridcolor": "white",
           "linecolor": "white",
           "ticks": "",
           "title": {
            "standoff": 15
           },
           "zerolinecolor": "white",
           "zerolinewidth": 2
          },
          "yaxis": {
           "automargin": true,
           "gridcolor": "white",
           "linecolor": "white",
           "ticks": "",
           "title": {
            "standoff": 15
           },
           "zerolinecolor": "white",
           "zerolinewidth": 2
          }
         }
        },
        "title": {
         "text": "Optimization metrics"
        },
        "width": 900,
        "xaxis": {
         "anchor": "y",
         "domain": [
          0,
          0.45
         ],
         "range": [
          0,
          50
         ],
         "title": {
          "text": "iteration"
         }
        },
        "xaxis2": {
         "anchor": "y2",
         "domain": [
          0.55,
          1
         ],
         "range": [
          0,
          50
         ],
         "title": {
          "text": "iteration"
         }
        },
        "xaxis3": {
         "anchor": "y3",
         "domain": [
          0,
          0.45
         ],
         "range": [
          0,
          50
         ],
         "title": {
          "text": "iteration"
         }
        },
        "yaxis": {
         "anchor": "x",
         "domain": [
          0.625,
          1
         ],
         "title": {
          "text": "f"
         },
         "type": "log"
        },
        "yaxis2": {
         "anchor": "x2",
         "domain": [
          0.625,
          1
         ],
         "title": {
          "text": "t"
         }
        },
        "yaxis3": {
         "anchor": "x3",
         "domain": [
          0,
          0.375
         ],
         "title": {
          "text": "||grad f||"
         },
         "type": "log"
        }
       }
      }
     },
     "metadata": {},
     "output_type": "display_data"
    },
    {
     "name": "stdout",
     "output_type": "stream",
     "text": [
      "Saved 3D trajectory video to opt_path_goldstein.mp4\n"
     ]
    }
   ],
   "source": [
    "show_isosurface_with_path(f, history, grid_range=(-1.2, 1.2), vol_n=50)\n",
    "plot_metrics(history, log_f=True, log_grad=True)\n",
    "save_video_xyz(history, filename=\"opt_path_goldstein.mp4\", fps=8)\n",
    "\n"
   ]
  },
  {
   "cell_type": "markdown",
   "id": "b4ec09b1",
   "metadata": {},
   "source": [
    "### Додаткові стартові точки\n",
    "Нижче визначені кілька репрезентативних точок для запуску алгоритмів. Вони також відображаються на інтерактивній ізоповерхні (натисніть Render, щоб оновити).\n"
   ]
  },
  {
   "cell_type": "code",
   "execution_count": 165,
   "id": "8fbeb67e",
   "metadata": {},
   "outputs": [
    {
     "name": "stdout",
     "output_type": "stream",
     "text": [
      "Додано 6 точок. Вони будуть показані на ізоповерхні.\n"
     ]
    }
   ],
   "source": [
    "demo_points = {\n",
    "    \"A: середній масштаб (+ + +)\": [1.0, 1.0, 1.0],\n",
    "    \"B: далекі точки (-10,10,1)\": [-10.0, 10.0, 1.0],\n",
    "    \"C: змішані знаки (0.5,-0.8,0.2)\": [0.5, -0.8, 0.2],\n",
    "    \"D: жорстка вісь x1 (3,0,0)\": [3.0, 0.0, 0.0],\n",
    "    \"E: жорстка вісь x3 (0,0,3)\": [0.0, 0.0, 3.0],\n",
    "    \"F: поблизу мінімуму (1e-3,-1e-3,2e-3)\": [1e-3, -1e-3, 2e-3],\n",
    "}\n",
    "print(\"Додано\", len(demo_points), \"точок. Вони будуть показані на ізоповерхні.\")\n"
   ]
  },
  {
   "cell_type": "markdown",
   "id": "86f0ebe2",
   "metadata": {},
   "source": [
    "### Порівняння методів на різних стартових точках\n",
    "Запускаємо обидва методи (простий поділ кроку та Ґольдштейна) з різних початкових точок для порівняння."
   ]
  },
  {
   "cell_type": "code",
   "execution_count": 166,
   "id": "e8bbb01a",
   "metadata": {},
   "outputs": [
    {
     "name": "stdout",
     "output_type": "stream",
     "text": [
      "============================================================\n",
      "Точка A: середній масштаб [1.0, 1.0, 1.0]\n",
      "============================================================\n",
      "\n",
      "[Простий поділ кроку]\n",
      "  Знайдено мінімум: x = [ 4.22772933e-09  1.08354738e-07 -7.76895124e-09]\n",
      "  f(x) = 5.000000\n",
      "  Кількість ітерацій: 441\n",
      "  Середній крок: 0.005137\n",
      "\n",
      "[Метод Ґольдштейна, c=0.1]\n",
      "  Знайдено мінімум: x = [ 6.49604200e-09  1.01464886e-07 -8.24576925e-09]\n",
      "  f(x) = 5.000000\n",
      "  Кількість ітерацій: 382\n",
      "  Середній крок: 0.005915\n"
     ]
    }
   ],
   "source": [
    "import pandas as pd\n",
    "\n",
    "# Точка A: середній масштаб (+ + +)\n",
    "print(\"=\" * 60)\n",
    "print(\"Точка A: середній масштаб [1.0, 1.0, 1.0]\")\n",
    "print(\"=\" * 60)\n",
    "\n",
    "x0_A = np.array([1.0, 1.0, 1.0])\n",
    "\n",
    "# Метод з простим поділом кроку\n",
    "x_min_simple, hist_simple = gd_back_tracking(\n",
    "    f, grad_f, x0_A, split_step_cond, max_iters=2000, tol=1e-6\n",
    ")\n",
    "print(f\"\\n[Простий поділ кроку]\")\n",
    "print(f\"  Знайдено мінімум: x = {x_min_simple}\")\n",
    "print(f\"  f(x) = {f(x_min_simple):.6f}\")\n",
    "print(f\"  Кількість ітерацій: {len(hist_simple['t'])}\")\n",
    "print(f\"  Середній крок: {np.mean(hist_simple['t']):.6f}\")\n",
    "\n",
    "# Метод Ґольдштейна\n",
    "x_min_gold, hist_gold = gd_back_tracking(\n",
    "    f, grad_f, x0_A, goldstein_cond, max_iters=2000, tol=1e-6, c=0.1\n",
    ")\n",
    "print(f\"\\n[Метод Ґольдштейна, c=0.1]\")\n",
    "print(f\"  Знайдено мінімум: x = {x_min_gold}\")\n",
    "print(f\"  f(x) = {f(x_min_gold):.6f}\")\n",
    "print(f\"  Кількість ітерацій: {len(hist_gold['t'])}\")\n",
    "print(f\"  Середній крок: {np.mean(hist_gold['t']):.6f}\")\n",
    "\n",
    "# Збереження результатів для підсумкової таблиці\n",
    "results = []\n",
    "results.append({\n",
    "    \"Точка\": \"A: (1,1,1)\",\n",
    "    \"Метод\": \"Простий\",\n",
    "    \"Ітерації\": len(hist_simple['t']),\n",
    "    \"f(x*)\": f(x_min_simple),\n",
    "    \"Середній крок\": np.mean(hist_simple['t'])\n",
    "})\n",
    "results.append({\n",
    "    \"Точка\": \"A: (1,1,1)\",\n",
    "    \"Метод\": \"Ґольдштейн\",\n",
    "    \"Ітерації\": len(hist_gold['t']),\n",
    "    \"f(x*)\": f(x_min_gold),\n",
    "    \"Середній крок\": np.mean(hist_gold['t'])\n",
    "})"
   ]
  },
  {
   "cell_type": "code",
   "execution_count": 167,
   "id": "601a2c55",
   "metadata": {},
   "outputs": [
    {
     "name": "stdout",
     "output_type": "stream",
     "text": [
      "\n",
      "============================================================\n",
      "Точка B: далекі точки [-10.0, 10.0, 1.0]\n",
      "============================================================\n",
      "\n",
      "[Простий поділ кроку]\n",
      "  Знайдено мінімум: x = [ 6.62866233e-09  1.02720647e-07 -8.36780425e-09]\n",
      "  f(x) = 5.000000\n",
      "  Кількість ітерацій: 505\n",
      "  Середній крок: 0.005136\n",
      "\n",
      "[Метод Ґольдштейна, c=0.1]\n",
      "  Знайдено мінімум: x = [ 4.79519223e-09  1.11047323e-07 -8.13894307e-09]\n",
      "  f(x) = 5.000000\n",
      "  Кількість ітерацій: 434\n",
      "  Середній крок: 0.005912\n"
     ]
    }
   ],
   "source": [
    "# Точка B: далекі точки (-10, 10, 1)\n",
    "print(\"\\n\" + \"=\" * 60)\n",
    "print(\"Точка B: далекі точки [-10.0, 10.0, 1.0]\")\n",
    "print(\"=\" * 60)\n",
    "\n",
    "x0_B = np.array([-10.0, 10.0, 1.0])\n",
    "\n",
    "# Метод з простим поділом кроку\n",
    "x_min_simple, hist_simple = gd_back_tracking(\n",
    "    f, grad_f, x0_B, split_step_cond, max_iters=2000, tol=1e-6\n",
    ")\n",
    "print(f\"\\n[Простий поділ кроку]\")\n",
    "print(f\"  Знайдено мінімум: x = {x_min_simple}\")\n",
    "print(f\"  f(x) = {f(x_min_simple):.6f}\")\n",
    "print(f\"  Кількість ітерацій: {len(hist_simple['t'])}\")\n",
    "print(f\"  Середній крок: {np.mean(hist_simple['t']):.6f}\")\n",
    "\n",
    "# Метод Ґольдштейна\n",
    "x_min_gold, hist_gold = gd_back_tracking(\n",
    "    f, grad_f, x0_B, goldstein_cond, max_iters=2000, tol=1e-6, c=0.1\n",
    ")\n",
    "print(f\"\\n[Метод Ґольдштейна, c=0.1]\")\n",
    "print(f\"  Знайдено мінімум: x = {x_min_gold}\")\n",
    "print(f\"  f(x) = {f(x_min_gold):.6f}\")\n",
    "print(f\"  Кількість ітерацій: {len(hist_gold['t'])}\")\n",
    "print(f\"  Середній крок: {np.mean(hist_gold['t']):.6f}\")\n",
    "\n",
    "results.append({\n",
    "    \"Точка\": \"B: (-10,10,1)\",\n",
    "    \"Метод\": \"Простий\",\n",
    "    \"Ітерації\": len(hist_simple['t']),\n",
    "    \"f(x*)\": f(x_min_simple),\n",
    "    \"Середній крок\": np.mean(hist_simple['t'])\n",
    "})\n",
    "results.append({\n",
    "    \"Точка\": \"B: (-10,10,1)\",\n",
    "    \"Метод\": \"Ґольдштейн\",\n",
    "    \"Ітерації\": len(hist_gold['t']),\n",
    "    \"f(x*)\": f(x_min_gold),\n",
    "    \"Середній крок\": np.mean(hist_gold['t'])\n",
    "})"
   ]
  },
  {
   "cell_type": "code",
   "execution_count": 168,
   "id": "601e6bdb",
   "metadata": {},
   "outputs": [
    {
     "name": "stdout",
     "output_type": "stream",
     "text": [
      "\n",
      "============================================================\n",
      "Точка C: змішані знаки [0.5, -0.8, 0.2]\n",
      "============================================================\n",
      "\n",
      "[Простий поділ кроку]\n",
      "  Ітерації: 435, f(x*) = 5.000000, середній крок: 0.005136\n",
      "[Метод Ґольдштейна]\n",
      "  Ітерації: 374, f(x*) = 5.000000, середній крок: 0.005916\n",
      "\n",
      "============================================================\n",
      "Точка D: жорстка вісь x1 [3.0, 0.0, 0.0]\n",
      "============================================================\n",
      "\n",
      "[Простий поділ кроку]\n",
      "  Ітерації: 396, f(x*) = 5.000000, середній крок: 0.005110\n",
      "[Метод Ґольдштейна]\n",
      "  Ітерації: 338, f(x*) = 5.000000, середній крок: 0.005889\n",
      "[Метод Ґольдштейна]\n",
      "  Ітерації: 338, f(x*) = 5.000000, середній крок: 0.005889\n"
     ]
    }
   ],
   "source": [
    "# Точка C: змішані знаки (0.5, -0.8, 0.2)\n",
    "print(\"\\n\" + \"=\" * 60)\n",
    "print(\"Точка C: змішані знаки [0.5, -0.8, 0.2]\")\n",
    "print(\"=\" * 60)\n",
    "\n",
    "x0_C = np.array([0.5, -0.8, 0.2])\n",
    "\n",
    "x_min_simple, hist_simple = gd_back_tracking(\n",
    "    f, grad_f, x0_C, split_step_cond, max_iters=2000, tol=1e-6\n",
    ")\n",
    "print(f\"\\n[Простий поділ кроку]\")\n",
    "print(f\"  Ітерації: {len(hist_simple['t'])}, f(x*) = {f(x_min_simple):.6f}, середній крок: {np.mean(hist_simple['t']):.6f}\")\n",
    "\n",
    "x_min_gold, hist_gold = gd_back_tracking(\n",
    "    f, grad_f, x0_C, goldstein_cond, max_iters=2000, tol=1e-6, c=0.1\n",
    ")\n",
    "print(f\"[Метод Ґольдштейна]\")\n",
    "print(f\"  Ітерації: {len(hist_gold['t'])}, f(x*) = {f(x_min_gold):.6f}, середній крок: {np.mean(hist_gold['t']):.6f}\")\n",
    "\n",
    "results.extend([\n",
    "    {\"Точка\": \"C: (0.5,-0.8,0.2)\", \"Метод\": \"Простий\", \"Ітерації\": len(hist_simple['t']), \"f(x*)\": f(x_min_simple), \"Середній крок\": np.mean(hist_simple['t'])},\n",
    "    {\"Точка\": \"C: (0.5,-0.8,0.2)\", \"Метод\": \"Ґольдштейн\", \"Ітерації\": len(hist_gold['t']), \"f(x*)\": f(x_min_gold), \"Середній крок\": np.mean(hist_gold['t'])}\n",
    "])\n",
    "\n",
    "# Точка D: жорстка вісь x1 (3, 0, 0)\n",
    "print(\"\\n\" + \"=\" * 60)\n",
    "print(\"Точка D: жорстка вісь x1 [3.0, 0.0, 0.0]\")\n",
    "print(\"=\" * 60)\n",
    "\n",
    "x0_D = np.array([3.0, 0.0, 0.0])\n",
    "\n",
    "x_min_simple, hist_simple = gd_back_tracking(\n",
    "    f, grad_f, x0_D, split_step_cond, max_iters=2000, tol=1e-6\n",
    ")\n",
    "print(f\"\\n[Простий поділ кроку]\")\n",
    "print(f\"  Ітерації: {len(hist_simple['t'])}, f(x*) = {f(x_min_simple):.6f}, середній крок: {np.mean(hist_simple['t']):.6f}\")\n",
    "\n",
    "x_min_gold, hist_gold = gd_back_tracking(\n",
    "    f, grad_f, x0_D, goldstein_cond, max_iters=2000, tol=1e-6, c=0.1\n",
    ")\n",
    "print(f\"[Метод Ґольдштейна]\")\n",
    "print(f\"  Ітерації: {len(hist_gold['t'])}, f(x*) = {f(x_min_gold):.6f}, середній крок: {np.mean(hist_gold['t']):.6f}\")\n",
    "\n",
    "results.extend([\n",
    "    {\"Точка\": \"D: (3,0,0)\", \"Метод\": \"Простий\", \"Ітерації\": len(hist_simple['t']), \"f(x*)\": f(x_min_simple), \"Середній крок\": np.mean(hist_simple['t'])},\n",
    "    {\"Точка\": \"D: (3,0,0)\", \"Метод\": \"Ґольдштейн\", \"Ітерації\": len(hist_gold['t']), \"f(x*)\": f(x_min_gold), \"Середній крок\": np.mean(hist_gold['t'])}\n",
    "])"
   ]
  },
  {
   "cell_type": "code",
   "execution_count": 169,
   "id": "a730af75",
   "metadata": {},
   "outputs": [
    {
     "name": "stdout",
     "output_type": "stream",
     "text": [
      "\n",
      "============================================================\n",
      "Точка E: жорстка вісь x3 [0.0, 0.0, 3.0]\n",
      "============================================================\n",
      "\n",
      "[Простий поділ кроку]\n",
      "  Ітерації: 406, f(x*) = 5.000000, середній крок: 0.005119\n",
      "[Метод Ґольдштейна]\n",
      "  Ітерації: 349, f(x*) = 5.000000, середній крок: 0.005901\n",
      "\n",
      "============================================================\n",
      "Точка F: поблизу мінімуму [1e-3, -1e-3, 2e-3]\n",
      "============================================================\n",
      "\n",
      "[Простий поділ кроку]\n",
      "  Ітерації: 256, f(x*) = 5.000000, середній крок: 0.005127\n",
      "[Метод Ґольдштейна]\n",
      "  Ітерації: 218, f(x*) = 5.000000, середній крок: 0.005892\n",
      "[Метод Ґольдштейна]\n",
      "  Ітерації: 349, f(x*) = 5.000000, середній крок: 0.005901\n",
      "\n",
      "============================================================\n",
      "Точка F: поблизу мінімуму [1e-3, -1e-3, 2e-3]\n",
      "============================================================\n",
      "\n",
      "[Простий поділ кроку]\n",
      "  Ітерації: 256, f(x*) = 5.000000, середній крок: 0.005127\n",
      "[Метод Ґольдштейна]\n",
      "  Ітерації: 218, f(x*) = 5.000000, середній крок: 0.005892\n"
     ]
    }
   ],
   "source": [
    "# Точка E: жорстка вісь x3 (0, 0, 3)\n",
    "print(\"\\n\" + \"=\" * 60)\n",
    "print(\"Точка E: жорстка вісь x3 [0.0, 0.0, 3.0]\")\n",
    "print(\"=\" * 60)\n",
    "\n",
    "x0_E = np.array([0.0, 0.0, 3.0])\n",
    "\n",
    "x_min_simple, hist_simple = gd_back_tracking(\n",
    "    f, grad_f, x0_E, split_step_cond, max_iters=2000, tol=1e-6\n",
    ")\n",
    "print(f\"\\n[Простий поділ кроку]\")\n",
    "print(f\"  Ітерації: {len(hist_simple['t'])}, f(x*) = {f(x_min_simple):.6f}, середній крок: {np.mean(hist_simple['t']):.6f}\")\n",
    "\n",
    "x_min_gold, hist_gold = gd_back_tracking(\n",
    "    f, grad_f, x0_E, goldstein_cond, max_iters=2000, tol=1e-6, c=0.1\n",
    ")\n",
    "print(f\"[Метод Ґольдштейна]\")\n",
    "print(f\"  Ітерації: {len(hist_gold['t'])}, f(x*) = {f(x_min_gold):.6f}, середній крок: {np.mean(hist_gold['t']):.6f}\")\n",
    "\n",
    "results.extend([\n",
    "    {\"Точка\": \"E: (0,0,3)\", \"Метод\": \"Простий\", \"Ітерації\": len(hist_simple['t']), \"f(x*)\": f(x_min_simple), \"Середній крок\": np.mean(hist_simple['t'])},\n",
    "    {\"Точка\": \"E: (0,0,3)\", \"Метод\": \"Ґольдштейн\", \"Ітерації\": len(hist_gold['t']), \"f(x*)\": f(x_min_gold), \"Середній крок\": np.mean(hist_gold['t'])}\n",
    "])\n",
    "\n",
    "# Точка F: поблизу мінімуму (1e-3, -1e-3, 2e-3)\n",
    "print(\"\\n\" + \"=\" * 60)\n",
    "print(\"Точка F: поблизу мінімуму [1e-3, -1e-3, 2e-3]\")\n",
    "print(\"=\" * 60)\n",
    "\n",
    "x0_F = np.array([1e-3, -1e-3, 2e-3])\n",
    "\n",
    "x_min_simple, hist_simple = gd_back_tracking(\n",
    "    f, grad_f, x0_F, split_step_cond, max_iters=2000, tol=1e-6\n",
    ")\n",
    "print(f\"\\n[Простий поділ кроку]\")\n",
    "print(f\"  Ітерації: {len(hist_simple['t'])}, f(x*) = {f(x_min_simple):.6f}, середній крок: {np.mean(hist_simple['t']):.6f}\")\n",
    "\n",
    "x_min_gold, hist_gold = gd_back_tracking(\n",
    "    f, grad_f, x0_F, goldstein_cond, max_iters=2000, tol=1e-6, c=0.1\n",
    ")\n",
    "print(f\"[Метод Ґольдштейна]\")\n",
    "print(f\"  Ітерації: {len(hist_gold['t'])}, f(x*) = {f(x_min_gold):.6f}, середній крок: {np.mean(hist_gold['t']):.6f}\")\n",
    "\n",
    "results.extend([\n",
    "    {\"Точка\": \"F: (~0,~0,~0)\", \"Метод\": \"Простий\", \"Ітерації\": len(hist_simple['t']), \"f(x*)\": f(x_min_simple), \"Середній крок\": np.mean(hist_simple['t'])},\n",
    "    {\"Точка\": \"F: (~0,~0,~0)\", \"Метод\": \"Ґольдштейн\", \"Ітерації\": len(hist_gold['t']), \"f(x*)\": f(x_min_gold), \"Середній крок\": np.mean(hist_gold['t'])}\n",
    "])"
   ]
  },
  {
   "cell_type": "markdown",
   "id": "57e337d5",
   "metadata": {},
   "source": [
    "### Зведена таблиця результатів\n",
    "Порівняння ефективності обох методів на всіх тестових точках."
   ]
  },
  {
   "cell_type": "code",
   "execution_count": 170,
   "id": "b587db04",
   "metadata": {},
   "outputs": [
    {
     "name": "stdout",
     "output_type": "stream",
     "text": [
      "\n",
      "================================================================================\n",
      "ПІДСУМКОВА ТАБЛИЦЯ ПОРІВНЯННЯ МЕТОДІВ\n",
      "================================================================================\n",
      "            Точка      Метод  Ітерації  f(x*)  Середній крок\n",
      "       A: (1,1,1)    Простий       441    5.0       0.005137\n",
      "       A: (1,1,1) Ґольдштейн       382    5.0       0.005915\n",
      "    B: (-10,10,1)    Простий       505    5.0       0.005136\n",
      "    B: (-10,10,1) Ґольдштейн       434    5.0       0.005912\n",
      "C: (0.5,-0.8,0.2)    Простий       435    5.0       0.005136\n",
      "C: (0.5,-0.8,0.2) Ґольдштейн       374    5.0       0.005916\n",
      "       D: (3,0,0)    Простий       396    5.0       0.005110\n",
      "       D: (3,0,0) Ґольдштейн       338    5.0       0.005889\n",
      "       E: (0,0,3)    Простий       406    5.0       0.005119\n",
      "       E: (0,0,3) Ґольдштейн       349    5.0       0.005901\n",
      "    F: (~0,~0,~0)    Простий       256    5.0       0.005127\n",
      "    F: (~0,~0,~0) Ґольдштейн       218    5.0       0.005892\n",
      "================================================================================\n",
      "\n",
      "Середні показники по методах:\n",
      "--------------------------------------------------------------------------------\n",
      "           Ітерації         Середній крок     \n",
      "               mean     std          mean  std\n",
      "Метод                                         \n",
      "Простий     406.500  83.025         0.005  0.0\n",
      "Ґольдштейн  349.167  72.417         0.006  0.0\n",
      "\n",
      "Порівняння по точках (менше ітерацій = краще):\n",
      "--------------------------------------------------------------------------------\n",
      "  A: (1,1,1): Ґольдштейн (різниця: 59 ітерацій)\n",
      "  B: (-10,10,1): Ґольдштейн (різниця: 71 ітерацій)\n",
      "  C: (0.5,-0.8,0.2): Ґольдштейн (різниця: 61 ітерацій)\n",
      "  D: (3,0,0): Ґольдштейн (різниця: 58 ітерацій)\n",
      "  E: (0,0,3): Ґольдштейн (різниця: 57 ітерацій)\n",
      "  F: (~0,~0,~0): Ґольдштейн (різниця: 38 ітерацій)\n"
     ]
    }
   ],
   "source": [
    "# Створення та відображення підсумкової таблиці\n",
    "df_results = pd.DataFrame(results)\n",
    "df_results = df_results.round({\"f(x*)\": 6, \"Середній крок\": 6})\n",
    "\n",
    "print(\"\\n\" + \"=\" * 80)\n",
    "print(\"ПІДСУМКОВА ТАБЛИЦЯ ПОРІВНЯННЯ МЕТОДІВ\")\n",
    "print(\"=\" * 80)\n",
    "print(df_results.to_string(index=False))\n",
    "print(\"=\" * 80)\n",
    "\n",
    "# Групування за методом для аналізу\n",
    "print(\"\\n\" + \"Середні показники по методах:\")\n",
    "print(\"-\" * 80)\n",
    "grouped = df_results.groupby(\"Метод\").agg({\n",
    "    \"Ітерації\": [\"mean\", \"std\"],\n",
    "    \"Середній крок\": [\"mean\", \"std\"]\n",
    "})\n",
    "print(grouped.round(3))\n",
    "\n",
    "# Виділення кращих результатів для кожної точки\n",
    "print(\"\\n\" + \"Порівняння по точках (менше ітерацій = краще):\")\n",
    "print(\"-\" * 80)\n",
    "for point in df_results[\"Точка\"].unique():\n",
    "    subset = df_results[df_results[\"Точка\"] == point]\n",
    "    best_method = subset.loc[subset[\"Ітерації\"].idxmin(), \"Метод\"]\n",
    "    iters_simple = subset[subset[\"Метод\"] == \"Простий\"][\"Ітерації\"].values[0]\n",
    "    iters_gold = subset[subset[\"Метод\"] == \"Ґольдштейн\"][\"Ітерації\"].values[0]\n",
    "    diff = abs(iters_simple - iters_gold)\n",
    "    print(f\"  {point}: {best_method} (різниця: {diff} ітерацій)\")"
   ]
  }
 ],
 "metadata": {
  "kernelspec": {
   "display_name": "LAB_1_GD_V9",
   "language": "python",
   "name": "python3"
  },
  "language_info": {
   "codemirror_mode": {
    "name": "ipython",
    "version": 3
   },
   "file_extension": ".py",
   "mimetype": "text/x-python",
   "name": "python",
   "nbconvert_exporter": "python",
   "pygments_lexer": "ipython3",
   "version": "3.13.7"
  }
 },
 "nbformat": 4,
 "nbformat_minor": 5
}
